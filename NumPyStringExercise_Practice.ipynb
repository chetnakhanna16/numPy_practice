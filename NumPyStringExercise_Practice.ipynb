{
 "cells": [
  {
   "cell_type": "code",
   "execution_count": 1,
   "metadata": {},
   "outputs": [],
   "source": [
    "import numpy as np"
   ]
  },
  {
   "cell_type": "code",
   "execution_count": 2,
   "metadata": {},
   "outputs": [
    {
     "name": "stdout",
     "output_type": "stream",
     "text": [
      "['Tom' 'Male']\n",
      "[' Gina' ' Female']\n",
      "['Tom Gina' 'Male Female']\n"
     ]
    }
   ],
   "source": [
    "# 1. Write a NumPy program to concatenate element-wise two arrays of string. \n",
    "\n",
    "x = np.array(['Tom', 'Male'], dtype = np.str)\n",
    "print(x)\n",
    "\n",
    "y = np.array([' Gina', ' Female'], dtype = np.str)\n",
    "print(y)\n",
    "\n",
    "print(np.char.add(x,y))"
   ]
  },
  {
   "cell_type": "code",
   "execution_count": 3,
   "metadata": {},
   "outputs": [
    {
     "name": "stdout",
     "output_type": "stream",
     "text": [
      "['Tom' 'Male']\n",
      "['TomTomTom' 'MaleMaleMale']\n"
     ]
    }
   ],
   "source": [
    "# 2. Write a NumPy program to repeat all the elements three times of a given array of string. \n",
    "\n",
    "x = np.array(['Tom', 'Male'], dtype = np.str)\n",
    "print(x)\n",
    "\n",
    "print(np.char.multiply(x, 3))"
   ]
  },
  {
   "cell_type": "code",
   "execution_count": 4,
   "metadata": {},
   "outputs": [
    {
     "name": "stdout",
     "output_type": "stream",
     "text": [
      "['Tom' 'male' 'GRADUATE STUDENT']\n",
      "['Tom' 'Male' 'Graduate student']\n",
      "['tom' 'male' 'graduate student']\n",
      "['TOM' 'MALE' 'GRADUATE STUDENT']\n",
      "['tOM' 'MALE' 'graduate student']\n",
      "['Tom' 'Male' 'Graduate Student']\n"
     ]
    }
   ],
   "source": [
    "# 3. Write a NumPy program to capitalize the first letter, lowercase, uppercase, swapcase, title-case of all the \n",
    "# elements of a given array.\n",
    "\n",
    "x = np.array(['Tom', 'male', 'GRADUATE STUDENT'], dtype = np.str)\n",
    "print(x)\n",
    "\n",
    "print(np.char.capitalize(x))\n",
    "print(np.char.lower(x))\n",
    "print(np.char.upper(x))\n",
    "print(np.char.swapcase(x))\n",
    "print(np.char.title(x))"
   ]
  },
  {
   "cell_type": "code",
   "execution_count": 5,
   "metadata": {},
   "outputs": [
    {
     "name": "stdout",
     "output_type": "stream",
     "text": [
      "['Tom' 'male' 'GRADUATE STUDENT']\n",
      "['______Tom______' '______male_____' 'GRADUATE STUDEN']\n",
      "['Tom____________' 'male___________' 'GRADUATE STUDEN']\n",
      "['____________Tom' '___________male' 'GRADUATE STUDEN']\n"
     ]
    }
   ],
   "source": [
    "# 4. Write a NumPy program to make the length of each element 15 of a given array and the string centered / \n",
    "# left-justified / right-justified with paddings of _. \n",
    "\n",
    "x = np.array(['Tom', 'male', 'GRADUATE STUDENT'], dtype = np.str)\n",
    "print(x)\n",
    "\n",
    "print(np.char.center(x, 15, fillchar = '_'))\n",
    "print(np.char.ljust(x, 15, fillchar = '_'))\n",
    "print(np.char.rjust(x, 15, fillchar = '_'))"
   ]
  },
  {
   "cell_type": "code",
   "execution_count": 6,
   "metadata": {},
   "outputs": [
    {
     "name": "stdout",
     "output_type": "stream",
     "text": [
      "['Tom' 'male' 'GRADUATE STUDENT']\n",
      "['T o m' 'm a l e' 'G R A D U A T E   S T U D E N T']\n"
     ]
    }
   ],
   "source": [
    "# 5. Write a NumPy program to insert a space between characters of all the elements of a given array.\n",
    "\n",
    "x = np.array(['Tom', 'male', 'GRADUATE STUDENT'], dtype = np.str)\n",
    "print(x)\n",
    "\n",
    "print(np.char.join(\" \", x))"
   ]
  },
  {
   "cell_type": "code",
   "execution_count": 7,
   "metadata": {},
   "outputs": [
    {
     "name": "stdout",
     "output_type": "stream",
     "text": [
      "['Tom' 'male' 'GRADUATE STUDENT']\n",
      "[b'\\xe3\\x96\\x94' b'\\x94\\x81\\x93\\x85'\n",
      " b'\\xc7\\xd9\\xc1\\xc4\\xe4\\xc1\\xe3\\xc5@\\xe2\\xe3\\xe4\\xc4\\xc5\\xd5\\xe3']\n",
      "['Tom' 'male' 'GRADUATE STUDENT']\n"
     ]
    }
   ],
   "source": [
    "# 6. Write a NumPy program to encode all the elements of a given array in cp500 and decode it again.\n",
    "\n",
    "x = np.array(['Tom', 'male', 'GRADUATE STUDENT'], dtype = np.str)\n",
    "print(x)\n",
    "\n",
    "y = np.char.encode(x, 'cp500')\n",
    "print(y)\n",
    "\n",
    "print(np.char.decode(y, 'cp500'))"
   ]
  },
  {
   "cell_type": "code",
   "execution_count": 8,
   "metadata": {},
   "outputs": [
    {
     "name": "stdout",
     "output_type": "stream",
     "text": [
      "['Tom      ' '      male' 'GRADUATE STUDENT']\n",
      "['Tom' 'male' 'GRADUATE STUDENT']\n"
     ]
    }
   ],
   "source": [
    "# 7. Write a NumPy program to remove the leading and trailing whitespaces of all the elements of a given array. \n",
    "\n",
    "x = np.array(['Tom      ', '      male', 'GRADUATE STUDENT'], dtype = np.str)\n",
    "print(x)\n",
    "\n",
    "print(np.char.strip(x))"
   ]
  },
  {
   "cell_type": "code",
   "execution_count": 9,
   "metadata": {},
   "outputs": [
    {
     "name": "stdout",
     "output_type": "stream",
     "text": [
      "['Tom      ' '      male' 'GRADUATE STUDENT']\n",
      "['Tom      ' 'male' 'GRADUATE STUDENT']\n"
     ]
    }
   ],
   "source": [
    "# 8. Write a NumPy program to remove the leading whitespaces of all the elements of a given array.\n",
    "\n",
    "x = np.array(['Tom      ', '      male', 'GRADUATE STUDENT'], dtype = np.str)\n",
    "print(x)\n",
    "\n",
    "print(np.char.lstrip(x))"
   ]
  },
  {
   "cell_type": "code",
   "execution_count": 10,
   "metadata": {},
   "outputs": [
    {
     "name": "stdout",
     "output_type": "stream",
     "text": [
      "['Tom      ' 'male' 'GRADUATE STUDENT          ']\n",
      "['Tom' 'male' 'GRADUATE STUDENT']\n"
     ]
    }
   ],
   "source": [
    "# 9. Write a NumPy program to remove the trailing whitespaces of all the elements of a given array. \n",
    "\n",
    "x = np.array(['Tom      ', 'male', 'GRADUATE STUDENT          '], dtype = np.str)\n",
    "print(x)\n",
    "\n",
    "print(np.char.rstrip(x))"
   ]
  },
  {
   "cell_type": "code",
   "execution_count": 11,
   "metadata": {},
   "outputs": [
    {
     "name": "stdout",
     "output_type": "stream",
     "text": [
      "['Tom Amy' 'male female' 'GRADUATE STUDENT']\n",
      "[list(['Tom', 'Amy']) list(['male', 'female'])\n",
      " list(['GRADUATE', 'STUDENT'])]\n"
     ]
    }
   ],
   "source": [
    "# 10. Write a NumPy program to split the element of a given array with spaces.\n",
    "\n",
    "x = np.array(['Tom Amy', 'male female', 'GRADUATE STUDENT'], dtype = np.str)\n",
    "print(x)\n",
    "\n",
    "print(np.char.split(x))"
   ]
  },
  {
   "cell_type": "code",
   "execution_count": 12,
   "metadata": {},
   "outputs": [
    {
     "name": "stdout",
     "output_type": "stream",
     "text": [
      "['Tom\\\\Amy' 'male female' 'GRADUATE STUDENT']\n",
      "[list(['Tom\\\\Amy']) list(['male female']) list(['GRADUATE STUDENT'])]\n"
     ]
    }
   ],
   "source": [
    "# 11. Write a NumPy program to split the element of a given array to multiple lines. \n",
    "\n",
    "x = np.array(['Tom\\Amy', 'male female', 'GRADUATE STUDENT'], dtype = np.str)\n",
    "print(x)\n",
    "\n",
    "print(np.char.splitlines(x))"
   ]
  },
  {
   "cell_type": "code",
   "execution_count": 13,
   "metadata": {},
   "outputs": [
    {
     "name": "stdout",
     "output_type": "stream",
     "text": [
      "['567' '81912' '91']\n",
      "['00567' '81912' '00091']\n"
     ]
    }
   ],
   "source": [
    "# 12. Write a NumPy program to make all the elements of a given string to a numeric string of 5 digits with zeros \n",
    "# on its left.\n",
    "\n",
    "x = np.array(['567', '81912', '91'])\n",
    "print(x)\n",
    "\n",
    "print(np.char.zfill(x, 5))"
   ]
  },
  {
   "cell_type": "code",
   "execution_count": 14,
   "metadata": {},
   "outputs": [
    {
     "name": "stdout",
     "output_type": "stream",
     "text": [
      "['PHP' 'Java' 'C++']\n",
      "['Python' 'Java' 'C++']\n"
     ]
    }
   ],
   "source": [
    "# 13. Write a NumPy program to replace \"PHP\" with \"Python\" in the element of a given array. \n",
    "\n",
    "x = np.array(['PHP', 'Java', 'C++'])\n",
    "print(x)\n",
    "\n",
    "print(np.char.replace(x, 'PHP', 'Python'))"
   ]
  },
  {
   "cell_type": "code",
   "execution_count": 15,
   "metadata": {},
   "outputs": [
    {
     "name": "stdout",
     "output_type": "stream",
     "text": [
      "['Tom' 'Male' 'America']\n",
      "['Tom' 'Male' 'America']\n",
      "['tom' 'male' 'america']\n",
      "['tom  ' '   male' 'argentina']\n",
      "******\n",
      "Test Equal\n",
      "[ True  True  True]\n",
      "[False False False]\n",
      "[False False False]\n",
      "[ True False False]\n",
      "******\n",
      "Test Not Equal\n",
      "[False False False]\n",
      "[ True  True  True]\n",
      "[ True  True  True]\n",
      "[False  True  True]\n",
      "******\n",
      "Test Less Equal\n",
      "[ True  True  True]\n",
      "[ True  True  True]\n",
      "[ True False  True]\n",
      "[ True False  True]\n",
      "******\n",
      "Test Greater Equal\n",
      "[ True  True  True]\n",
      "[False False False]\n",
      "[False  True False]\n",
      "[ True  True False]\n",
      "******\n",
      "Test Less\n",
      "[False False False]\n",
      "[ True  True  True]\n",
      "[ True False  True]\n",
      "[False False  True]\n",
      "******\n",
      "Test Greater\n",
      "[False False False]\n",
      "[False False False]\n",
      "[False  True False]\n",
      "[False  True False]\n"
     ]
    }
   ],
   "source": [
    "# 14. Write a NumPy program to test equal, not equal, greater equal, greater and less test of all the elements of two \n",
    "# given arrays. \n",
    "\n",
    "a = np.array(['Tom', 'Male', 'America'], dtype = np.str)\n",
    "print(a)\n",
    "\n",
    "b = np.array(['Tom', 'Male', 'America'], dtype = np.str)\n",
    "print(b)\n",
    "\n",
    "c = np.array(['tom', 'male', 'america'], dtype = np.str)\n",
    "print(c)\n",
    "\n",
    "d = np.array(['tom  ', '   male', 'argentina'], dtype = np.str)\n",
    "print(d)\n",
    "\n",
    "print(\"******\")\n",
    "print(\"Test Equal\")\n",
    "print(np.char.equal(a,b))\n",
    "print(np.char.equal(a,c))\n",
    "print(np.char.equal(a,d))\n",
    "print(np.char.equal(c,d))\n",
    "\n",
    "print(\"******\")\n",
    "print(\"Test Not Equal\")\n",
    "print(np.char.not_equal(a,b))\n",
    "print(np.char.not_equal(a,c))\n",
    "print(np.char.not_equal(a,d))\n",
    "print(np.char.not_equal(c,d))\n",
    "\n",
    "print(\"******\")\n",
    "print(\"Test Less Equal\")\n",
    "print(np.char.less_equal(a,b))\n",
    "print(np.char.less_equal(a,c))\n",
    "print(np.char.less_equal(a,d))\n",
    "print(np.char.less_equal(c,d))\n",
    "\n",
    "print(\"******\")\n",
    "print(\"Test Greater Equal\")\n",
    "#This comparison is performed by first stripping whitespace characters from the end of the string.\n",
    "#Return (x1 >= x2) element-wise.\n",
    "print(np.char.greater_equal(a,b))\n",
    "print(np.char.greater_equal(a,c))\n",
    "print(np.char.greater_equal(a,d))\n",
    "print(np.char.greater_equal(c,d))\n",
    "\n",
    "print(\"******\")\n",
    "print(\"Test Less\")\n",
    "print(np.char.less(a,b))\n",
    "print(np.char.less(a,c))\n",
    "print(np.char.less(a,d))\n",
    "print(np.char.less(c,d))\n",
    "\n",
    "print(\"******\")\n",
    "print(\"Test Greater\")\n",
    "print(np.char.greater(a,b))\n",
    "print(np.char.greater(a,c))\n",
    "print(np.char.greater(a,d))\n",
    "print(np.char.greater(c,d))"
   ]
  },
  {
   "cell_type": "code",
   "execution_count": 16,
   "metadata": {},
   "outputs": [
    {
     "name": "stdout",
     "output_type": "stream",
     "text": [
      "['PHP' 'Python' 'C++' 'Java']\n",
      "[0 0 0 0]\n",
      "[2 1 0 0]\n"
     ]
    }
   ],
   "source": [
    "# 15. Write a NumPy program to count the number of \"P\" in a given array, element-wise.\n",
    "\n",
    "a = np.array(['PHP', 'Python', 'C++', 'Java'], dtype = np.str)\n",
    "print(a)\n",
    "\n",
    "print(np.char.count(a, 'p'))\n",
    "print(np.char.count(a, 'P'))"
   ]
  },
  {
   "cell_type": "code",
   "execution_count": 17,
   "metadata": {},
   "outputs": [
    {
     "name": "stdout",
     "output_type": "stream",
     "text": [
      "['PHP' 'Python' 'C++' 'Java' 'EXAMPLE']\n",
      "[ 0  0 -1 -1  4]\n"
     ]
    }
   ],
   "source": [
    "# 16. Write a NumPy program to count the lowest index of \"P\" in a given array, element-wise. \n",
    "\n",
    "a = np.array(['PHP', 'Python', 'C++', 'Java', 'EXAMPLE'], dtype = np.str)\n",
    "print(a)\n",
    "\n",
    "#Lowest index of \"P\" in \"PHP\" is 0, in C++ is -1 as it is not there\n",
    "print(np.char.find(a, 'P'))"
   ]
  },
  {
   "cell_type": "code",
   "execution_count": 18,
   "metadata": {},
   "outputs": [
    {
     "name": "stdout",
     "output_type": "stream",
     "text": [
      "['Tom' 'Male' 'America']\n",
      "['tom' 'male' 'america']\n",
      "['1235' '3546' '0192']\n",
      "['1235' 'Alpha' '0192']\n",
      "['tom' 'MALE' 'america']\n",
      "Is Digit?\n",
      "[False False False]\n",
      "[False False False]\n",
      "[ True  True  True]\n",
      "[ True False  True]\n",
      "[False False False]\n",
      "Is Lower?\n",
      "[False False False]\n",
      "[ True  True  True]\n",
      "[False False False]\n",
      "[False False False]\n",
      "[ True False  True]\n",
      "Is Upper?\n",
      "[False False False]\n",
      "[False False False]\n",
      "[False False False]\n",
      "[False False False]\n",
      "[False  True False]\n"
     ]
    }
   ],
   "source": [
    "# 17. Write a NumPy program to check whether each element of a given array is composed of digits only, lower case \n",
    "# letters only and upper case letters only. \n",
    "\n",
    "a = np.array(['Tom', 'Male', 'America'], dtype = np.str)\n",
    "print(a)\n",
    "\n",
    "b = np.array(['tom', 'male', 'america'], dtype = np.str)\n",
    "print(b)\n",
    "\n",
    "c = np.array(['1235', '3546', '0192'], dtype = np.str)\n",
    "print(c)\n",
    "\n",
    "d = np.array(['1235', 'Alpha', '0192'], dtype = np.str)\n",
    "print(d)\n",
    "\n",
    "e = np.array(['tom', 'MALE', 'america'], dtype = np.str)\n",
    "print(e)\n",
    "\n",
    "print(\"Is Digit?\")\n",
    "print(np.char.isdigit(a))\n",
    "print(np.char.isdigit(b))\n",
    "print(np.char.isdigit(c))\n",
    "print(np.char.isdigit(d))\n",
    "print(np.char.isdigit(e))\n",
    "\n",
    "print(\"Is Lower?\")\n",
    "print(np.char.islower(a))\n",
    "print(np.char.islower(b))\n",
    "print(np.char.islower(c))\n",
    "print(np.char.islower(d))\n",
    "print(np.char.islower(e))\n",
    "\n",
    "print(\"Is Upper?\")\n",
    "print(np.char.isupper(a))\n",
    "print(np.char.isupper(b))\n",
    "print(np.char.isupper(c))\n",
    "print(np.char.isupper(d))\n",
    "print(np.char.isupper(e))"
   ]
  },
  {
   "cell_type": "code",
   "execution_count": 19,
   "metadata": {},
   "outputs": [
    {
     "name": "stdout",
     "output_type": "stream",
     "text": [
      "['PHP' 'Python' 'C++' 'Java' 'EXAMPLE']\n",
      "[ True  True False False False]\n"
     ]
    }
   ],
   "source": [
    "# 18. Write a NumPy program to check whether each element of a given array starts with \"P\".\n",
    "\n",
    "a = np.array(['PHP', 'Python', 'C++', 'Java', 'EXAMPLE'], dtype = np.str)\n",
    "print(a)\n",
    "\n",
    "print(np.char.startswith(a,'P'))"
   ]
  }
 ],
 "metadata": {
  "kernelspec": {
   "display_name": "Python 3",
   "language": "python",
   "name": "python3"
  },
  "language_info": {
   "codemirror_mode": {
    "name": "ipython",
    "version": 3
   },
   "file_extension": ".py",
   "mimetype": "text/x-python",
   "name": "python",
   "nbconvert_exporter": "python",
   "pygments_lexer": "ipython3",
   "version": "3.7.4"
  }
 },
 "nbformat": 4,
 "nbformat_minor": 2
}

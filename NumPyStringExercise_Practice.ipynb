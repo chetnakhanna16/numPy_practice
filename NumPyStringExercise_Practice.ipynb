{
 "cells": [
  {
   "cell_type": "code",
   "execution_count": 1,
   "metadata": {},
   "outputs": [],
   "source": [
    "import numpy as np"
   ]
  },
  {
   "cell_type": "code",
   "execution_count": 7,
   "metadata": {},
   "outputs": [
    {
     "name": "stdout",
     "output_type": "stream",
     "text": [
      "['Tom' 'Male']\n",
      "[' Gina' ' Female']\n",
      "['Tom Gina' 'Male Female']\n"
     ]
    }
   ],
   "source": [
    "# 1. Write a NumPy program to concatenate element-wise two arrays of string. \n",
    "\n",
    "x = np.array(['Tom', 'Male'], dtype = np.str)\n",
    "print(x)\n",
    "\n",
    "y = np.array([' Gina', ' Female'], dtype = np.str)\n",
    "print(y)\n",
    "\n",
    "print(np.char.add(x,y))"
   ]
  },
  {
   "cell_type": "code",
   "execution_count": 11,
   "metadata": {},
   "outputs": [
    {
     "name": "stdout",
     "output_type": "stream",
     "text": [
      "['Tom' 'Male']\n",
      "['TomTomTom' 'MaleMaleMale']\n"
     ]
    }
   ],
   "source": [
    "# 2. Write a NumPy program to repeat all the elements three times of a given array of string. \n",
    "\n",
    "x = np.array(['Tom', 'Male'], dtype = np.str)\n",
    "print(x)\n",
    "\n",
    "print(np.char.multiply(x, 3))"
   ]
  },
  {
   "cell_type": "code",
   "execution_count": 19,
   "metadata": {},
   "outputs": [
    {
     "name": "stdout",
     "output_type": "stream",
     "text": [
      "['Tom' 'male' 'GRADUATE STUDENT']\n",
      "['Tom' 'Male' 'Graduate student']\n",
      "['tom' 'male' 'graduate student']\n",
      "['TOM' 'MALE' 'GRADUATE STUDENT']\n",
      "['tOM' 'MALE' 'graduate student']\n",
      "['Tom' 'Male' 'Graduate Student']\n"
     ]
    }
   ],
   "source": [
    "# 3. Write a NumPy program to capitalize the first letter, lowercase, uppercase, swapcase, title-case of all the \n",
    "# elements of a given array.\n",
    "\n",
    "x = np.array(['Tom', 'male', 'GRADUATE STUDENT'], dtype = np.str)\n",
    "print(x)\n",
    "\n",
    "print(np.char.capitalize(x))\n",
    "print(np.char.lower(x))\n",
    "print(np.char.upper(x))\n",
    "print(np.char.swapcase(x))\n",
    "print(np.char.title(x))"
   ]
  },
  {
   "cell_type": "code",
   "execution_count": null,
   "metadata": {},
   "outputs": [],
   "source": [
    "# 4. Write a NumPy program to make the length of each element 15 of a given array and the string centered / \n",
    "# left-justified / right-justified with paddings of _. \n",
    "\n"
   ]
  }
 ],
 "metadata": {
  "kernelspec": {
   "display_name": "Python 3",
   "language": "python",
   "name": "python3"
  },
  "language_info": {
   "codemirror_mode": {
    "name": "ipython",
    "version": 3
   },
   "file_extension": ".py",
   "mimetype": "text/x-python",
   "name": "python",
   "nbconvert_exporter": "python",
   "pygments_lexer": "ipython3",
   "version": "3.7.4"
  }
 },
 "nbformat": 4,
 "nbformat_minor": 2
}

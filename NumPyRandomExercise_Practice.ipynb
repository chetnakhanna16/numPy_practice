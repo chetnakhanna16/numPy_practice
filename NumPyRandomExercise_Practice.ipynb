{
 "cells": [
  {
   "cell_type": "code",
   "execution_count": 1,
   "metadata": {},
   "outputs": [],
   "source": [
    "import numpy as np"
   ]
  },
  {
   "cell_type": "code",
   "execution_count": 3,
   "metadata": {},
   "outputs": [
    {
     "name": "stdout",
     "output_type": "stream",
     "text": [
      "[-2.13104791  0.50696315  0.48970414  0.46509229 -0.790732  ]\n"
     ]
    }
   ],
   "source": [
    "# 1. Write a NumPy program to generate five random numbers from the normal distribution. \n",
    "\n",
    "#size defines how many random numbers you want to generate \n",
    "#normal to get numbers in normal distribution\n",
    "print(np.random.normal(size=5)) "
   ]
  },
  {
   "cell_type": "code",
   "execution_count": 5,
   "metadata": {},
   "outputs": [
    {
     "name": "stdout",
     "output_type": "stream",
     "text": [
      "[27 19 28 27 19 12]\n"
     ]
    }
   ],
   "source": [
    "# 2. Write a NumPy program to generate six random integers between 10 and 30.\n",
    "\n",
    "#randint for random integers\n",
    "print(np.random.randint(low=10, high=30, size=6))"
   ]
  },
  {
   "cell_type": "code",
   "execution_count": 6,
   "metadata": {},
   "outputs": [
    {
     "name": "stdout",
     "output_type": "stream",
     "text": [
      "[[[0.33756543 0.41366913 0.93522441]\n",
      "  [0.15280021 0.17672765 0.97312188]\n",
      "  [0.86427526 0.77059658 0.50812723]]\n",
      "\n",
      " [[0.10290498 0.69314183 0.01596975]\n",
      "  [0.20939369 0.28113083 0.41510861]\n",
      "  [0.25436676 0.49311265 0.5485813 ]]\n",
      "\n",
      " [[0.89014523 0.88187934 0.27403609]\n",
      "  [0.74655025 0.64747528 0.91128969]\n",
      "  [0.39069735 0.92161148 0.33754813]]]\n"
     ]
    }
   ],
   "source": [
    "# 3. Write a NumPy program to create a 3x3x3 array with random values. \n",
    "\n",
    "#random for any random values\n",
    "print(np.random.random((3,3,3)))"
   ]
  },
  {
   "cell_type": "code",
   "execution_count": 9,
   "metadata": {},
   "outputs": [
    {
     "name": "stdout",
     "output_type": "stream",
     "text": [
      "[[0.11001433 0.1937823  0.95843827 0.72681025 0.28841812]\n",
      " [0.47676413 0.4062704  0.62868342 0.44959016 0.16553678]\n",
      " [0.38835023 0.85810448 0.92447548 0.79858242 0.59691442]\n",
      " [0.6822069  0.11400708 0.18472984 0.37632925 0.8222329 ]\n",
      " [0.34964029 0.04497315 0.32194401 0.35481074 0.77072185]]\n",
      "0.04497315278033531\n",
      "0.9584382696211912\n"
     ]
    }
   ],
   "source": [
    "# 4. Write a NumPy program to create a 5x5 array with random values and find the minimum and maximum values. \n",
    "\n",
    "x = np.random.random((5,5))\n",
    "print(x)\n",
    "print(x.min())\n",
    "print(x.max())"
   ]
  },
  {
   "cell_type": "code",
   "execution_count": 11,
   "metadata": {},
   "outputs": [
    {
     "name": "stdout",
     "output_type": "stream",
     "text": [
      "[[0.95799216 0.98426636 0.69356625 0.21841283]\n",
      " [0.08651441 0.85078683 0.95704949 0.96552654]\n",
      " [0.69840472 0.95321945 0.01158414 0.66099685]\n",
      " [0.05222115 0.27550476 0.0898001  0.81714229]\n",
      " [0.48467224 0.36726942 0.53746363 0.50376039]\n",
      " [0.65752388 0.80613187 0.60998041 0.81148474]\n",
      " [0.9735853  0.21466943 0.69328747 0.12881128]\n",
      " [0.60125556 0.52658045 0.60326624 0.24317118]\n",
      " [0.9235313  0.24370791 0.55773382 0.58235755]\n",
      " [0.50012215 0.46194374 0.53930658 0.97582784]]\n",
      "[[0.95799216 0.98426636 0.69356625 0.21841283]\n",
      " [0.08651441 0.85078683 0.95704949 0.96552654]\n",
      " [0.69840472 0.95321945 0.01158414 0.66099685]\n",
      " [0.05222115 0.27550476 0.0898001  0.81714229]\n",
      " [0.48467224 0.36726942 0.53746363 0.50376039]]\n"
     ]
    }
   ],
   "source": [
    "# 5. Write a NumPy program to create a random 10x4 array and extract the first five rows of the array and store \n",
    "# them into a variable.\n",
    "\n",
    "x = np.random.random((10,4))\n",
    "print(x)\n",
    "\n",
    "print(x[:5,:])"
   ]
  },
  {
   "cell_type": "code",
   "execution_count": 22,
   "metadata": {},
   "outputs": [
    {
     "name": "stdout",
     "output_type": "stream",
     "text": [
      "[0 1 2 3 4 5 6 7 8 9]\n",
      "[6 1 8 9 3 7 5 0 4 2]\n",
      "[5 9 7 4 3 2 6 8 1 0]\n"
     ]
    }
   ],
   "source": [
    "# 6. Write a NumPy program to shuffle numbers between 0 and 10 (inclusive). \n",
    "\n",
    "x = np.arange(10)\n",
    "print(x)\n",
    "\n",
    "np.random.shuffle(x)              #shuffling using shuffle function\n",
    "print(x)\n",
    "\n",
    "print(np.random.permutation(10))  #shuffling using permutation"
   ]
  },
  {
   "cell_type": "code",
   "execution_count": 24,
   "metadata": {},
   "outputs": [
    {
     "name": "stdout",
     "output_type": "stream",
     "text": [
      "[[0.35870921 0.7464108  0.52343399]\n",
      " [0.82031151 0.84354801 0.56020792]\n",
      " [0.30031156 0.98613245 0.11060849]]\n",
      "[[ 0.23237516  0.62007674  0.39709993]\n",
      " [ 0.69397746  0.71721396  0.43387387]\n",
      " [ 0.1739775   0.8597984  -0.01572556]]\n"
     ]
    }
   ],
   "source": [
    "# 7. Write a NumPy program to normalize a 3x3 random matrix. \n",
    "\n",
    "x = np.random.random((3,3))\n",
    "print(x)\n",
    "\n",
    "xmin = x.min()\n",
    "xmax = x.max()\n",
    "\n",
    "x = x - xmin / (xmax - xmin)  #normalizing\n",
    "\n",
    "print(x)"
   ]
  },
  {
   "cell_type": "code",
   "execution_count": 31,
   "metadata": {},
   "outputs": [
    {
     "name": "stdout",
     "output_type": "stream",
     "text": [
      "[0.44787499 0.96425909 0.04461429 0.35958877 0.90096499 0.58497529\n",
      " 0.10214055 0.487944   0.63257537 0.51489886]\n",
      "[0.04461429 0.10214055 0.35958877 0.44787499 0.487944   0.51489886\n",
      " 0.58497529 0.63257537 0.90096499 0.96425909]\n"
     ]
    }
   ],
   "source": [
    "# 8. Write a NumPy program to create a random vector of size 10 and sort it.\n",
    "\n",
    "x = np.random.random(10)\n",
    "np.random.shuffle(x)\n",
    "print(x)\n",
    "\n",
    "print(np.sort(x))"
   ]
  },
  {
   "cell_type": "code",
   "execution_count": 46,
   "metadata": {},
   "outputs": [
    {
     "name": "stdout",
     "output_type": "stream",
     "text": [
      "[1.18273413 6.17580309 1.3133938  3.5975859  9.63456378]\n",
      "6.175803094058512\n",
      "1\n"
     ]
    }
   ],
   "source": [
    "# 9. Write a NumPy program to find the nearest value from a given value in an array.\n",
    "\n",
    "x = np.random.uniform(1, 12, 5) #can write np.random.normal too\n",
    "print(x)\n",
    "\n",
    "v = 6 #given value\n",
    "y = x.flat[np.abs(x - v).argmin()] \n",
    "#np.abs is returning the absolute difference between x and given value\n",
    "#argmin is finding the index of the minimum value from the difference\n",
    "#x.flat[index] is returning the value at that index\n",
    "print(y)"
   ]
  },
  {
   "cell_type": "code",
   "execution_count": 53,
   "metadata": {},
   "outputs": [
    {
     "name": "stdout",
     "output_type": "stream",
     "text": [
      "[0 4 1]\n",
      "[2 3 4]\n",
      "False\n"
     ]
    }
   ],
   "source": [
    "# 10. Write a NumPy program to check two random arrays are equal or not.\n",
    "\n",
    "x = np.random.randint(0,5,3)\n",
    "print(x)\n",
    "\n",
    "y = np.random.randint(0,5,3)\n",
    "print(y)\n",
    "\n",
    "print(np.allclose(x,y))"
   ]
  },
  {
   "cell_type": "code",
   "execution_count": 73,
   "metadata": {},
   "outputs": [
    {
     "name": "stdout",
     "output_type": "stream",
     "text": [
      "[22 21 16 13 12 12 17 14 11 20 17 25 10 12 27]\n",
      "14\n",
      "[22 21 16 13 12 12 17 14 11 20 17 25 10 12 -1]\n"
     ]
    }
   ],
   "source": [
    "# 11. Write a NumPy program to create random vector of size 15 and replace the maximum value by -1.\n",
    "\n",
    "x = np.random.randint(10,30,15)\n",
    "print(x)\n",
    "\n",
    "#index of the maximum value in x\n",
    "print(x.argmax())\n",
    "\n",
    "#replacing the value of x at that index by -1\n",
    "x[x.argmax()] = -1\n",
    "print(x)"
   ]
  },
  {
   "cell_type": "code",
   "execution_count": 80,
   "metadata": {},
   "outputs": [
    {
     "name": "stdout",
     "output_type": "stream",
     "text": [
      "[[0.86958796 0.6222083 ]\n",
      " [0.56975762 0.61250496]\n",
      " [0.39908865 0.06379834]\n",
      " [0.99878963 0.78014663]\n",
      " [0.81828689 0.32853157]\n",
      " [0.87238232 0.11458927]\n",
      " [0.16856148 0.84241142]\n",
      " [0.7340054  0.16995404]\n",
      " [0.66080383 0.62897549]\n",
      " [0.20733067 0.77537911]]\n",
      "****\n",
      "[[0.86958796 0.56975762 0.39908865 0.99878963 0.81828689 0.87238232\n",
      "  0.16856148 0.7340054  0.66080383 0.20733067]]\n",
      "[[0.6222083  0.61250496 0.06379834 0.78014663 0.32853157 0.11458927\n",
      "  0.84241142 0.16995404 0.62897549 0.77537911]]\n",
      "****\n",
      "[[0.         0.29998731 0.73019947 0.20405291 0.29812383 0.50762672\n",
      "  0.73479761 0.47214039 0.20889377 0.67973966]\n",
      " [0.29998731 0.         0.57463627 0.46062153 0.37736943 0.58266779\n",
      "  0.46240169 0.4720473  0.092524   0.39734277]\n",
      " [0.73019947 0.57463627 0.         0.93423558 0.49579315 0.47601115\n",
      "  0.81202285 0.35133781 0.62283227 0.73696561]\n",
      " [0.20405291 0.46062153 0.93423558 0.         0.48635111 0.6774551\n",
      "  0.83255972 0.66516591 0.37025277 0.79147332]\n",
      " [0.29812383 0.37736943 0.49579315 0.48635111 0.         0.22067538\n",
      "  0.82838132 0.17958342 0.33921596 0.75692815]\n",
      " [0.50762672 0.58266779 0.47601115 0.6774551  0.22067538 0.\n",
      "  1.01246672 0.1490417  0.55620018 0.93751635]\n",
      " [0.73479761 0.46240169 0.81202285 0.83255972 0.82838132 1.01246672\n",
      "  0.         0.87859306 0.53652346 0.0774363 ]\n",
      " [0.47214039 0.4720473  0.35133781 0.66516591 0.17958342 0.1490417\n",
      "  0.87859306 0.         0.46482165 0.80244987]\n",
      " [0.20889377 0.092524   0.62283227 0.37025277 0.33921596 0.55620018\n",
      "  0.53652346 0.46482165 0.         0.47652064]\n",
      " [0.67973966 0.39734277 0.73696561 0.79147332 0.75692815 0.93751635\n",
      "  0.0774363  0.80244987 0.47652064 0.        ]]\n"
     ]
    }
   ],
   "source": [
    "# 12. Write a NumPy program to find point by point distances of a random vector with shape (10,2) representing \n",
    "# coordinates. \n",
    "\n",
    "x = np.random.random((10,2))\n",
    "print(x)\n",
    "print(\"****\")\n",
    "\n",
    "#viewing column as arrays in at least 2 dimensions\n",
    "a, b = np.atleast_2d(x[:,0], x[:,1])\n",
    "print(a)\n",
    "print(b)\n",
    "print(\"****\")\n",
    "\n",
    "#to find point by point difference between each value of an array\n",
    "d = np.sqrt((a-a.T)**2 + (b-b.T)**2)\n",
    "print(d)"
   ]
  },
  {
   "cell_type": "code",
   "execution_count": 90,
   "metadata": {},
   "outputs": [
    {
     "name": "stdout",
     "output_type": "stream",
     "text": [
      "[ 3 11  5  7 25  8 14 11 23 10]\n",
      "11\n"
     ]
    }
   ],
   "source": [
    "# 13. Write a NumPy program to find the most frequent value in an array.\n",
    "\n",
    "x = np.random.randint(0,30,10)\n",
    "print(x)\n",
    "\n",
    "#bincount counts number of occurrences of each value in array of non-negative ints.\n",
    "print(np.bincount(x).argmax())"
   ]
  },
  {
   "cell_type": "code",
   "execution_count": 97,
   "metadata": {},
   "outputs": [
    {
     "name": "stdout",
     "output_type": "stream",
     "text": [
      "[[0.18748519 0.7436988 ]\n",
      " [0.43115178 0.92633397]\n",
      " [0.53336877 0.22220162]\n",
      " [0.3913008  0.48371693]\n",
      " [0.87461935 0.4154442 ]\n",
      " [0.52726923 0.41968414]\n",
      " [0.42382261 0.79535286]\n",
      " [0.92738317 0.82813948]\n",
      " [0.62336128 0.71359556]\n",
      " [0.42987562 0.24751841]]\n",
      "****\n",
      "[0.18748519 0.43115178 0.53336877 0.3913008  0.87461935 0.52726923\n",
      " 0.42382261 0.92738317 0.62336128 0.42987562]\n",
      "[0.7436988  0.92633397 0.22220162 0.48371693 0.4154442  0.41968414\n",
      " 0.79535286 0.82813948 0.71359556 0.24751841]\n",
      "****\n",
      "[0.76696714 1.02175656 0.57780257 0.62217232 0.96827315 0.67390476\n",
      " 0.90122792 1.24332399 0.94752199 0.49604275]\n",
      "****\n",
      "[1.32384379 1.13517792 0.39473463 0.89062436 0.44344835 0.67227142\n",
      " 1.08119693 0.72892599 0.85278825 0.52242835]\n"
     ]
    }
   ],
   "source": [
    "# 14. Write a NumPy program to convert cartesian coordinates to polar coordinates of a random 10x2 matrix \n",
    "# representing cartesian coordinates. \n",
    "\n",
    "a = np.random.random((10,2))\n",
    "print(a)\n",
    "print(\"****\")\n",
    "\n",
    "#viewing column as individual arrays\n",
    "x, y = a[:,0], a[:,1]\n",
    "print(x)\n",
    "print(y)\n",
    "print(\"****\")\n",
    "\n",
    "r = np.sqrt(x**2+y**2)\n",
    "print(r)\n",
    "print(\"****\")\n",
    "\n",
    "t = np.arctan2(y,x)\n",
    "print(t)"
   ]
  },
  {
   "cell_type": "code",
   "execution_count": 99,
   "metadata": {},
   "outputs": [
    {
     "name": "stdout",
     "output_type": "stream",
     "text": [
      "[10.43947143 18.19873024 16.84821396  2.36940363  7.21749259 16.8546401 ]\n",
      "2.369403626238988\n"
     ]
    }
   ],
   "source": [
    "# 15. Write a NumPy program to find the closest value (to a given scalar) in an array.\n",
    "\n",
    "x = np.random.uniform(1, 20, 6) #can write np.random.normal too\n",
    "print(x)\n",
    "\n",
    "v = 1 #given value\n",
    "y = x.flat[np.abs(x - v).argmin()] \n",
    "#np.abs is returning the absolute difference between x and given value\n",
    "#argmin is finding the index of the minimum value from the difference\n",
    "#x.flat[index] is returning the value at that index\n",
    "print(y)"
   ]
  },
  {
   "cell_type": "code",
   "execution_count": 105,
   "metadata": {},
   "outputs": [
    {
     "name": "stdout",
     "output_type": "stream",
     "text": [
      "[0 1 2 3 4 5 6 7 8 9]\n",
      "[3 0 8 6 5 9 4 7 2 1]\n",
      "[1 9 8 0 6 4 3 7 2 5]\n",
      "5\n",
      "9\n"
     ]
    }
   ],
   "source": [
    "# 16. Write a NumPy program to get the n largest values of an array. \n",
    "\n",
    "x = np.arange(10)\n",
    "print(x)\n",
    "\n",
    "np.random.shuffle(x)\n",
    "print(x)\n",
    "\n",
    "n = 1\n",
    "\n",
    "#argsort returns the indices that would sort the array\n",
    "print(np.argsort(x))\n",
    "\n",
    "#return the last index, that is, the index having the largest value\n",
    "print(np.argsort(x)[-n])\n",
    "\n",
    "#return the value at the last index\n",
    "print(x[np.argsort(x)[-n]])"
   ]
  }
 ],
 "metadata": {
  "kernelspec": {
   "display_name": "Python 3",
   "language": "python",
   "name": "python3"
  },
  "language_info": {
   "codemirror_mode": {
    "name": "ipython",
    "version": 3
   },
   "file_extension": ".py",
   "mimetype": "text/x-python",
   "name": "python",
   "nbconvert_exporter": "python",
   "pygments_lexer": "ipython3",
   "version": "3.7.4"
  }
 },
 "nbformat": 4,
 "nbformat_minor": 2
}

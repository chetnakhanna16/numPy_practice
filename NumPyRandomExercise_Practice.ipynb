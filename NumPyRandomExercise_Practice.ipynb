{
 "cells": [
  {
   "cell_type": "code",
   "execution_count": 1,
   "metadata": {},
   "outputs": [],
   "source": [
    "import numpy as np"
   ]
  },
  {
   "cell_type": "code",
   "execution_count": 3,
   "metadata": {},
   "outputs": [
    {
     "name": "stdout",
     "output_type": "stream",
     "text": [
      "[-2.13104791  0.50696315  0.48970414  0.46509229 -0.790732  ]\n"
     ]
    }
   ],
   "source": [
    "# 1. Write a NumPy program to generate five random numbers from the normal distribution. \n",
    "\n",
    "#size defines how many random numbers you want to generate \n",
    "#normal to get numbers in normal distribution\n",
    "print(np.random.normal(size=5)) "
   ]
  },
  {
   "cell_type": "code",
   "execution_count": 5,
   "metadata": {},
   "outputs": [
    {
     "name": "stdout",
     "output_type": "stream",
     "text": [
      "[27 19 28 27 19 12]\n"
     ]
    }
   ],
   "source": [
    "# 2. Write a NumPy program to generate six random integers between 10 and 30.\n",
    "\n",
    "#randint for random integers\n",
    "print(np.random.randint(low=10, high=30, size=6))"
   ]
  },
  {
   "cell_type": "code",
   "execution_count": 6,
   "metadata": {},
   "outputs": [
    {
     "name": "stdout",
     "output_type": "stream",
     "text": [
      "[[[0.33756543 0.41366913 0.93522441]\n",
      "  [0.15280021 0.17672765 0.97312188]\n",
      "  [0.86427526 0.77059658 0.50812723]]\n",
      "\n",
      " [[0.10290498 0.69314183 0.01596975]\n",
      "  [0.20939369 0.28113083 0.41510861]\n",
      "  [0.25436676 0.49311265 0.5485813 ]]\n",
      "\n",
      " [[0.89014523 0.88187934 0.27403609]\n",
      "  [0.74655025 0.64747528 0.91128969]\n",
      "  [0.39069735 0.92161148 0.33754813]]]\n"
     ]
    }
   ],
   "source": [
    "# 3. Write a NumPy program to create a 3x3x3 array with random values. \n",
    "\n",
    "#random for any random values\n",
    "print(np.random.random((3,3,3)))"
   ]
  },
  {
   "cell_type": "code",
   "execution_count": 9,
   "metadata": {},
   "outputs": [
    {
     "name": "stdout",
     "output_type": "stream",
     "text": [
      "[[0.11001433 0.1937823  0.95843827 0.72681025 0.28841812]\n",
      " [0.47676413 0.4062704  0.62868342 0.44959016 0.16553678]\n",
      " [0.38835023 0.85810448 0.92447548 0.79858242 0.59691442]\n",
      " [0.6822069  0.11400708 0.18472984 0.37632925 0.8222329 ]\n",
      " [0.34964029 0.04497315 0.32194401 0.35481074 0.77072185]]\n",
      "0.04497315278033531\n",
      "0.9584382696211912\n"
     ]
    }
   ],
   "source": [
    "# 4. Write a NumPy program to create a 5x5 array with random values and find the minimum and maximum values. \n",
    "\n",
    "x = np.random.random((5,5))\n",
    "print(x)\n",
    "print(x.min())\n",
    "print(x.max())"
   ]
  },
  {
   "cell_type": "code",
   "execution_count": null,
   "metadata": {},
   "outputs": [],
   "source": [
    "# 5. "
   ]
  }
 ],
 "metadata": {
  "kernelspec": {
   "display_name": "Python 3",
   "language": "python",
   "name": "python3"
  },
  "language_info": {
   "codemirror_mode": {
    "name": "ipython",
    "version": 3
   },
   "file_extension": ".py",
   "mimetype": "text/x-python",
   "name": "python",
   "nbconvert_exporter": "python",
   "pygments_lexer": "ipython3",
   "version": "3.7.4"
  }
 },
 "nbformat": 4,
 "nbformat_minor": 2
}

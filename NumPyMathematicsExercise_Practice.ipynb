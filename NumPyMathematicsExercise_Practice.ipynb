{
 "cells": [
  {
   "cell_type": "code",
   "execution_count": 1,
   "metadata": {},
   "outputs": [],
   "source": [
    "import numpy as np"
   ]
  },
  {
   "cell_type": "code",
   "execution_count": 22,
   "metadata": {},
   "outputs": [
    {
     "name": "stdout",
     "output_type": "stream",
     "text": [
      "Sum: 5.2\n",
      "Difference: 2.8\n",
      "Product: 4.8\n",
      "Division: 3.3333333333333335\n"
     ]
    }
   ],
   "source": [
    "# 1. Write a NumPy program to add, subtract, multiply, divide arguments element-wise.\n",
    "\n",
    "print(\"Sum:\", np.add(4.0,1.2))\n",
    "\n",
    "print(\"Difference:\", np.subtract(4.0,1.2))\n",
    "\n",
    "print(\"Product:\", np.multiply(4.0,1.2))\n",
    "\n",
    "print(\"Division:\", np.divide(4.0,1.2))"
   ]
  },
  {
   "cell_type": "code",
   "execution_count": 18,
   "metadata": {},
   "outputs": [
    {
     "name": "stdout",
     "output_type": "stream",
     "text": [
      "-56.8714801442912\n",
      "-54.52010488712772\n",
      "-54.429133108921995\n",
      "-54.261936791001034\n"
     ]
    }
   ],
   "source": [
    "# 2. Write a NumPy program to compute logarithm of the sum of exponentiations of the inputs, sum of exponentiations \n",
    "# of the inputs in base-2.\n",
    "\n",
    "a = np.log(2e-25)\n",
    "print(a)\n",
    "\n",
    "b = np.log(21e-25)\n",
    "print(b)\n",
    "\n",
    "print(np.logaddexp(a,b))\n",
    "\n",
    "print(np.logaddexp2(a,b))"
   ]
  },
  {
   "cell_type": "code",
   "execution_count": 25,
   "metadata": {},
   "outputs": [
    {
     "name": "stdout",
     "output_type": "stream",
     "text": [
      "[1 9 8 3 2]\n",
      "True division by 2: [0.5 4.5 4.  1.5 1. ]\n",
      "True division by 5: [0.4 3.6 3.2 1.2 0.8]\n"
     ]
    }
   ],
   "source": [
    "# 3. Write a NumPy program to get true division of the element-wise array inputs.\n",
    "\n",
    "x = np.array([1,9,8,3,2])\n",
    "print(x)\n",
    "\n",
    "#true division works with dividing element-wise array inputs by a number \n",
    "print(\"True division by 2:\", np.true_divide(x,2))\n",
    "print(\"True division by 5:\", np.true_divide(x,2.5))"
   ]
  },
  {
   "cell_type": "code",
   "execution_count": 27,
   "metadata": {},
   "outputs": [
    {
     "name": "stdout",
     "output_type": "stream",
     "text": [
      "[1 9 8 3 2]\n",
      "[0 4 4 1 1]\n",
      "[0 3 2 1 0]\n"
     ]
    }
   ],
   "source": [
    "# 4. Write a NumPy program to get the largest integer smaller or equal to the division of the inputs. \n",
    "\n",
    "x = np.array([1,9,8,3,2])\n",
    "print(x)\n",
    "\n",
    "#floor division either gives the largest integer smaller than or equal to the division of inputs\n",
    "print(np.floor_divide(x,2))\n",
    "print(np.floor_divide(x,3))"
   ]
  },
  {
   "cell_type": "code",
   "execution_count": 29,
   "metadata": {},
   "outputs": [
    {
     "name": "stdout",
     "output_type": "stream",
     "text": [
      "[1 9 8 3 2]\n",
      "[ 1 81 64  9  4]\n",
      "[  1 729 512  27   8]\n"
     ]
    }
   ],
   "source": [
    "# 5. Write a NumPy program to get the powers of an array values element-wise.\n",
    "\n",
    "x = np.array([1,9,8,3,2])\n",
    "print(x)\n",
    "\n",
    "print(np.power(x,2))     #power 2\n",
    "print(np.power(x,3))     #power 3"
   ]
  },
  {
   "cell_type": "code",
   "execution_count": 30,
   "metadata": {},
   "outputs": [
    {
     "name": "stdout",
     "output_type": "stream",
     "text": [
      "[1.  9.2 8.5 1.3 2. ]\n",
      "[1.  1.2 0.5 1.3 0. ]\n",
      "[1.  0.2 2.5 1.3 2. ]\n"
     ]
    }
   ],
   "source": [
    "# 6. Write a NumPy program to get the element-wise remainder of an array of division. \n",
    "\n",
    "x = np.array([1,9.2,8.5,1.3,2])\n",
    "print(x)\n",
    "\n",
    "print(np.remainder(x,2))     \n",
    "print(np.remainder(x,3))     "
   ]
  },
  {
   "cell_type": "code",
   "execution_count": 31,
   "metadata": {},
   "outputs": [
    {
     "name": "stdout",
     "output_type": "stream",
     "text": [
      "[-1.   9.2 -8.5  1.3  2. ]\n",
      "[1.  9.2 8.5 1.3 2. ]\n"
     ]
    }
   ],
   "source": [
    "# 7. Write a NumPy program to calculate the absolute value element-wise. \n",
    "\n",
    "x = np.array([-1,9.2,-8.5,1.3,2])\n",
    "print(x)\n",
    "\n",
    "print(np.abs(x))"
   ]
  },
  {
   "cell_type": "code",
   "execution_count": 34,
   "metadata": {},
   "outputs": [
    {
     "name": "stdout",
     "output_type": "stream",
     "text": [
      "[7. 4. 1.]\n",
      "[7.2  3.57 0.91]\n",
      "[7. 4. 1.]\n"
     ]
    }
   ],
   "source": [
    "# 8. Write a NumPy program to round array elements to the given number of decimals. \n",
    "\n",
    "print(np.round([7.2,3.5,0.9]))                      #general rounding up\n",
    "print(np.round([7.20,3.5672,0.9123], decimals=2))   #two two decimal places"
   ]
  },
  {
   "cell_type": "code",
   "execution_count": 35,
   "metadata": {},
   "outputs": [
    {
     "name": "stdout",
     "output_type": "stream",
     "text": [
      "[  7.   4.   1.   6. 110.]\n"
     ]
    }
   ],
   "source": [
    "# 9. Write a NumPy program to round elements of the array to the nearest integer. \n",
    "\n",
    "# rounding elements to the nearest integer\n",
    "print(np.rint([7.2,3.5,0.9,6.1,110.3]))"
   ]
  },
  {
   "cell_type": "code",
   "execution_count": 38,
   "metadata": {},
   "outputs": [
    {
     "name": "stdout",
     "output_type": "stream",
     "text": [
      "[  7.   3.   0.   6. 110.]\n",
      "[  8.   4.   1.   7. 111.]\n",
      "[  7.   3.   0.   6. 110.]\n"
     ]
    }
   ],
   "source": [
    "# 10. Write a NumPy program to get the floor, ceiling and truncated values of the elements of a numpy array. \n",
    "\n",
    "print(np.floor([7.2,3.5,0.9,6.1,110.3]))\n",
    "print(np.ceil([7.2,3.5,0.9,6.1,110.3]))\n",
    "print(np.trunc([7.2,3.5,0.9,6.1,110.3]))"
   ]
  },
  {
   "cell_type": "code",
   "execution_count": null,
   "metadata": {},
   "outputs": [],
   "source": []
  }
 ],
 "metadata": {
  "kernelspec": {
   "display_name": "Python 3",
   "language": "python",
   "name": "python3"
  },
  "language_info": {
   "codemirror_mode": {
    "name": "ipython",
    "version": 3
   },
   "file_extension": ".py",
   "mimetype": "text/x-python",
   "name": "python",
   "nbconvert_exporter": "python",
   "pygments_lexer": "ipython3",
   "version": "3.7.4"
  }
 },
 "nbformat": 4,
 "nbformat_minor": 2
}

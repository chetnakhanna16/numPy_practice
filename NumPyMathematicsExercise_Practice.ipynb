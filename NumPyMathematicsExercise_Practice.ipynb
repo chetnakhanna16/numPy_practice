{
 "cells": [
  {
   "cell_type": "code",
   "execution_count": 1,
   "metadata": {},
   "outputs": [],
   "source": [
    "import numpy as np"
   ]
  },
  {
   "cell_type": "code",
   "execution_count": 22,
   "metadata": {},
   "outputs": [
    {
     "name": "stdout",
     "output_type": "stream",
     "text": [
      "Sum: 5.2\n",
      "Difference: 2.8\n",
      "Product: 4.8\n",
      "Division: 3.3333333333333335\n"
     ]
    }
   ],
   "source": [
    "# 1. Write a NumPy program to add, subtract, multiply, divide arguments element-wise.\n",
    "\n",
    "print(\"Sum:\", np.add(4.0,1.2))\n",
    "\n",
    "print(\"Difference:\", np.subtract(4.0,1.2))\n",
    "\n",
    "print(\"Product:\", np.multiply(4.0,1.2))\n",
    "\n",
    "print(\"Division:\", np.divide(4.0,1.2))"
   ]
  },
  {
   "cell_type": "code",
   "execution_count": 18,
   "metadata": {},
   "outputs": [
    {
     "name": "stdout",
     "output_type": "stream",
     "text": [
      "-56.8714801442912\n",
      "-54.52010488712772\n",
      "-54.429133108921995\n",
      "-54.261936791001034\n"
     ]
    }
   ],
   "source": [
    "# 2. Write a NumPy program to compute logarithm of the sum of exponentiations of the inputs, sum of exponentiations \n",
    "# of the inputs in base-2.\n",
    "\n",
    "a = np.log(2e-25)\n",
    "print(a)\n",
    "\n",
    "b = np.log(21e-25)\n",
    "print(b)\n",
    "\n",
    "print(np.logaddexp(a,b))\n",
    "\n",
    "print(np.logaddexp2(a,b))"
   ]
  },
  {
   "cell_type": "code",
   "execution_count": 25,
   "metadata": {},
   "outputs": [
    {
     "name": "stdout",
     "output_type": "stream",
     "text": [
      "[1 9 8 3 2]\n",
      "True division by 2: [0.5 4.5 4.  1.5 1. ]\n",
      "True division by 5: [0.4 3.6 3.2 1.2 0.8]\n"
     ]
    }
   ],
   "source": [
    "# 3. Write a NumPy program to get true division of the element-wise array inputs.\n",
    "\n",
    "x = np.array([1,9,8,3,2])\n",
    "print(x)\n",
    "\n",
    "#true division works with dividing element-wise array inputs by a number \n",
    "print(\"True division by 2:\", np.true_divide(x,2))\n",
    "print(\"True division by 5:\", np.true_divide(x,2.5))"
   ]
  },
  {
   "cell_type": "code",
   "execution_count": 27,
   "metadata": {},
   "outputs": [
    {
     "name": "stdout",
     "output_type": "stream",
     "text": [
      "[1 9 8 3 2]\n",
      "[0 4 4 1 1]\n",
      "[0 3 2 1 0]\n"
     ]
    }
   ],
   "source": [
    "# 4. Write a NumPy program to get the largest integer smaller or equal to the division of the inputs. \n",
    "\n",
    "x = np.array([1,9,8,3,2])\n",
    "print(x)\n",
    "\n",
    "#floor division either gives the largest integer smaller than or equal to the division of inputs\n",
    "print(np.floor_divide(x,2))\n",
    "print(np.floor_divide(x,3))"
   ]
  },
  {
   "cell_type": "code",
   "execution_count": 29,
   "metadata": {},
   "outputs": [
    {
     "name": "stdout",
     "output_type": "stream",
     "text": [
      "[1 9 8 3 2]\n",
      "[ 1 81 64  9  4]\n",
      "[  1 729 512  27   8]\n"
     ]
    }
   ],
   "source": [
    "# 5. Write a NumPy program to get the powers of an array values element-wise.\n",
    "\n",
    "x = np.array([1,9,8,3,2])\n",
    "print(x)\n",
    "\n",
    "print(np.power(x,2))     #power 2\n",
    "print(np.power(x,3))     #power 3"
   ]
  },
  {
   "cell_type": "code",
   "execution_count": 30,
   "metadata": {},
   "outputs": [
    {
     "name": "stdout",
     "output_type": "stream",
     "text": [
      "[1.  9.2 8.5 1.3 2. ]\n",
      "[1.  1.2 0.5 1.3 0. ]\n",
      "[1.  0.2 2.5 1.3 2. ]\n"
     ]
    }
   ],
   "source": [
    "# 6. Write a NumPy program to get the element-wise remainder of an array of division. \n",
    "\n",
    "x = np.array([1,9.2,8.5,1.3,2])\n",
    "print(x)\n",
    "\n",
    "print(np.remainder(x,2))     \n",
    "print(np.remainder(x,3))     "
   ]
  },
  {
   "cell_type": "code",
   "execution_count": 31,
   "metadata": {},
   "outputs": [
    {
     "name": "stdout",
     "output_type": "stream",
     "text": [
      "[-1.   9.2 -8.5  1.3  2. ]\n",
      "[1.  9.2 8.5 1.3 2. ]\n"
     ]
    }
   ],
   "source": [
    "# 7. Write a NumPy program to calculate the absolute value element-wise. \n",
    "\n",
    "x = np.array([-1,9.2,-8.5,1.3,2])\n",
    "print(x)\n",
    "\n",
    "print(np.abs(x))"
   ]
  },
  {
   "cell_type": "code",
   "execution_count": 34,
   "metadata": {},
   "outputs": [
    {
     "name": "stdout",
     "output_type": "stream",
     "text": [
      "[7. 4. 1.]\n",
      "[7.2  3.57 0.91]\n",
      "[7. 4. 1.]\n"
     ]
    }
   ],
   "source": [
    "# 8. Write a NumPy program to round array elements to the given number of decimals. \n",
    "\n",
    "print(np.round([7.2,3.5,0.9]))                      #general rounding up\n",
    "print(np.round([7.20,3.5672,0.9123], decimals=2))   #two two decimal places"
   ]
  },
  {
   "cell_type": "code",
   "execution_count": 35,
   "metadata": {},
   "outputs": [
    {
     "name": "stdout",
     "output_type": "stream",
     "text": [
      "[  7.   4.   1.   6. 110.]\n"
     ]
    }
   ],
   "source": [
    "# 9. Write a NumPy program to round elements of the array to the nearest integer. \n",
    "\n",
    "# rounding elements to the nearest integer\n",
    "print(np.rint([7.2,3.5,0.9,6.1,110.3]))"
   ]
  },
  {
   "cell_type": "code",
   "execution_count": 38,
   "metadata": {},
   "outputs": [
    {
     "name": "stdout",
     "output_type": "stream",
     "text": [
      "[  7.   3.   0.   6. 110.]\n",
      "[  8.   4.   1.   7. 111.]\n",
      "[  7.   3.   0.   6. 110.]\n"
     ]
    }
   ],
   "source": [
    "# 10. Write a NumPy program to get the floor, ceiling and truncated values of the elements of a numpy array. \n",
    "\n",
    "print(np.floor([7.2,3.5,0.9,6.1,110.3]))\n",
    "print(np.ceil([7.2,3.5,0.9,6.1,110.3]))\n",
    "print(np.trunc([7.2,3.5,0.9,6.1,110.3]))"
   ]
  },
  {
   "cell_type": "code",
   "execution_count": 41,
   "metadata": {},
   "outputs": [
    {
     "name": "stdout",
     "output_type": "stream",
     "text": [
      "[[ 0  1  2]\n",
      " [ 3  4  5]\n",
      " [ 6  7  8]\n",
      " [ 9 10 11]\n",
      " [12 13 14]]\n",
      "[[0 1]\n",
      " [2 3]\n",
      " [4 5]]\n",
      "[[ 10  13]\n",
      " [ 28  40]\n",
      " [ 46  67]\n",
      " [ 64  94]\n",
      " [ 82 121]]\n"
     ]
    }
   ],
   "source": [
    "# 11. Write a NumPy program to multiply a 5x3 matrix by a 3x2 matrix and create a real matrix product.\n",
    "\n",
    "x = np.arange(15).reshape((5,3))\n",
    "print(x)\n",
    "\n",
    "y = np.arange(6).reshape((3,2))\n",
    "print(y)\n",
    "\n",
    "print(np.dot(x,y))"
   ]
  },
  {
   "cell_type": "code",
   "execution_count": 49,
   "metadata": {},
   "outputs": [
    {
     "name": "stdout",
     "output_type": "stream",
     "text": [
      "[1.+2.j 3.-1.j 6.+4.j 2.-5.j]\n",
      "[6.+1.j 4.-2.j 1.+1.j 2.-7.j]\n",
      "(-15-11j)\n"
     ]
    }
   ],
   "source": [
    "# 12. Write a NumPy program to multiply a matrix by another matrix of complex numbers and create a new matrix of \n",
    "# complex numbers.\n",
    "\n",
    "x = np.array([1+2j, 3-1j, 6+4j, 2-5j])\n",
    "print(x)\n",
    "\n",
    "y = np.array([6+1j, 4-2j, 1+1j, 2-7j])\n",
    "print(y)\n",
    "\n",
    "print(np.dot(x,y))"
   ]
  },
  {
   "cell_type": "code",
   "execution_count": 51,
   "metadata": {},
   "outputs": [
    {
     "name": "stdout",
     "output_type": "stream",
     "text": [
      "[[0 1]\n",
      " [2 3]\n",
      " [4 5]]\n",
      "[[0 1]\n",
      " [2 3]\n",
      " [4 5]]\n",
      "[[ 1  3  5]\n",
      " [ 3 13 23]\n",
      " [ 5 23 41]]\n"
     ]
    }
   ],
   "source": [
    "# 13. Write a NumPy program to create an inner product of two arrays. \n",
    "\n",
    "x = np.arange(6).reshape((3,2))\n",
    "print(x)\n",
    "\n",
    "y = np.arange(6).reshape((3,2))\n",
    "print(y)\n",
    "\n",
    "print(np.inner(x,y))"
   ]
  },
  {
   "cell_type": "code",
   "execution_count": 59,
   "metadata": {},
   "outputs": [
    {
     "name": "stdout",
     "output_type": "stream",
     "text": [
      "[2 9 1]\n",
      "[7 1 3]\n",
      "26\n",
      "[[14  2  6]\n",
      " [63  9 27]\n",
      " [ 7  1  3]]\n",
      "[ 26   1 -61]\n"
     ]
    }
   ],
   "source": [
    "# 14. Write a NumPy program to generate inner, outer, and cross products of matrices and vectors.\n",
    "\n",
    "x = np.array([2,9,1])\n",
    "print(x)\n",
    "\n",
    "y = np.array([7,1,3])\n",
    "print(y)\n",
    "\n",
    "print(np.inner(x,y))\n",
    "print(np.outer(x,y))\n",
    "print(np.cross(x,y))"
   ]
  },
  {
   "cell_type": "code",
   "execution_count": 64,
   "metadata": {},
   "outputs": [
    {
     "name": "stdout",
     "output_type": "stream",
     "text": [
      "[2 9 1]\n",
      "[7 1 3]\n",
      "26\n"
     ]
    }
   ],
   "source": [
    "# 15. Write a NumPy program to generate a matrix product of two arrays.\n",
    "\n",
    "x = np.array([2,9,1])\n",
    "print(x)\n",
    "\n",
    "y = np.array([7,1,3])\n",
    "print(y)\n",
    "\n",
    "print(np.matmul(x,y))  #in np.matmul multiplication with scalar is not allowed as in np.dot"
   ]
  },
  {
   "cell_type": "code",
   "execution_count": 3,
   "metadata": {},
   "outputs": [
    {
     "name": "stdout",
     "output_type": "stream",
     "text": [
      "[2.+1.73205081j 2.-1.73205081j]\n",
      "[10.+0.0000000e+00j -1.+0.0000000e+00j  1.+9.6357437e-09j\n",
      "  1.-9.6357437e-09j]\n"
     ]
    }
   ],
   "source": [
    "# 16. Write a NumPy program to find the roots of the following polynomials.\n",
    "# a) x2 - 4x + 7\n",
    "# b) x4 - 11x3 + 9x2 + 11x - 10\n",
    "\n",
    "print(np.roots([1,-4,7]))   #coffecients of the first polynomial\n",
    "print(np.roots([1,-11,9,11,-10]))     #coffecients of the second polynomial"
   ]
  },
  {
   "cell_type": "code",
   "execution_count": 6,
   "metadata": {},
   "outputs": [
    {
     "name": "stdout",
     "output_type": "stream",
     "text": [
      "3\n",
      "-112\n"
     ]
    }
   ],
   "source": [
    "# 17. Write a NumPy program to compute the following polynomial values. \n",
    "\n",
    "# a) x2 − 4x + 7, when x = 2\n",
    "# b) x4 − 11x3 + 9x2 + 11x – 10, when x = 3\n",
    "\n",
    "print(np.polyval([1,-4,7],2))\n",
    "print(np.polyval([1,-11,9,11,-10],3))"
   ]
  },
  {
   "cell_type": "code",
   "execution_count": 10,
   "metadata": {},
   "outputs": [
    {
     "name": "stdout",
     "output_type": "stream",
     "text": [
      "[11  1  3]\n",
      "[-9 -9 11]\n",
      "[ 10 -35  46  51 -28]\n",
      "(array([0.1]), array([-4.5,  7.4]))\n"
     ]
    }
   ],
   "source": [
    "# 18. Write a NumPy program to add one polynomial to another, subtract one polynomial from another, multiply one \n",
    "# polynomial by another and divide one polynomial by another.\n",
    "\n",
    "#give coefficients as input\n",
    "x = (1,-4,7)\n",
    "y = (10,5,-4)\n",
    "\n",
    "print(np.polyadd(x,y))\n",
    "print(np.polysub(x,y))\n",
    "print(np.polymul(x,y))\n",
    "print(np.polydiv(x,y))"
   ]
  },
  {
   "cell_type": "code",
   "execution_count": 13,
   "metadata": {},
   "outputs": [
    {
     "name": "stdout",
     "output_type": "stream",
     "text": [
      "[[ 1  9]\n",
      " [13  5]]\n",
      "[7. 7.]\n",
      "[5. 9.]\n"
     ]
    }
   ],
   "source": [
    "# 19. Write a NumPy program to calculate mean across dimension, in a 2D numpy array.\n",
    "\n",
    "x = np.array([[1,9],[13,5]])\n",
    "print(x)\n",
    "\n",
    "print(np.mean(x, axis=0))\n",
    "print(np.mean(x, axis=1))"
   ]
  },
  {
   "cell_type": "code",
   "execution_count": 24,
   "metadata": {},
   "outputs": [
    {
     "name": "stdout",
     "output_type": "stream",
     "text": [
      "[[0.94432822 0.8066671  0.49617742 ... 0.72423073 0.57548419 0.60030069]]\n",
      "Mean                 0.511286021237281\n",
      "Variance             0.07945478537971513\n",
      "Standard Deviation   0.28187725232752486\n"
     ]
    }
   ],
   "source": [
    "# 20. Write a NumPy program to create a random array with 1000 elements and compute the average, variance, standard \n",
    "# deviation of the array elements.\n",
    "\n",
    "x = np.random.rand(1,1001)\n",
    "print(x)\n",
    "\n",
    "print(\"Mean                \", x.mean())\n",
    "print(\"Variance            \", x.var())\n",
    "print(\"Standard Deviation  \", x.std())"
   ]
  },
  {
   "cell_type": "code",
   "execution_count": 28,
   "metadata": {},
   "outputs": [
    {
     "name": "stdout",
     "output_type": "stream",
     "text": [
      "[0 0 1]\n",
      "Sine      [0.         0.         0.84147098]\n",
      "Cosine    [1.         1.         0.54030231]\n",
      "Tangent   [0.         0.         1.55740772]\n"
     ]
    }
   ],
   "source": [
    "# 21. Write a NumPy program to compute the trigonometric sine, cosine and tangent array of angles given in degrees.\n",
    "\n",
    "x = np.array([0,0,1])\n",
    "print(x)\n",
    "\n",
    "print(\"Sine     \", np.sin(x))\n",
    "print(\"Cosine   \", np.cos(x))\n",
    "print(\"Tangent  \", np.tan(x))"
   ]
  },
  {
   "cell_type": "code",
   "execution_count": 29,
   "metadata": {},
   "outputs": [
    {
     "name": "stdout",
     "output_type": "stream",
     "text": [
      "[0 0 1]\n",
      "Inverse Sine      [0.         0.         1.57079633]\n",
      "Inverse Cosine    [1.57079633 1.57079633 0.        ]\n",
      "Inverse Tangent   [0.         0.         0.78539816]\n"
     ]
    }
   ],
   "source": [
    "# 22. Write a NumPy program to calculate inverse sine, inverse cosine, and inverse tangent for all elements in a \n",
    "# given array.\n",
    "\n",
    "x = np.array([0,0,1])\n",
    "print(x)\n",
    "\n",
    "print(\"Inverse Sine     \", np.arcsin(x))\n",
    "print(\"Inverse Cosine   \", np.arccos(x))\n",
    "print(\"Inverse Tangent  \", np.arctan(x))"
   ]
  },
  {
   "cell_type": "code",
   "execution_count": 34,
   "metadata": {},
   "outputs": [
    {
     "name": "stdout",
     "output_type": "stream",
     "text": [
      "[-3.14159265 -1.57079633  1.57079633  1.04719755]\n",
      "[-180.  -90.   90.   60.]\n",
      "[-180.  -90.   90.   60.]\n"
     ]
    }
   ],
   "source": [
    "# 23. Write a NumPy program to convert angles from radians to degrees for all elements in a given array.\n",
    "\n",
    "x = np.array([-np.pi, -np.pi/2, np.pi/2, np.pi/3])\n",
    "print(x)\n",
    "\n",
    "print(np.degrees(x))"
   ]
  },
  {
   "cell_type": "code",
   "execution_count": 35,
   "metadata": {},
   "outputs": [
    {
     "name": "stdout",
     "output_type": "stream",
     "text": [
      "[-180  -90   90   60]\n",
      "[-3.14159265 -1.57079633  1.57079633  1.04719755]\n"
     ]
    }
   ],
   "source": [
    "# 24. Write a NumPy program to convert angles from degrees to radians for all elements in a given array.\n",
    "\n",
    "x = np.array([-180, -90, 90, 60])\n",
    "print(x)\n",
    "\n",
    "print(np.radians(x))"
   ]
  },
  {
   "cell_type": "code",
   "execution_count": 36,
   "metadata": {},
   "outputs": [
    {
     "name": "stdout",
     "output_type": "stream",
     "text": [
      "[0 0 1]\n",
      "Hyperbolic Sine      [0.         0.         1.17520119]\n",
      "Hyperbolic Cosine    [1.         1.         1.54308063]\n",
      "Hyperbolic Tangent   [0.         0.         0.76159416]\n"
     ]
    }
   ],
   "source": [
    "# 25. Write a NumPy program to calculate hyperbolic sine, hyperbolic cosine, and hyperbolic tangent for all elements \n",
    "# in a given array.\n",
    "\n",
    "x = np.array([0,0,1])\n",
    "print(x)\n",
    "\n",
    "print(\"Hyperbolic Sine     \", np.sinh(x))\n",
    "print(\"Hyperbolic Cosine   \", np.cosh(x))\n",
    "print(\"Hyperbolic Tangent  \", np.tanh(x))"
   ]
  },
  {
   "cell_type": "code",
   "execution_count": 49,
   "metadata": {},
   "outputs": [
    {
     "name": "stdout",
     "output_type": "stream",
     "text": [
      "[ 5.3   0.1   0.99 21.3  14.5 ]\n",
      "[ 5.  0.  0. 21. 14.]\n",
      "[ 6.  1.  1. 22. 15.]\n",
      "[ 5.  0.  0. 21. 14.]\n",
      "[ 5.  0.  1. 21. 14.]\n"
     ]
    }
   ],
   "source": [
    "# 26. Write a NumPy program to calculate round, floor, ceiling, truncated and round (to the given number of decimals) \n",
    "# of the input, element-wise of a given array.\n",
    "\n",
    "x = np.array([5.3, 0.1, 0.99, 21.3, 14.5])\n",
    "print(x)\n",
    "\n",
    "print(np.floor(x))\n",
    "print(np.ceil(x))\n",
    "print(np.trunc(x))\n",
    "print(np.round(x))"
   ]
  },
  {
   "cell_type": "code",
   "execution_count": 53,
   "metadata": {},
   "outputs": [
    {
     "name": "stdout",
     "output_type": "stream",
     "text": [
      "[[9 8 3]\n",
      " [1 0 5]]\n",
      "[ 9 17 20 21 21 26]\n",
      "[[ 9  8  3]\n",
      " [10  8  8]]\n",
      "[[ 9 17 20]\n",
      " [ 1  1  6]]\n"
     ]
    }
   ],
   "source": [
    "# 27. Write a NumPy program to calculate cumulative sum of the elements along a given axis, sum over rows for each \n",
    "# of the 3 columns and sum over columns for each of the 2 rows of a given 2x3 array. \n",
    "\n",
    "x = np.array([[9,8,3],[1,0,5]])\n",
    "print(x)\n",
    "\n",
    "print(np.cumsum(x))\n",
    "print(np.cumsum(x, axis=0))\n",
    "print(np.cumsum(x, axis=1))"
   ]
  },
  {
   "cell_type": "code",
   "execution_count": 55,
   "metadata": {},
   "outputs": [
    {
     "name": "stdout",
     "output_type": "stream",
     "text": [
      "[[9 8 3]\n",
      " [1 0 5]]\n",
      "[  9  72 216 216   0   0]\n",
      "[[ 9  8  3]\n",
      " [ 9  0 15]]\n",
      "[[  9  72 216]\n",
      " [  1   0   0]]\n"
     ]
    }
   ],
   "source": [
    "# 28. Write a NumPy program to calculate cumulative product of the elements along a given axis, product over rows for \n",
    "# each of the 3 columns and product over columns for each of the 2 rows of a given 2x3 array. \n",
    "\n",
    "x = np.array([[9,8,3],[1,0,5]])\n",
    "print(x)\n",
    "\n",
    "print(np.cumprod(x))\n",
    "print(np.cumprod(x, axis=0))\n",
    "print(np.cumprod(x, axis=1))"
   ]
  },
  {
   "cell_type": "code",
   "execution_count": 57,
   "metadata": {},
   "outputs": [
    {
     "name": "stdout",
     "output_type": "stream",
     "text": [
      "[9 6 1 2 6 7]\n",
      "[-3 -5  1  4  1]\n"
     ]
    }
   ],
   "source": [
    "# 29. Write a NumPy program to calculate the difference between neighboring elements, element-wise of a given array.\n",
    "\n",
    "x = np.array([9,6,1,2,6,7])\n",
    "print(x)\n",
    "\n",
    "print(np.diff(x))"
   ]
  },
  {
   "cell_type": "code",
   "execution_count": 61,
   "metadata": {},
   "outputs": [
    {
     "name": "stdout",
     "output_type": "stream",
     "text": [
      "[9 6 1 2 6 7]\n",
      "[-3 -5  1  4  1]\n",
      "[0 0 9 6 1 2 6 7]\n",
      "[  9   6   1   2   6   7 200]\n"
     ]
    }
   ],
   "source": [
    "# 30. Write a NumPy program to calculate the difference between neighboring elements, element-wise, and prepend \n",
    "# [0, 0] and append[200] to a given array.\n",
    "\n",
    "x = np.array([9,6,1,2,6,7])\n",
    "print(x)\n",
    "\n",
    "print(np.diff(x))\n",
    "print(np.append([0,0], x))\n",
    "print(np.append(x, [200]))\n",
    "\n"
   ]
  },
  {
   "cell_type": "code",
   "execution_count": null,
   "metadata": {},
   "outputs": [],
   "source": []
  }
 ],
 "metadata": {
  "kernelspec": {
   "display_name": "Python 3",
   "language": "python",
   "name": "python3"
  },
  "language_info": {
   "codemirror_mode": {
    "name": "ipython",
    "version": 3
   },
   "file_extension": ".py",
   "mimetype": "text/x-python",
   "name": "python",
   "nbconvert_exporter": "python",
   "pygments_lexer": "ipython3",
   "version": "3.7.4"
  }
 },
 "nbformat": 4,
 "nbformat_minor": 2
}

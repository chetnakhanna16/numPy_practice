{
 "cells": [
  {
   "cell_type": "code",
   "execution_count": 1,
   "metadata": {},
   "outputs": [],
   "source": [
    "import numpy as np"
   ]
  },
  {
   "cell_type": "code",
   "execution_count": 10,
   "metadata": {},
   "outputs": [
    {
     "name": "stdout",
     "output_type": "stream",
     "text": [
      "[[11  4]\n",
      " [ 7 10]]\n",
      "[[ 7  4]\n",
      " [11 10]]\n",
      "[[ 4 11]\n",
      " [ 7 10]]\n",
      "[[ 4 11]\n",
      " [ 7 10]]\n"
     ]
    }
   ],
   "source": [
    "# 1. Write a NumPy program to sort a given array of shape 2 along the first axis, last axis and on flattened array.\n",
    "\n",
    "x = np.array([[11,4],[7,10]]).reshape(2,2)\n",
    "print(x)\n",
    "\n",
    "print(np.sort(x, axis=0))\n",
    "print(np.sort(x, axis=1))\n",
    "print(np.sort(x, axis=None))   #flattened array"
   ]
  },
  {
   "cell_type": "code",
   "execution_count": 14,
   "metadata": {},
   "outputs": [
    {
     "name": "stdout",
     "output_type": "stream",
     "text": [
      "[('Kate', 60.2, 10) ('James', 56.4,  8) ('Laural', 61.5, 11)\n",
      " ('Ana', 59.1,  8)]\n",
      "[('James', 56.4,  8) ('Ana', 59.1,  8) ('Kate', 60.2, 10)\n",
      " ('Laural', 61.5, 11)]\n"
     ]
    }
   ],
   "source": [
    "# 2. Write a NumPy program to create a structured array from given student name, height, class and their data types. \n",
    "# Now sort the array on height.\n",
    "\n",
    "data_type = [('name','U25'),('height', 'float'),('class','int')]\n",
    "students_info = [('Kate', 60.2, 10), ('James', 56.4, 8), ('Laural', 61.5, 11), ('Ana', 59.1, 8)]\n",
    "\n",
    "#creating structured array\n",
    "students = np.array(students_info, dtype=data_type)\n",
    "print(students)\n",
    "\n",
    "print(np.sort(students, order='height'))"
   ]
  },
  {
   "cell_type": "code",
   "execution_count": 16,
   "metadata": {},
   "outputs": [
    {
     "name": "stdout",
     "output_type": "stream",
     "text": [
      "[('Kate', 60.2, 10) ('James', 56.4,  8) ('Laural', 61.5, 11)\n",
      " ('Ana', 59.1,  8)]\n",
      "[('James', 56.4,  8) ('Ana', 59.1,  8) ('Kate', 60.2, 10)\n",
      " ('Laural', 61.5, 11)]\n"
     ]
    }
   ],
   "source": [
    "# 3. Write a NumPy program to create a structured array from given student name, height, class and their data \n",
    "# types. Now sort by class, then height if class are equal. \n",
    "\n",
    "data_type = [('name','U25'),('height', 'float'),('class','int')]\n",
    "students_info = [('Kate', 60.2, 10), ('James', 56.4, 8), ('Laural', 61.5, 11), ('Ana', 59.1, 8)]\n",
    "\n",
    "#creating structured array\n",
    "students = np.array(students_info, dtype=data_type)\n",
    "print(students)\n",
    "\n",
    "print(np.sort(students, order=['class','height']))"
   ]
  },
  {
   "cell_type": "code",
   "execution_count": 20,
   "metadata": {},
   "outputs": [
    {
     "name": "stdout",
     "output_type": "stream",
     "text": [
      "[4 5 0 3 6 1 2]\n",
      "1682 38.5\n",
      "5241 40.2\n",
      "1023 40.5\n",
      "1671 41.8\n",
      "4532 42.0\n",
      "5202 42.2\n",
      "6230 45.1\n"
     ]
    }
   ],
   "source": [
    "# 4. Write a NumPy program to sort the student id with increasing height of the students from given students id \n",
    "# and height. Print the integer indices that describes the sort order by multiple columns and the sorted data.\n",
    "\n",
    "student_id = np.array([1023, 5202, 6230, 1671, 1682, 5241, 4532])\n",
    "student_height = np.array([40.5, 42.2, 45.1, 41.8, 38.5, 40.2, 42.0])\n",
    "\n",
    "#to print the indices of the sort order by multiple columns, first by student_height and then by student_id\n",
    "indices = np.lexsort((student_id, student_height))\n",
    "print(indices)\n",
    "\n",
    "for n in indices:\n",
    "    print(student_id[n], student_height[n])"
   ]
  },
  {
   "cell_type": "code",
   "execution_count": 25,
   "metadata": {},
   "outputs": [
    {
     "name": "stdout",
     "output_type": "stream",
     "text": [
      "[ 1  7  9  2 35  8  7 11]\n",
      "[0 3 1 6 5 2 7 4]\n"
     ]
    }
   ],
   "source": [
    "# 5. Write a NumPy program to get the indices of the sorted elements of a given array. \n",
    "\n",
    "x = np.array([1,7,9,2,35,8,7,11])\n",
    "print(x)\n",
    "\n",
    "print(np.argsort(x))"
   ]
  },
  {
   "cell_type": "code",
   "execution_count": 26,
   "metadata": {},
   "outputs": [
    {
     "name": "stdout",
     "output_type": "stream",
     "text": [
      "[1.-2.j 3.+0.j 3.+1.j 4.-5.j 8.-9.j]\n"
     ]
    }
   ],
   "source": [
    "# 6. Write a NumPy program to sort a given complex array using the real part first, then the imaginary part.\n",
    "\n",
    "complex_number = [3 + 1j, 1 - 2j, 8 - 9j, 4 - 5j, 3 + 0j]\n",
    "\n",
    "print(np.sort_complex(complex_number))"
   ]
  },
  {
   "cell_type": "code",
   "execution_count": 29,
   "metadata": {},
   "outputs": [
    {
     "name": "stdout",
     "output_type": "stream",
     "text": [
      "[ 5  3  5  1  0  6  8  9 10 14]\n",
      "[ 1  0  3  5  5  6  9  8 10 14]\n"
     ]
    }
   ],
   "source": [
    "# 7. Write a NumPy program to partition a given array in a specified position and move all the smaller elements \n",
    "# values to the left of the partition, and the remaining values to the right, in arbitrary order (based on random \n",
    "# choice).\n",
    "\n",
    "num_array = [1, 9, 5, 8, 10, 5, 0, 6, 3, 14]\n",
    "\n",
    "#partitioning the array with numbers less than 6 on the left and more than 6 on the right\n",
    "print(np.partition(num_array, 6)) \n",
    "print(np.partition(num_array, 4))\n",
    "print(np.partition(num_array, 10))"
   ]
  },
  {
   "cell_type": "code",
   "execution_count": 37,
   "metadata": {},
   "outputs": [
    {
     "name": "stdout",
     "output_type": "stream",
     "text": [
      "[0.62702751 0.58949728 0.25835295 0.75880769 0.82472308 0.15861528\n",
      " 0.40743769 0.82094972 0.82991147 0.64726998 0.47457611 0.88783957\n",
      " 0.31258405 0.46070325 0.81895787]\n",
      "[ 5  2 12  6 13  0  3  7  8  9 10 11  1  4 14]\n",
      "[0.15861528 0.25835295 0.31258405 0.40743769 0.46070325 0.62702751\n",
      " 0.75880769 0.82094972 0.82991147 0.64726998 0.47457611 0.88783957\n",
      " 0.58949728 0.82472308 0.81895787]\n"
     ]
    }
   ],
   "source": [
    "# 8. Write a NumPy program to sort the specified number of elements from beginning of a given array.\n",
    "\n",
    "x = np.random.rand(15)\n",
    "print(x)\n",
    "\n",
    "#return the indices of sorted array by sorting only the elements from 0 to 3\n",
    "print(np.argpartition(x,range(4))) \n",
    "print(x[np.argpartition(x,range(4))])"
   ]
  },
  {
   "cell_type": "code",
   "execution_count": null,
   "metadata": {},
   "outputs": [],
   "source": []
  }
 ],
 "metadata": {
  "kernelspec": {
   "display_name": "Python 3",
   "language": "python",
   "name": "python3"
  },
  "language_info": {
   "codemirror_mode": {
    "name": "ipython",
    "version": 3
   },
   "file_extension": ".py",
   "mimetype": "text/x-python",
   "name": "python",
   "nbconvert_exporter": "python",
   "pygments_lexer": "ipython3",
   "version": "3.7.4"
  }
 },
 "nbformat": 4,
 "nbformat_minor": 2
}

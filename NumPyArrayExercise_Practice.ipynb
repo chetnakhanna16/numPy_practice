{
 "cells": [
  {
   "cell_type": "code",
   "execution_count": 1,
   "metadata": {},
   "outputs": [],
   "source": [
    "import numpy as np"
   ]
  },
  {
   "cell_type": "code",
   "execution_count": 2,
   "metadata": {},
   "outputs": [
    {
     "name": "stdout",
     "output_type": "stream",
     "text": [
      "1.17.2\n"
     ]
    }
   ],
   "source": [
    "# 1. Write a NumPy program to print the NumPy version in your system.\n",
    "\n",
    "print(np.__version__)"
   ]
  },
  {
   "cell_type": "code",
   "execution_count": 3,
   "metadata": {},
   "outputs": [
    {
     "name": "stdout",
     "output_type": "stream",
     "text": [
      "[ 12.23  13.32 100.    36.32]\n"
     ]
    }
   ],
   "source": [
    "# 2. Write a NumPy program to convert a list of numeric value into a one-dimensional NumPy array.\n",
    "\n",
    "lst = [12.23, 13.32, 100, 36.32]\n",
    "print(np.array(lst))"
   ]
  },
  {
   "cell_type": "code",
   "execution_count": 4,
   "metadata": {},
   "outputs": [
    {
     "name": "stdout",
     "output_type": "stream",
     "text": [
      "[[ 2  3  4]\n",
      " [ 5  6  7]\n",
      " [ 8  9 10]]\n"
     ]
    }
   ],
   "source": [
    "# 3. Write a NumPy program to create a 3x3 matrix with values ranging from 2 to 10. \n",
    "\n",
    "x = np.arange(2,11).reshape(3,3)\n",
    "print(x)"
   ]
  },
  {
   "cell_type": "code",
   "execution_count": 5,
   "metadata": {},
   "outputs": [
    {
     "name": "stdout",
     "output_type": "stream",
     "text": [
      "[0. 0. 0. 0. 0. 0. 0. 0. 0. 0.]\n",
      "[ 0.  0.  0.  0.  0.  0. 11.  0.  0.  0.]\n"
     ]
    }
   ],
   "source": [
    "# 4. Write a NumPy program to create a null vector of size 10 and update sixth value to 11.\n",
    "\n",
    "x = np.zeros(10)\n",
    "print(x)\n",
    "x[6] = 11\n",
    "print(x)"
   ]
  },
  {
   "cell_type": "code",
   "execution_count": 6,
   "metadata": {},
   "outputs": [
    {
     "name": "stdout",
     "output_type": "stream",
     "text": [
      "[12 13 14 15 16 17 18 19 20 21 22 23 24 25 26 27 28 29 30 31 32 33 34 35\n",
      " 36 37 38]\n"
     ]
    }
   ],
   "source": [
    "# 5. Write a NumPy program to create an array with values ranging from 12 to 38.\n",
    "\n",
    "x = np.arange(12,39)\n",
    "print(x)"
   ]
  },
  {
   "cell_type": "code",
   "execution_count": 7,
   "metadata": {},
   "outputs": [
    {
     "name": "stdout",
     "output_type": "stream",
     "text": [
      "[1 2 0 9 6 4]\n",
      "[4 6 9 0 2 1]\n"
     ]
    }
   ],
   "source": [
    "# 6. Write a NumPy program to reverse an array (first element becomes last).\n",
    "\n",
    "x = np.array([1,2,0,9,6,4])\n",
    "print(x)\n",
    "print(x[::-1])"
   ]
  },
  {
   "cell_type": "code",
   "execution_count": 8,
   "metadata": {},
   "outputs": [
    {
     "name": "stdout",
     "output_type": "stream",
     "text": [
      "[18 25 10 19 61 14]\n",
      "[18. 25. 10. 19. 61. 14.]\n"
     ]
    }
   ],
   "source": [
    "# 7. Write a NumPy program to convert an array to a float type.\n",
    "\n",
    "x = np.array([18,25,10,19,61,14])\n",
    "print(x)\n",
    "print(x.astype('float32'))"
   ]
  },
  {
   "cell_type": "code",
   "execution_count": 9,
   "metadata": {},
   "outputs": [
    {
     "name": "stdout",
     "output_type": "stream",
     "text": [
      "[[1. 1. 1. 1.]\n",
      " [1. 1. 1. 1.]\n",
      " [1. 1. 1. 1.]\n",
      " [1. 1. 1. 1.]]\n",
      "[[0. 0.]\n",
      " [0. 0.]]\n",
      "[[1. 1. 1. 1.]\n",
      " [1. 0. 0. 1.]\n",
      " [1. 0. 0. 1.]\n",
      " [1. 1. 1. 1.]]\n"
     ]
    }
   ],
   "source": [
    "# 8. Write a NumPy program to create a 2d array with 1 on the border and 0 inside. \n",
    "\n",
    "x = np.ones(16).reshape(4,4)\n",
    "print(x)\n",
    "y = np.zeros(4).reshape(2,2)\n",
    "print(y)\n",
    "x[1:3,1:3] = y\n",
    "print(x)"
   ]
  },
  {
   "cell_type": "code",
   "execution_count": 10,
   "metadata": {},
   "outputs": [
    {
     "name": "stdout",
     "output_type": "stream",
     "text": [
      "[[1. 1. 1. 1.]\n",
      " [1. 1. 1. 1.]\n",
      " [1. 1. 1. 1.]\n",
      " [1. 1. 1. 1.]]\n",
      "[[0. 0. 0. 0. 0. 0.]\n",
      " [0. 1. 1. 1. 1. 0.]\n",
      " [0. 1. 1. 1. 1. 0.]\n",
      " [0. 1. 1. 1. 1. 0.]\n",
      " [0. 1. 1. 1. 1. 0.]\n",
      " [0. 0. 0. 0. 0. 0.]]\n"
     ]
    }
   ],
   "source": [
    "# 9. Write a NumPy program to add a border (filled with 0's) around an existing array. \n",
    "\n",
    "x = np.ones(16).reshape(4,4)\n",
    "print(x)\n",
    "x = np.pad(x, pad_width = 1, mode = 'constant', constant_values = 0)\n",
    "print(x)"
   ]
  },
  {
   "cell_type": "code",
   "execution_count": 11,
   "metadata": {},
   "outputs": [
    {
     "name": "stdout",
     "output_type": "stream",
     "text": [
      "[[0. 1. 0. 1. 0. 1. 0. 1.]\n",
      " [1. 0. 1. 0. 1. 0. 1. 0.]\n",
      " [0. 1. 0. 1. 0. 1. 0. 1.]\n",
      " [1. 0. 1. 0. 1. 0. 1. 0.]\n",
      " [0. 1. 0. 1. 0. 1. 0. 1.]\n",
      " [1. 0. 1. 0. 1. 0. 1. 0.]\n",
      " [0. 1. 0. 1. 0. 1. 0. 1.]\n",
      " [1. 0. 1. 0. 1. 0. 1. 0.]]\n"
     ]
    }
   ],
   "source": [
    "# 10. Write a NumPy program to create a 8x8 matrix and fill it with a checkerboard pattern. \n",
    "\n",
    "x = np.zeros(64).reshape(8,8)\n",
    "#print(x)\n",
    "x[::2,1::2] = 1\n",
    "x[1::2,::2] = 1\n",
    "print(x)"
   ]
  },
  {
   "cell_type": "code",
   "execution_count": 12,
   "metadata": {},
   "outputs": [
    {
     "name": "stdout",
     "output_type": "stream",
     "text": [
      "[1 2 7 0 4 8]\n",
      "['1' 'ankur' 'c']\n",
      "[2.5 7.  3.2]\n",
      "[[1 2 5]\n",
      " [3 0 9]]\n"
     ]
    }
   ],
   "source": [
    "# 11. Write a NumPy program to convert a list and tuple into arrays.\n",
    "\n",
    "lst = [1,2,7,0,4,8]\n",
    "print(np.array(lst))\n",
    "#print(np.asarray(lst)) \n",
    "\n",
    "tpl_1 = [1, \"ankur\", \"c\"]\n",
    "tpl_2 = [2.5, 7, 3.2]\n",
    "tpl_3 = ([1,2,5],[3,0,9])\n",
    "print(np.array(tpl_1))\n",
    "print(np.array(tpl_2))\n",
    "print(np.array(tpl_3))"
   ]
  },
  {
   "cell_type": "code",
   "execution_count": 13,
   "metadata": {},
   "outputs": [
    {
     "name": "stdout",
     "output_type": "stream",
     "text": [
      "[1 7 8 4]\n",
      "[ 5  9 11]\n",
      "[ 1  7  8  4  5  9 11]\n",
      "[ 5  9 11  1  7  8  4]\n"
     ]
    }
   ],
   "source": [
    "# 12. Write a NumPy program to append values to the end of an array. \n",
    "\n",
    "x = np.array([1,7,8,4])\n",
    "y = np.array([5,9,11])\n",
    "print(x)\n",
    "print(y)\n",
    "z1 = np.append(x,y)\n",
    "z2 = np.append(y,x)\n",
    "print(z1)\n",
    "print(z2)"
   ]
  },
  {
   "cell_type": "code",
   "execution_count": 14,
   "metadata": {},
   "outputs": [
    {
     "name": "stdout",
     "output_type": "stream",
     "text": [
      "[[4.9e-324 9.9e-324 2.5e-323]\n",
      " [1.5e-323 0.0e+000 4.4e-323]]\n",
      "[[4 4 4]\n",
      " [4 4 4]]\n"
     ]
    }
   ],
   "source": [
    "# 13. Write a NumPy program to create an empty and a full array. \n",
    "\n",
    "x = np.empty((2,3))\n",
    "print(x)\n",
    "y = np.full((2,3),4)\n",
    "print(y)"
   ]
  },
  {
   "cell_type": "code",
   "execution_count": 15,
   "metadata": {},
   "outputs": [
    {
     "name": "stdout",
     "output_type": "stream",
     "text": [
      "Centigrade degrees:  [ 32 109  67] degrees C\n",
      "Fahrenheit degrees:  [ 89.6 228.2 152.6] degrees F\n"
     ]
    }
   ],
   "source": [
    "# 14. Write a NumPy program to convert the values of Centigrade degrees into Fahrenheit degrees. Centigrade values \n",
    "# are stored into a NumPy array.\n",
    "\n",
    "x = np.array([32,109,67])\n",
    "print(\"Centigrade degrees: \", x, \"degrees C\")\n",
    "y = (x * 1.8) + 32\n",
    "print(\"Fahrenheit degrees: \", y, \"degrees F\")"
   ]
  },
  {
   "cell_type": "code",
   "execution_count": 16,
   "metadata": {},
   "outputs": [
    {
     "name": "stdout",
     "output_type": "stream",
     "text": [
      "[1.+2.j]\n",
      "[1.]\n",
      "[2.]\n",
      "[[2.+3.j]\n",
      " [4.+6.j]]\n",
      "[[2.]\n",
      " [4.]]\n",
      "[[3.]\n",
      " [6.]]\n"
     ]
    }
   ],
   "source": [
    "# 15. Write a NumPy program to find the real and imaginary parts of an array of complex numbers. \n",
    "\n",
    "x = np.array([1+2j])\n",
    "print(x)\n",
    "print(x.real)\n",
    "print(x.imag)\n",
    "\n",
    "y = np.array([[2+3j],[4+6j]])\n",
    "print(y)\n",
    "print(y.real)\n",
    "print(y.imag)"
   ]
  },
  {
   "cell_type": "code",
   "execution_count": 17,
   "metadata": {},
   "outputs": [
    {
     "name": "stdout",
     "output_type": "stream",
     "text": [
      "[[2 5]\n",
      " [4 6]]\n",
      "Number of elements in the array: 4\n",
      "Length of one array element: 8 bytes\n",
      "Total bytes consumed by the array elements 32 bytes\n"
     ]
    }
   ],
   "source": [
    "# 16. Write a NumPy program to find the number of elements of an array, length of one array element in bytes \n",
    "# and total bytes consumed by the elements. \n",
    "\n",
    "x = np.array([[2,5],[4,6]])\n",
    "print(x)\n",
    "print(\"Number of elements in the array:\" , x.size)\n",
    "print(\"Length of one array element:\", x.itemsize, \"bytes\")\n",
    "print(\"Total bytes consumed by the array elements\", x.nbytes, \"bytes\")"
   ]
  },
  {
   "cell_type": "code",
   "execution_count": 18,
   "metadata": {},
   "outputs": [
    {
     "name": "stdout",
     "output_type": "stream",
     "text": [
      "[1 9 5 4]\n",
      "[5 1 7 2 4 8]\n",
      "[ True False  True  True]\n"
     ]
    }
   ],
   "source": [
    "# 17. Write a NumPy program to test whether each element of a 1-D array is also present in a second array.\n",
    "\n",
    "x = np.array([1,9,5,4])\n",
    "print(x)\n",
    "y = np.array([5,1,7,2,4,8])\n",
    "print(y)\n",
    "print(np.in1d(x,y)) "
   ]
  },
  {
   "cell_type": "code",
   "execution_count": 19,
   "metadata": {},
   "outputs": [
    {
     "name": "stdout",
     "output_type": "stream",
     "text": [
      "[1 9 5 4]\n",
      "[5 1 7 2 4 8]\n",
      "[1 4 5]\n"
     ]
    }
   ],
   "source": [
    "# 18. Write a NumPy program to find common values between two arrays. \n",
    "\n",
    "x = np.array([1,9,5,4])\n",
    "print(x)\n",
    "y = np.array([5,1,7,2,4,8])\n",
    "print(y)\n",
    "print(np.intersect1d(x,y))"
   ]
  },
  {
   "cell_type": "code",
   "execution_count": 20,
   "metadata": {},
   "outputs": [
    {
     "name": "stdout",
     "output_type": "stream",
     "text": [
      "[1 9 5 4 9 1]\n",
      "[1 4 5 9]\n",
      "[[1 9 5]\n",
      " [4 9 1]]\n",
      "[1 4 5 9]\n"
     ]
    }
   ],
   "source": [
    "# 19. Write a NumPy program to get the unique elements of an array.\n",
    "\n",
    "x = np.array([1,9,5,4,9,1])\n",
    "print(x)\n",
    "print(np.unique(x))\n",
    "\n",
    "\n",
    "y = np.array([[1,9,5],[4,9,1]])\n",
    "print(y)\n",
    "print(np.unique(y))"
   ]
  },
  {
   "cell_type": "code",
   "execution_count": 21,
   "metadata": {},
   "outputs": [
    {
     "name": "stdout",
     "output_type": "stream",
     "text": [
      "[1 9 5 4]\n",
      "[5 1 7 2 4 8]\n",
      "[9]\n",
      "[2 7 8]\n"
     ]
    }
   ],
   "source": [
    "# 20. Write a NumPy program to find the set difference of two arrays. The set difference will return the sorted, \n",
    "# unique values in array1 that are not in array2.\n",
    "\n",
    "x = np.array([1,9,5,4])\n",
    "print(x)\n",
    "y = np.array([5,1,7,2,4,8])\n",
    "print(y)\n",
    "print(np.setdiff1d(x,y)) #elements which are in x but not in y\n",
    "print(np.setdiff1d(y,x)) #elements which are in y but not in x"
   ]
  },
  {
   "cell_type": "code",
   "execution_count": 22,
   "metadata": {},
   "outputs": [
    {
     "name": "stdout",
     "output_type": "stream",
     "text": [
      "[1 9 5 4]\n",
      "[5 1 7 2 4 8]\n",
      "[2 7 8 9]\n"
     ]
    }
   ],
   "source": [
    "# 21. Write a NumPy program to find the set exclusive-or of two arrays. Set exclusive-or will return the sorted, \n",
    "# unique values that are in only one (not both) of the input arrays.\n",
    "\n",
    "x = np.array([1,9,5,4])\n",
    "print(x)\n",
    "y = np.array([5,1,7,2,4,8])\n",
    "print(y)\n",
    "print(np.setxor1d(x,y)) "
   ]
  },
  {
   "cell_type": "code",
   "execution_count": 23,
   "metadata": {},
   "outputs": [
    {
     "name": "stdout",
     "output_type": "stream",
     "text": [
      "[1 9 5 4]\n",
      "[5 1 7 2 4 8]\n",
      "[1 2 4 5 7 8 9]\n"
     ]
    }
   ],
   "source": [
    "# 22. Write a NumPy program to find the union of two arrays. Union will return the unique, sorted array of \n",
    "# values that are in either of the two input arrays.\n",
    "\n",
    "x = np.array([1,9,5,4])\n",
    "print(x)\n",
    "y = np.array([5,1,7,2,4,8])\n",
    "print(y)\n",
    "print(np.union1d(x,y))"
   ]
  },
  {
   "cell_type": "code",
   "execution_count": 24,
   "metadata": {},
   "outputs": [
    {
     "name": "stdout",
     "output_type": "stream",
     "text": [
      "False\n",
      "True\n",
      "False\n",
      "True\n"
     ]
    }
   ],
   "source": [
    "# 23. Write a NumPy program to test whether all elements in an array evaluate to True. \n",
    "\n",
    "print(np.all([[True,True],[False,True]]))\n",
    "print(np.all([[True,True,True],[True,True,True]]))\n",
    "print(np.all([0,1,2,3]))\n",
    "print(np.all([1,1,2,3]))\n",
    "#returns true if all values are true"
   ]
  },
  {
   "cell_type": "code",
   "execution_count": 25,
   "metadata": {},
   "outputs": [
    {
     "name": "stdout",
     "output_type": "stream",
     "text": [
      "True\n",
      "True\n",
      "True\n",
      "True\n",
      "False\n"
     ]
    }
   ],
   "source": [
    "# 24. Write a NumPy program to test whether any array element along a given axis evaluates to True.\n",
    "\n",
    "print(np.any([[True,True],[False,True]]))\n",
    "print(np.any([[True,True,True],[True,True,True]]))\n",
    "print(np.any([0,1,2,3]))\n",
    "print(np.any([1,1,2,3]))\n",
    "print(np.any([0,0,0]))"
   ]
  },
  {
   "cell_type": "code",
   "execution_count": 26,
   "metadata": {},
   "outputs": [
    {
     "name": "stdout",
     "output_type": "stream",
     "text": [
      "[3 3]\n",
      "[[3 2 3 2 3 2]\n",
      " [1 0 1 0 1 0]]\n"
     ]
    }
   ],
   "source": [
    "# 25. Write a NumPy program to construct an array by repeating.\n",
    "\n",
    "print(np.tile(3,2))   #repeats '3' 2 times\n",
    "print(np.tile([[3,2],[1,0]], 3))   #repeats each array 3 times"
   ]
  },
  {
   "cell_type": "code",
   "execution_count": 27,
   "metadata": {},
   "outputs": [
    {
     "name": "stdout",
     "output_type": "stream",
     "text": [
      "[3 3]\n",
      "[3 3 3 2 2 2 1 1 1 0 0 0]\n",
      "[[3 3 2 2]\n",
      " [1 1 0 0]]\n",
      "[[3 2]\n",
      " [3 2]\n",
      " [1 0]\n",
      " [1 0]]\n"
     ]
    }
   ],
   "source": [
    "# 26. Write a NumPy program to repeat elements of an array.\n",
    "\n",
    "print(np.repeat(3,2))   #repeats '3' 2 times\n",
    "print(np.repeat([[3,2],[1,0]], 3))   #repeats each element 3 times and return a 1d array\n",
    "print(np.repeat([[3,2],[1,0]], 2, axis = 1)) #repeats each element 2 times along axis = 1 that is columns\n",
    "print(np.repeat([[3,2],[1,0]], 2, axis = 0)) #repeats each element 2 times along axis = 0 that is rows\n",
    "\n",
    "#difference between np.repeat and tile:\n",
    "#np.repeat repeats element of an array\n",
    "#np.tile construct an array by repeating the array the number of times given. "
   ]
  },
  {
   "cell_type": "code",
   "execution_count": 28,
   "metadata": {},
   "outputs": [
    {
     "name": "stdout",
     "output_type": "stream",
     "text": [
      "4 1\n",
      "[0 1] [1 0]\n",
      "[1 1] [0 0]\n"
     ]
    }
   ],
   "source": [
    "# 27. Write a NumPy program to find the indices of the maximum and minimum values along the given axis of an array.\n",
    "  \n",
    "print(np.argmax([3,2,5,6,9]), np.argmin([3,2,5,6,9])) \n",
    "print(np.argmax([[3,2],[0,1]], axis = 1), np.argmin([[3,2],[0,1]], axis = 1)) \n",
    "print(np.argmax([[0,2],[1,3]], axis = 0), np.argmin([[0,2],[1,3]], axis = 0)) "
   ]
  },
  {
   "cell_type": "code",
   "execution_count": 29,
   "metadata": {},
   "outputs": [
    {
     "name": "stdout",
     "output_type": "stream",
     "text": [
      "[False  True False False]\n",
      "[False False  True False]\n",
      "[ True False False  True]\n",
      "[False  True  True False]\n",
      "[ True  True False  True]\n"
     ]
    }
   ],
   "source": [
    "# 28. Write a NumPy program compare two given arrays.\n",
    "\n",
    "x = np.array([1,9,5,4])\n",
    "y = np.array([6,9,0,5])\n",
    "\n",
    "print(np.equal(x,y))\n",
    "print(np.greater(x,y))\n",
    "print(np.less(x,y))\n",
    "print(np.greater_equal(x,y))\n",
    "print(np.less_equal(x,y))"
   ]
  },
  {
   "cell_type": "code",
   "execution_count": 30,
   "metadata": {},
   "outputs": [
    {
     "name": "stdout",
     "output_type": "stream",
     "text": [
      "[[1 9]\n",
      " [2 3]]\n",
      "[[1 3]\n",
      " [2 9]]\n",
      "*****\n",
      "[[2 1]\n",
      " [3 5]]\n",
      "[[1 2]\n",
      " [3 5]]\n",
      "*****\n",
      "[[1 9 3]\n",
      " [2 5 3]]\n",
      "[[1 5 3]\n",
      " [2 9 3]]\n"
     ]
    }
   ],
   "source": [
    "# 29. Write a NumPy program to sort an along the first, last axis of an array. \n",
    "\n",
    "x = np.array([[1,9],[2,3]])\n",
    "print(x)\n",
    "print(np.sort(x, axis = 0))\n",
    "print(\"*****\")\n",
    "y = np.array([[2,1],[3,5]])\n",
    "print(y)\n",
    "print(np.sort(y, axis = 1))\n",
    "print(\"*****\")\n",
    "z = np.array([[1,9,3],[2,5,3]])\n",
    "print(z)\n",
    "print(np.sort(z, axis = 0))"
   ]
  },
  {
   "cell_type": "code",
   "execution_count": 31,
   "metadata": {},
   "outputs": [
    {
     "name": "stdout",
     "output_type": "stream",
     "text": [
      "[3 2 1 0]\n"
     ]
    }
   ],
   "source": [
    "# 30. Write a NumPy program to sort pairs of first name and last name return their indices. (first by last name, \n",
    "# then by first name).\n",
    "\n",
    "x_first = (\"Alisha\",\"Mayank\",\"Meenu\",\"Ajay\")\n",
    "x_last = (\"Rastogi\",\"Khanna\",\"Garg\",\"Garg\")\n",
    "x = np.lexsort((x_first, x_last))\n",
    "# \"Alisha Rastogi\", \"Mayank Khanna\", \"Meenu Garg\", \"Ajay Gupta\" - Pairs of first and last names\n",
    "# lexsort will first sort according to the last key, then second last and so on\n",
    "print(x)"
   ]
  },
  {
   "cell_type": "code",
   "execution_count": 32,
   "metadata": {},
   "outputs": [
    {
     "name": "stdout",
     "output_type": "stream",
     "text": [
      "[11 14 18 91]\n",
      "(array([0, 0, 1, 1]), array([0, 3, 2, 3]))\n"
     ]
    }
   ],
   "source": [
    "# 31. Write a NumPy program to get the values and indices of the elements that are bigger than 10 in a given array.\n",
    "\n",
    "x = np.array([[11,9,5,14],[1,3,18,91]])\n",
    "print(x[x>10])\n",
    "print(np.nonzero(x>10))"
   ]
  },
  {
   "cell_type": "code",
   "execution_count": 33,
   "metadata": {},
   "outputs": [
    {
     "name": "stdout",
     "output_type": "stream",
     "text": [
      "[[1 2]\n",
      " [5 0]]\n"
     ]
    }
   ],
   "source": [
    "# 32. Write a NumPy program to save a NumPy array to a text file.\n",
    "\n",
    "x = np.array([[1,2],[5,0]])\n",
    "print(x)\n",
    "np.savetxt('Array_to_text.txt', x)"
   ]
  },
  {
   "cell_type": "code",
   "execution_count": 34,
   "metadata": {},
   "outputs": [
    {
     "name": "stdout",
     "output_type": "stream",
     "text": [
      "32\n",
      "64\n"
     ]
    }
   ],
   "source": [
    "# 33. Write a NumPy program to find the memory size of a NumPy array.\n",
    "\n",
    "x = np.array([[1,2],[5,0]])\n",
    "print(x.nbytes)\n",
    "\n",
    "y = np.array([1,2,3,4,5,6,7,8])\n",
    "print(y.size * y.itemsize)"
   ]
  },
  {
   "cell_type": "code",
   "execution_count": 35,
   "metadata": {},
   "outputs": [
    {
     "name": "stdout",
     "output_type": "stream",
     "text": [
      "[0 0 0 0]\n",
      "[[1 1 1]\n",
      " [1 1 1]]\n"
     ]
    }
   ],
   "source": [
    "# 34. Write a NumPy program to create an array of ones and an array of zeros. \n",
    "\n",
    "x = np.zeros(4, dtype = np.int)\n",
    "print(x)\n",
    "\n",
    "y = np.ones((2,3), dtype = np.int)\n",
    "print(y)"
   ]
  },
  {
   "cell_type": "code",
   "execution_count": 36,
   "metadata": {},
   "outputs": [
    {
     "name": "stdout",
     "output_type": "stream",
     "text": [
      "[[2 3]\n",
      " [1 0]]\n",
      "[[2]\n",
      " [3]\n",
      " [1]\n",
      " [0]]\n",
      "[[1 2 3]\n",
      " [7 1 0]]\n",
      "(2, 3)\n",
      "[[1 2]\n",
      " [3 7]\n",
      " [1 0]]\n"
     ]
    }
   ],
   "source": [
    "# 35. Write a NumPy program to change the dimension of an array.\n",
    "\n",
    "x = np.array([[2,3],[1,0]])\n",
    "print(x)\n",
    "print(x.reshape(4,1))\n",
    "\n",
    "y = np.array([[1,2,3],[7,1,0]])\n",
    "print(y)\n",
    "print(y.shape)\n",
    "y.shape = (3,2)\n",
    "print(y)"
   ]
  },
  {
   "cell_type": "code",
   "execution_count": 37,
   "metadata": {},
   "outputs": [
    {
     "name": "stdout",
     "output_type": "stream",
     "text": [
      "[[2 3]\n",
      " [1 0]]\n",
      "[2 3 1 0]\n"
     ]
    }
   ],
   "source": [
    "# 36. Write a NumPy program to create a contiguous flattened array. \n",
    "\n",
    "x = np.array([[2,3],[1,0]])\n",
    "print(x)\n",
    "print(np.ravel(x))"
   ]
  },
  {
   "cell_type": "code",
   "execution_count": 38,
   "metadata": {},
   "outputs": [
    {
     "name": "stdout",
     "output_type": "stream",
     "text": [
      "<class 'numpy.ndarray'>\n",
      "(2, 3)\n",
      "int32\n"
     ]
    }
   ],
   "source": [
    "# 37. Write a NumPy program to create a 2-dimensional array of size 2 x 3 (composed of 4-byte integer elements), \n",
    "# also print the shape, type and data type of the array. \n",
    "\n",
    "x = np.array([[1,8,2],[0,4,3]], dtype = np.int32)\n",
    "print(type(x))\n",
    "print(np.shape(x))\n",
    "print(x.dtype)"
   ]
  },
  {
   "cell_type": "code",
   "execution_count": 39,
   "metadata": {},
   "outputs": [
    {
     "name": "stdout",
     "output_type": "stream",
     "text": [
      "[[1 4 9]\n",
      " [0 5 3]]\n",
      "[[1 4]\n",
      " [9 0]\n",
      " [5 3]]\n"
     ]
    }
   ],
   "source": [
    "# 38. Write a NumPy program to create a new shape to an array without changing its data. \n",
    "\n",
    "x = np.array([[1,4,9],[0,5,3]])\n",
    "print(x)\n",
    "print(x.reshape(3,2))"
   ]
  },
  {
   "cell_type": "code",
   "execution_count": 40,
   "metadata": {},
   "outputs": [
    {
     "name": "stdout",
     "output_type": "stream",
     "text": [
      "[[1 4 9]\n",
      " [0 5 3]]\n",
      "int64\n",
      "[[1. 4. 9.]\n",
      " [0. 5. 3.]]\n",
      "float16\n"
     ]
    }
   ],
   "source": [
    "# 39. Write a NumPy program to change the data type of an array. \n",
    "\n",
    "x = np.array([[1,4,9],[0,5,3]])\n",
    "print(x)\n",
    "print(x.dtype)\n",
    "y = x.astype(np.float16)\n",
    "print(y)\n",
    "print(y.dtype)"
   ]
  },
  {
   "cell_type": "code",
   "execution_count": 41,
   "metadata": {},
   "outputs": [
    {
     "name": "stdout",
     "output_type": "stream",
     "text": [
      "[[2 2 2 2 2]\n",
      " [2 2 2 2 2]\n",
      " [2 2 2 2 2]]\n"
     ]
    }
   ],
   "source": [
    "# 40. Write a NumPy program to create a new array of 3*5, filled with 2.\n",
    "\n",
    "x = np.ones((3,5), dtype = np.int16) * 2\n",
    "print(x)"
   ]
  },
  {
   "cell_type": "code",
   "execution_count": 42,
   "metadata": {},
   "outputs": [
    {
     "name": "stdout",
     "output_type": "stream",
     "text": [
      "[0 1 2 3]\n",
      "[10 10 10 10]\n"
     ]
    }
   ],
   "source": [
    "# 41. Write a NumPy program to create an array of 10's with the same shape and type of a given array.\n",
    "\n",
    "x = np.arange(4, dtype = np.int32)\n",
    "print(x)\n",
    "y = np.full_like(x, 10) #x is the array type required and 10 is the fill value for that array\n",
    "print(y)"
   ]
  },
  {
   "cell_type": "code",
   "execution_count": 43,
   "metadata": {},
   "outputs": [
    {
     "name": "stdout",
     "output_type": "stream",
     "text": [
      "[[1. 0. 0.]\n",
      " [0. 1. 0.]\n",
      " [0. 0. 1.]]\n"
     ]
    }
   ],
   "source": [
    "# 42. Write a NumPy program to create a 3-D array with ones on a diagonal and zeros elsewhere. \n",
    "\n",
    "x = np.eye(3)  #write 3 for 3d array, 2 for 2d and 1 for 1d array\n",
    "print(x)"
   ]
  },
  {
   "cell_type": "code",
   "execution_count": 44,
   "metadata": {},
   "outputs": [
    {
     "name": "stdout",
     "output_type": "stream",
     "text": [
      "[[4 0 0 0]\n",
      " [0 5 0 0]\n",
      " [0 0 6 0]\n",
      " [0 0 0 8]]\n"
     ]
    }
   ],
   "source": [
    "# 43. Write a NumPy program to create a 2-D array whose diagonal equals [4, 5, 6, 8] and 0's elsewhere.\n",
    "\n",
    "x = np.diag([4,5,6,8])\n",
    "print(x)"
   ]
  },
  {
   "cell_type": "code",
   "execution_count": 45,
   "metadata": {},
   "outputs": [
    {
     "name": "stdout",
     "output_type": "stream",
     "text": [
      "[ 0  1  2  3  4  5  6  7  8  9 10 11 12 13 14 15 16 17 18 19 20 21 22 23\n",
      " 24 25 26 27 28 29 30 31 32 33 34 35 36 37 38 39 40 41 42 43 44 45 46 47\n",
      " 48 49]\n",
      "[10 11 12 13 14 15 16 17 18 19 20 21 22 23 24 25 26 27 28 29 30 31 32 33\n",
      " 34 35 36 37 38 39 40 41 42 43 44 45 46 47 48 49]\n"
     ]
    }
   ],
   "source": [
    "# 44. Write a NumPy program to create a 1-D array going from 0 to 50 and an array from 10 to 50.\n",
    "\n",
    "x = np.arange(0,50)\n",
    "print(x)\n",
    "\n",
    "y = np.arange(10,50)\n",
    "print(y)"
   ]
  },
  {
   "cell_type": "code",
   "execution_count": 46,
   "metadata": {},
   "outputs": [
    {
     "name": "stdout",
     "output_type": "stream",
     "text": [
      "[2.5        2.63793103 2.77586207 2.9137931  3.05172414 3.18965517\n",
      " 3.32758621 3.46551724 3.60344828 3.74137931 3.87931034 4.01724138\n",
      " 4.15517241 4.29310345 4.43103448 4.56896552 4.70689655 4.84482759\n",
      " 4.98275862 5.12068966 5.25862069 5.39655172 5.53448276 5.67241379\n",
      " 5.81034483 5.94827586 6.0862069  6.22413793 6.36206897 6.5       ]\n"
     ]
    }
   ],
   "source": [
    "# 45. Write a NumPy program to Create a 1-D array of 30 evenly spaced elements between 2.5. and 6.5, inclusive. \n",
    "\n",
    "x = np.linspace(2.5,6.5,30)\n",
    "print(x)"
   ]
  },
  {
   "cell_type": "code",
   "execution_count": 47,
   "metadata": {},
   "outputs": [
    {
     "name": "stdout",
     "output_type": "stream",
     "text": [
      "[  100.           141.25375446   199.5262315    281.83829313\n",
      "   398.10717055   562.34132519   794.32823472  1122.0184543\n",
      "  1584.89319246  2238.72113857  3162.27766017  4466.83592151\n",
      "  6309.5734448   8912.50938134 12589.25411794 17782.79410039\n",
      " 25118.8643151  35481.33892336 50118.72336273 70794.57843841]\n"
     ]
    }
   ],
   "source": [
    "# 46. Write a NumPy program to create a 1-D array of 20 elements spaced evenly on a log scale between 2. and 5., \n",
    "# exclusive. \n",
    "\n",
    "x = np.logspace(2,5,20, endpoint = False)\n",
    "print(x)"
   ]
  },
  {
   "cell_type": "code",
   "execution_count": 48,
   "metadata": {},
   "outputs": [
    {
     "name": "stdout",
     "output_type": "stream",
     "text": [
      "[[0. 0. 0.]\n",
      " [1. 0. 0.]\n",
      " [1. 1. 0.]\n",
      " [1. 1. 1.]]\n"
     ]
    }
   ],
   "source": [
    "# 47. Write a NumPy program to create an array which looks like below array. \n",
    "\n",
    "x = np.tri(4,3,-1)  #tri is triangle with 1's and 0's; 1s at and below the given diagonal and 0s elsewhere\n",
    "#-1 because we want array having 1s below the main diagonal (1 would make it above and 0 would make it on diagonal)\n",
    "print(x)"
   ]
  },
  {
   "cell_type": "code",
   "execution_count": 49,
   "metadata": {},
   "outputs": [
    {
     "name": "stdout",
     "output_type": "stream",
     "text": [
      "[[ 2  3  4]\n",
      " [ 5  6  7]\n",
      " [ 0  9 10]\n",
      " [ 0  0 13]]\n"
     ]
    }
   ],
   "source": [
    "# 48. Write a NumPy program to create an array which looks like below array. \n",
    "\n",
    "x = np.triu(np.arange(2,14).reshape(4,3),-1) #element below the kth diagonal will be zero\n",
    "#-1 will make only the elements below the main diagonal 0, 1 will make elements above the main diagonal 0 and \n",
    "# 0 will make elements till the main diagonal 0\n",
    "print(x)"
   ]
  },
  {
   "cell_type": "code",
   "execution_count": 50,
   "metadata": {},
   "outputs": [
    {
     "name": "stdout",
     "output_type": "stream",
     "text": [
      "[[[0 1]\n",
      "  [2 3]]\n",
      "\n",
      " [[4 5]\n",
      "  [6 7]]]\n",
      "[0 1 2 3 4 5 6 7]\n"
     ]
    }
   ],
   "source": [
    "# 49. Write a NumPy program to collapse a 3-D array into one dimension array. \n",
    "\n",
    "x = np.arange(8).reshape(2,2,2)\n",
    "print(x)\n",
    "print(np.ravel(x))"
   ]
  },
  {
   "cell_type": "code",
   "execution_count": 51,
   "metadata": {},
   "outputs": [
    {
     "name": "stdout",
     "output_type": "stream",
     "text": [
      "[0 1 2 3 4 5 6 7]\n",
      "3\n",
      "[[0 1 2 3]\n",
      " [4 5 6 7]]\n",
      "[0 1 2 3 4 5 6 7]\n",
      "3\n",
      "[[0 1 2 3]\n",
      " [4 5 6 7]]\n",
      "<numpy.flatiter object at 0x7facd38e2c00>\n",
      "3\n"
     ]
    }
   ],
   "source": [
    "# 50. Write a NumPy program to find the 4th element of a specified array. \n",
    "\n",
    "x = np.arange(8)\n",
    "print(x)\n",
    "print(x[3])\n",
    "\n",
    "y = np.arange(8).reshape(2,4)\n",
    "print(y)\n",
    "z = np.ravel(y)\n",
    "print(z)\n",
    "print(z[3])\n",
    "\n",
    "a = np.arange(8).reshape(2,4)\n",
    "print(y)\n",
    "b = a.flat\n",
    "print(b)\n",
    "print(b[3])"
   ]
  },
  {
   "cell_type": "code",
   "execution_count": 52,
   "metadata": {},
   "outputs": [
    {
     "name": "stdout",
     "output_type": "stream",
     "text": [
      "[[0 1 2 3]\n",
      " [4 5 6 7]]\n",
      "[[0 4]\n",
      " [1 5]\n",
      " [2 6]\n",
      " [3 7]]\n"
     ]
    }
   ],
   "source": [
    "# 51. Write a NumPy program to interchange two axes of an array.\n",
    "\n",
    "x = np.arange(8).reshape(2,4)\n",
    "print(x)\n",
    "y = np.swapaxes(x,0,1)\n",
    "print(y)"
   ]
  },
  {
   "cell_type": "code",
   "execution_count": 53,
   "metadata": {},
   "outputs": [
    {
     "name": "stdout",
     "output_type": "stream",
     "text": [
      "(2, 3, 4)\n",
      "(4, 2, 3)\n",
      "(3, 4, 2)\n"
     ]
    }
   ],
   "source": [
    "# 52. Write a NumPy program to move axes of an array to new positions. Other axes remain in their original order. \n",
    "\n",
    "x = np.zeros((2,3,4))\n",
    "print(x.shape)\n",
    "y = np.moveaxis(x,-1,0) #-1 is the axis to be moved and 0 is its final position in the array\n",
    "print(y.shape)\n",
    "z = np.moveaxis(x,0,-1)\n",
    "print(z.shape)"
   ]
  },
  {
   "cell_type": "code",
   "execution_count": 54,
   "metadata": {},
   "outputs": [
    {
     "name": "stdout",
     "output_type": "stream",
     "text": [
      "(3, 4, 5, 6)\n",
      "(3, 6, 4, 5)\n",
      "(3, 4, 5, 6)\n",
      "(3, 5, 4, 6)\n"
     ]
    }
   ],
   "source": [
    "# 53. Write a NumPy program to move the specified axis backwards, until it lies in a given position. \n",
    "\n",
    "x = np.ones((3,4,5,6))\n",
    "print(x.shape)\n",
    "y = np.rollaxis(x, 3, 1) #Move the following 3rd array axes to first position.\n",
    "print(y.shape)\n",
    "a = np.zeros((3,4,5,6))\n",
    "print(a.shape)\n",
    "b = np.rollaxis(a, 2, 1)\n",
    "print(b.shape)"
   ]
  },
  {
   "cell_type": "code",
   "execution_count": 55,
   "metadata": {},
   "outputs": [
    {
     "name": "stdout",
     "output_type": "stream",
     "text": [
      "[12]\n",
      "[[0 1]\n",
      " [2 3]\n",
      " [4 5]]\n",
      "[[0 1]\n",
      " [2 3]\n",
      " [4 5]]\n"
     ]
    }
   ],
   "source": [
    "# 54. Write a NumPy program to convert specified inputs to arrays with at least one dimension. \n",
    "\n",
    "x = 12\n",
    "y = np.atleast_1d(x)  #scalar input is convereted to 1d array\n",
    "print(y)\n",
    "\n",
    "a = np.arange(6).reshape(3,2)\n",
    "print(a)\n",
    "b = np.atleast_1d(a)   #higher dimensional arrays are preserved\n",
    "print(b)"
   ]
  },
  {
   "cell_type": "code",
   "execution_count": 56,
   "metadata": {},
   "outputs": [
    {
     "name": "stdout",
     "output_type": "stream",
     "text": [
      "[[12]]\n",
      "****\n",
      "[[[12]]]\n",
      "****\n",
      "[[0 1]\n",
      " [2 3]\n",
      " [4 5]]\n",
      "****\n",
      "[[[0]\n",
      "  [1]]\n",
      "\n",
      " [[2]\n",
      "  [3]]\n",
      "\n",
      " [[4]\n",
      "  [5]]]\n"
     ]
    }
   ],
   "source": [
    "# 55. Write a NumPy program to view inputs as arrays with at least two dimensions, three dimensions. \n",
    "\n",
    "x = 12\n",
    "y = np.atleast_2d(x)  \n",
    "print(y)\n",
    "print(\"****\")\n",
    "c = np.atleast_3d(x)\n",
    "print(c)\n",
    "print(\"****\")\n",
    "a = np.arange(6).reshape(3,2)\n",
    "#print(a)\n",
    "b = np.atleast_2d(a)   \n",
    "print(b)\n",
    "print(\"****\")\n",
    "d = np.atleast_3d(a)\n",
    "print(d)"
   ]
  },
  {
   "cell_type": "code",
   "execution_count": 57,
   "metadata": {},
   "outputs": [
    {
     "name": "stdout",
     "output_type": "stream",
     "text": [
      "(2,)\n",
      "(2, 1)\n",
      "(2, 2)\n",
      "(2, 2, 1)\n"
     ]
    }
   ],
   "source": [
    "# 56. Write a NumPy program to insert a new axis within a 2-D array. \n",
    "\n",
    "x = np.array([1,2])\n",
    "print(x.shape)\n",
    "y = np.expand_dims(x, 1) #new axis will be inserted at axis = 1\n",
    "print(y.shape)\n",
    "\n",
    "a = np.array([[1,2],[9,3]])\n",
    "print(a.shape)\n",
    "b = np.expand_dims(a,2) #new axis will be inserted at axis = 2\n",
    "print(b.shape)"
   ]
  },
  {
   "cell_type": "code",
   "execution_count": 58,
   "metadata": {},
   "outputs": [
    {
     "name": "stdout",
     "output_type": "stream",
     "text": [
      "(3, 1)\n",
      "(3,)\n",
      "(2, 3, 4, 1)\n",
      "(2, 3, 4)\n"
     ]
    }
   ],
   "source": [
    "# 57. Write a NumPy program to remove single-dimensional entries from a specified shape. \n",
    "\n",
    "x = np.array([[1],[9],[3]])\n",
    "print(x.shape)\n",
    "print(np.squeeze(x).shape) #removes the 1-dimensional entries from an array\n",
    "\n",
    "y = np.ones((2,3,4,1))\n",
    "print(y.shape)\n",
    "print(np.squeeze(y).shape)"
   ]
  },
  {
   "cell_type": "code",
   "execution_count": 59,
   "metadata": {},
   "outputs": [
    {
     "name": "stdout",
     "output_type": "stream",
     "text": [
      "[[[2 3]\n",
      "  [1 0]]\n",
      "\n",
      " [[1 9]\n",
      "  [3 4]]]\n",
      "****\n",
      "[[[1 5]\n",
      "  [0 5]]\n",
      "\n",
      " [[4 4]\n",
      "  [1 0]]]\n",
      "****\n",
      "[[[2 3]\n",
      "  [1 0]]\n",
      "\n",
      " [[1 9]\n",
      "  [3 4]]\n",
      "\n",
      " [[1 5]\n",
      "  [0 5]]\n",
      "\n",
      " [[4 4]\n",
      "  [1 0]]]\n",
      "****\n",
      "[[[2 3]\n",
      "  [1 0]\n",
      "  [1 5]\n",
      "  [0 5]]\n",
      "\n",
      " [[1 9]\n",
      "  [3 4]\n",
      "  [4 4]\n",
      "  [1 0]]]\n",
      "****\n",
      "[[[2 3 1 5]\n",
      "  [1 0 0 5]]\n",
      "\n",
      " [[1 9 4 4]\n",
      "  [3 4 1 0]]]\n"
     ]
    }
   ],
   "source": [
    "# 58. Write a NumPy program to concatenate two 2-dimensional arrays. \n",
    "\n",
    "x = np.array([[[2,3],[1,0]],[[1,9],[3,4]]])\n",
    "print(x)\n",
    "print(\"****\")\n",
    "y = np.array([[[1,5],[0,5]],[[4,4],[1,0]]])\n",
    "print(y)\n",
    "print(\"****\")\n",
    "print(np.concatenate((x,y),axis = 0))\n",
    "print(\"****\")\n",
    "print(np.concatenate((x,y),axis = 1))\n",
    "print(\"****\")\n",
    "print(np.concatenate((x,y),axis = 2))"
   ]
  },
  {
   "cell_type": "code",
   "execution_count": 60,
   "metadata": {},
   "outputs": [
    {
     "name": "stdout",
     "output_type": "stream",
     "text": [
      "[0 2 1]\n",
      "[7 3 5]\n",
      "[[0 2 1]\n",
      " [7 3 5]]\n",
      "[[0 7]\n",
      " [2 3]\n",
      " [1 5]]\n"
     ]
    }
   ],
   "source": [
    "# 59. Write a NumPy program to convert 1-D arrays as columns into a 2-D array.\n",
    "\n",
    "x = np.array((0,2,1))\n",
    "print(x)\n",
    "y = np.array((7,3,5))\n",
    "print(y)\n",
    "print(np.vstack((x,y)))  #method 1\n",
    "print(np.column_stack((x,y))) #method 2"
   ]
  },
  {
   "cell_type": "code",
   "execution_count": 61,
   "metadata": {},
   "outputs": [
    {
     "name": "stdout",
     "output_type": "stream",
     "text": [
      "[0 2 1]\n",
      "[7 3 5]\n",
      "[[[0 7]\n",
      "  [2 3]\n",
      "  [1 5]]]\n",
      "(1, 3, 2)\n"
     ]
    }
   ],
   "source": [
    "# 60. Write a NumPy program to convert (in sequence depth wise (along third axis)) two 1-D arrays into a 2-D array. \n",
    "\n",
    "x = np.array((0,2,1))\n",
    "print(x)\n",
    "y = np.array((7,3,5))\n",
    "print(y)\n",
    "print(np.dstack((x,y)))\n",
    "print(np.dstack((x,y)).shape)"
   ]
  },
  {
   "cell_type": "code",
   "execution_count": 62,
   "metadata": {},
   "outputs": [
    {
     "name": "stdout",
     "output_type": "stream",
     "text": [
      "[ 0  1  2  3  4  5  6  7  8  9 10 11 12 13]\n",
      "[array([0, 1]), array([2, 3, 4, 5]), array([ 6,  7,  8,  9, 10, 11, 12, 13])]\n"
     ]
    }
   ],
   "source": [
    "# 61. Write a NumPy program to split an array of 14 elements into 3 arrays, each of which has 2, 4, and 8 \n",
    "# elements in the original order. \n",
    "\n",
    "x = np.arange(14)\n",
    "print(x)\n",
    "print(np.split(x,[2,6]))"
   ]
  },
  {
   "cell_type": "code",
   "execution_count": 63,
   "metadata": {},
   "outputs": [
    {
     "name": "stdout",
     "output_type": "stream",
     "text": [
      "[[ 0  1  2  3]\n",
      " [ 4  5  6  7]\n",
      " [ 8  9 10 11]\n",
      " [12 13 14 15]]\n",
      "[array([[ 0,  1],\n",
      "       [ 4,  5],\n",
      "       [ 8,  9],\n",
      "       [12, 13]]), array([[ 2,  3],\n",
      "       [ 6,  7],\n",
      "       [10, 11],\n",
      "       [14, 15]])]\n"
     ]
    }
   ],
   "source": [
    "# 62. Write a NumPy program to split of an array of shape 4x4 into two arrays along the second axis. \n",
    "\n",
    "x = np.arange(16).reshape((4,4))\n",
    "print(x)\n",
    "print(np.hsplit(x, 2))"
   ]
  },
  {
   "cell_type": "code",
   "execution_count": 64,
   "metadata": {},
   "outputs": [
    {
     "name": "stdout",
     "output_type": "stream",
     "text": [
      "[[ 1  2  3]\n",
      " [10  0  9]\n",
      " [ 4  5  0]\n",
      " [ 2  5  4]]\n",
      "10\n"
     ]
    }
   ],
   "source": [
    "# 63. Write a NumPy program to get the number of nonzero elements in an array. \n",
    "\n",
    "x = np.array([[1,2,3],[10,0,9],[4,5,0],[2,5,4]])\n",
    "print(x)\n",
    "print(np.count_nonzero(x))"
   ]
  },
  {
   "cell_type": "code",
   "execution_count": 65,
   "metadata": {},
   "outputs": [
    {
     "name": "stdout",
     "output_type": "stream",
     "text": [
      "[[0. 0. 0. 0. 0.]\n",
      " [0. 0. 0. 0. 0.]\n",
      " [0. 0. 0. 0. 0.]\n",
      " [0. 0. 0. 0. 0.]\n",
      " [0. 0. 0. 0. 0.]]\n",
      "[0 1 2 3 4]\n",
      "[[0. 1. 2. 3. 4.]\n",
      " [0. 1. 2. 3. 4.]\n",
      " [0. 1. 2. 3. 4.]\n",
      " [0. 1. 2. 3. 4.]\n",
      " [0. 1. 2. 3. 4.]]\n"
     ]
    }
   ],
   "source": [
    "# 64. Write a NumPy program to create a 5x5 matrix with row values ranging from 0 to 4.\n",
    "\n",
    "x = np.zeros(25).reshape((5,5))\n",
    "print(x)\n",
    "y = np.arange(5)\n",
    "print(y)\n",
    "x += y\n",
    "print(x)"
   ]
  },
  {
   "cell_type": "code",
   "execution_count": 66,
   "metadata": {},
   "outputs": [
    {
     "name": "stdout",
     "output_type": "stream",
     "text": [
      "[[1.   2.   7.   0.   5.1 ]\n",
      " [3.   4.5  7.11 2.   1.  ]]\n",
      "True\n",
      "True\n",
      "False\n"
     ]
    }
   ],
   "source": [
    "# 65. Write a NumPy program to test whether specified values are present in an array. \n",
    "\n",
    "x = np.array([[1,2,7,0,5.1],[3,4.5,7.11,2,1]])\n",
    "print(x)\n",
    "print(5.1 in x)\n",
    "print(2 in x)\n",
    "print(75.6 in x)"
   ]
  },
  {
   "cell_type": "code",
   "execution_count": 67,
   "metadata": {},
   "outputs": [
    {
     "name": "stdout",
     "output_type": "stream",
     "text": [
      "[0.  0.1 0.2 0.3 0.4 0.5 0.6 0.7 0.8 0.9]\n"
     ]
    }
   ],
   "source": [
    "# 66. Write a NumPy program to create a vector of size 10 with values ranging from 0 to 1, both excluded.\n",
    "\n",
    "x = np.linspace(0,1,10, endpoint = False)\n",
    "print(x)"
   ]
  },
  {
   "cell_type": "code",
   "execution_count": 68,
   "metadata": {},
   "outputs": [
    {
     "name": "stdout",
     "output_type": "stream",
     "text": [
      "[0 1 2 3 4]\n"
     ]
    },
    {
     "ename": "ValueError",
     "evalue": "assignment destination is read-only",
     "output_type": "error",
     "traceback": [
      "\u001b[0;31m---------------------------------------------------------------------------\u001b[0m",
      "\u001b[0;31mValueError\u001b[0m                                Traceback (most recent call last)",
      "\u001b[0;32m<ipython-input-68-3fcf373bb690>\u001b[0m in \u001b[0;36m<module>\u001b[0;34m\u001b[0m\n\u001b[1;32m      4\u001b[0m \u001b[0mprint\u001b[0m\u001b[0;34m(\u001b[0m\u001b[0mx\u001b[0m\u001b[0;34m)\u001b[0m\u001b[0;34m\u001b[0m\u001b[0;34m\u001b[0m\u001b[0m\n\u001b[1;32m      5\u001b[0m \u001b[0mx\u001b[0m\u001b[0;34m.\u001b[0m\u001b[0mflags\u001b[0m\u001b[0;34m.\u001b[0m\u001b[0mwriteable\u001b[0m \u001b[0;34m=\u001b[0m \u001b[0;32mFalse\u001b[0m  \u001b[0;31m#writing has been set to false to make it read only\u001b[0m\u001b[0;34m\u001b[0m\u001b[0;34m\u001b[0m\u001b[0m\n\u001b[0;32m----> 6\u001b[0;31m \u001b[0mx\u001b[0m\u001b[0;34m[\u001b[0m\u001b[0;36m3\u001b[0m\u001b[0;34m]\u001b[0m \u001b[0;34m=\u001b[0m \u001b[0;36m9\u001b[0m\u001b[0;34m\u001b[0m\u001b[0;34m\u001b[0m\u001b[0m\n\u001b[0m\u001b[1;32m      7\u001b[0m \u001b[0mprint\u001b[0m\u001b[0;34m(\u001b[0m\u001b[0mx\u001b[0m\u001b[0;34m)\u001b[0m\u001b[0;34m\u001b[0m\u001b[0;34m\u001b[0m\u001b[0m\n",
      "\u001b[0;31mValueError\u001b[0m: assignment destination is read-only"
     ]
    }
   ],
   "source": [
    "# 67. Write a NumPy program to make an array immutable (read-only). \n",
    "\n",
    "x = np.arange(5)\n",
    "print(x)\n",
    "x.flags.writeable = False  #writing has been set to false to make it read only\n",
    "x[3] = 9\n",
    "print(x)"
   ]
  },
  {
   "cell_type": "code",
   "execution_count": null,
   "metadata": {},
   "outputs": [],
   "source": [
    "# 68. Write a NumPy program (using NumPy) to sum of all the multiples of 3 or 5 below 100.\n",
    "\n",
    "a = np.arange(100)\n",
    "print(a)\n",
    "b = a[(a % 3 == 0)|(a % 5 == 0)]     #multiple of 3 or 5 will cover all the common multiples too\n",
    "print(b)\n",
    "print(np.sum(b))"
   ]
  },
  {
   "cell_type": "code",
   "execution_count": null,
   "metadata": {},
   "outputs": [],
   "source": [
    "# 69. Write a NumPy program to create an array with 10^3 elements. \n",
    "\n",
    "x = np.arange(10**3)   #or np.arange(1e3)\n",
    "print(x)"
   ]
  },
  {
   "cell_type": "code",
   "execution_count": null,
   "metadata": {},
   "outputs": [],
   "source": [
    "# 70. Write a NumPy program to create and display every element of a NumPy array.\n",
    "\n",
    "x = np.arange(9)\n",
    "print(x)\n",
    "for i in np.nditer(x):\n",
    "    #print(i)\n",
    "    print(i, end = \"\")"
   ]
  },
  {
   "cell_type": "code",
   "execution_count": null,
   "metadata": {},
   "outputs": [],
   "source": [
    "# 71. Write a NumPy program to create and display every element of a NumPy array in Fortran order.\n",
    "\n",
    "x = np.arange(9).reshape((3,3))\n",
    "print(x)\n",
    "for i in np.nditer(x, order = 'F'):  #here F is fortran\n",
    "    print(i, end = \"\")"
   ]
  },
  {
   "cell_type": "code",
   "execution_count": null,
   "metadata": {},
   "outputs": [],
   "source": [
    "# 72. Write a NumPy program to create a 5x5x5 cube of 1's.\n",
    "\n",
    "x = np.ones(125).reshape((5,5,5))\n",
    "print(x)"
   ]
  },
  {
   "cell_type": "code",
   "execution_count": null,
   "metadata": {},
   "outputs": [],
   "source": [
    "# 73. Write a NumPy program to create an array of (3, 4) shape, multiply every element value by 3 and \n",
    "# display the new array. \n",
    "\n",
    "x = np.arange(12).reshape((3,4))\n",
    "print(x)\n",
    "y = x * 3\n",
    "print(y)"
   ]
  },
  {
   "cell_type": "code",
   "execution_count": null,
   "metadata": {},
   "outputs": [],
   "source": [
    "# 74. Write a NumPy program to combine a one and a two dimensional array together and display their elements.\n",
    "\n",
    "#method 1\n",
    "x = np.arange(4)\n",
    "print(x)\n",
    "y = np.arange(8).reshape(4,2)\n",
    "print(y)\n",
    "z = np.column_stack((x,y))\n",
    "print(z)\n",
    "for i in np.nditer(z):\n",
    "    print(i)\n",
    "print(\"*****\") \n",
    "\n",
    "#method 2\n",
    "a = np.arange(4)\n",
    "print(a)\n",
    "b = np.arange(8).reshape(2,4)\n",
    "print(b)\n",
    "for x, y in np.nditer([a,b]):\n",
    "    print(\"%d:%d\" %(x,y))"
   ]
  },
  {
   "cell_type": "code",
   "execution_count": null,
   "metadata": {},
   "outputs": [],
   "source": [
    "# 75. Write a NumPy program to create an array of zeros and three column types (integer, float, character).\n",
    "\n",
    "x = np.zeros((3), dtype = (\"int32, float32, str\"))\n",
    "print(x)\n",
    "y = [(4,3.5,'A'),(3,1.23,'B'),(9,2.7,'C')]\n",
    "x = y\n",
    "print(x)"
   ]
  },
  {
   "cell_type": "code",
   "execution_count": null,
   "metadata": {},
   "outputs": [],
   "source": [
    "# 76. Write a NumPy program to create a function cube which cubes all the elements of an array. \n",
    "\n",
    "#method 1:\n",
    "#create a new array\n",
    "def cube_arr(arr):\n",
    "    new_arr = np.nditer([arr,None])\n",
    "    for a, b in new_arr:\n",
    "        b[...] = a*a*a\n",
    "    return new_arr.operands[1]\n",
    "print(cube_arr([0,1,2,3,4,5]))\n",
    "\n",
    "#method 2: \n",
    "#return array in place\n",
    "def cube_arr(arr):\n",
    "    new_arr = np.empty_like(arr)\n",
    "    mask_arr = np.empty_like(arr)\n",
    "    for i in np.nditer(arr):\n",
    "        j = i*i*i\n",
    "        new_arr[i] = j\n",
    "        mask_arr[i] = True\n",
    "    np.place(arr, mask_arr, new_arr)\n",
    "    return arr\n",
    "    \n",
    "print(cube_arr(np.arange(6)))"
   ]
  },
  {
   "cell_type": "code",
   "execution_count": null,
   "metadata": {},
   "outputs": [],
   "source": [
    "# 77. Write a NumPy program to create an array of (3, 4) shape and convert the array elements in smaller chunks.\n",
    "x = np.arange(12).reshape((3,4))\n",
    "print(x)\n",
    "#external loop causes arrays to be one dimensional instead of zero dimensional\n",
    "#using F caused the array to be split in smaller chunks as per the fortran order\n",
    "for a in np.nditer(x, flags = ['external_loop'], order = 'F'): \n",
    "    print(a)"
   ]
  },
  {
   "cell_type": "code",
   "execution_count": null,
   "metadata": {},
   "outputs": [],
   "source": [
    "# 78. Write a NumPy program to create a record array from a (flat) list of arrays. \n",
    "\n",
    "a = np.array([1,2,3,4])\n",
    "b = np.array(['Red','Green','White','Orange'])\n",
    "c = np.array([12.20,15,20,40])\n",
    "print(a, b, c)\n",
    "x = np.core.records.fromarrays([a,b,c])\n",
    "print(x[0])\n",
    "print(x[1])\n",
    "print(x[2])"
   ]
  },
  {
   "cell_type": "code",
   "execution_count": 136,
   "metadata": {},
   "outputs": [
    {
     "name": "stdout",
     "output_type": "stream",
     "text": [
      "[[-1.         -0.77777778 -0.55555556 -0.33333333 -0.11111111  0.11111111\n",
      "   0.33333333  0.55555556  0.77777778  1.        ]\n",
      " [-1.         -0.77777778 -0.55555556 -0.33333333 -0.11111111  0.11111111\n",
      "   0.33333333  0.55555556  0.77777778  1.        ]\n",
      " [-1.         -0.77777778 -0.55555556 -0.33333333 -0.11111111  0.11111111\n",
      "   0.33333333  0.55555556  0.77777778  1.        ]\n",
      " [-1.         -0.77777778 -0.55555556 -0.33333333 -0.11111111  0.11111111\n",
      "   0.33333333  0.55555556  0.77777778  1.        ]\n",
      " [-1.         -0.77777778 -0.55555556 -0.33333333 -0.11111111  0.11111111\n",
      "   0.33333333  0.55555556  0.77777778  1.        ]\n",
      " [-1.         -0.77777778 -0.55555556 -0.33333333 -0.11111111  0.11111111\n",
      "   0.33333333  0.55555556  0.77777778  1.        ]\n",
      " [-1.         -0.77777778 -0.55555556 -0.33333333 -0.11111111  0.11111111\n",
      "   0.33333333  0.55555556  0.77777778  1.        ]\n",
      " [-1.         -0.77777778 -0.55555556 -0.33333333 -0.11111111  0.11111111\n",
      "   0.33333333  0.55555556  0.77777778  1.        ]\n",
      " [-1.         -0.77777778 -0.55555556 -0.33333333 -0.11111111  0.11111111\n",
      "   0.33333333  0.55555556  0.77777778  1.        ]\n",
      " [-1.         -0.77777778 -0.55555556 -0.33333333 -0.11111111  0.11111111\n",
      "   0.33333333  0.55555556  0.77777778  1.        ]]\n",
      "[[-1.         -1.         -1.         -1.         -1.         -1.\n",
      "  -1.         -1.         -1.         -1.        ]\n",
      " [-0.77777778 -0.77777778 -0.77777778 -0.77777778 -0.77777778 -0.77777778\n",
      "  -0.77777778 -0.77777778 -0.77777778 -0.77777778]\n",
      " [-0.55555556 -0.55555556 -0.55555556 -0.55555556 -0.55555556 -0.55555556\n",
      "  -0.55555556 -0.55555556 -0.55555556 -0.55555556]\n",
      " [-0.33333333 -0.33333333 -0.33333333 -0.33333333 -0.33333333 -0.33333333\n",
      "  -0.33333333 -0.33333333 -0.33333333 -0.33333333]\n",
      " [-0.11111111 -0.11111111 -0.11111111 -0.11111111 -0.11111111 -0.11111111\n",
      "  -0.11111111 -0.11111111 -0.11111111 -0.11111111]\n",
      " [ 0.11111111  0.11111111  0.11111111  0.11111111  0.11111111  0.11111111\n",
      "   0.11111111  0.11111111  0.11111111  0.11111111]\n",
      " [ 0.33333333  0.33333333  0.33333333  0.33333333  0.33333333  0.33333333\n",
      "   0.33333333  0.33333333  0.33333333  0.33333333]\n",
      " [ 0.55555556  0.55555556  0.55555556  0.55555556  0.55555556  0.55555556\n",
      "   0.55555556  0.55555556  0.55555556  0.55555556]\n",
      " [ 0.77777778  0.77777778  0.77777778  0.77777778  0.77777778  0.77777778\n",
      "   0.77777778  0.77777778  0.77777778  0.77777778]\n",
      " [ 1.          1.          1.          1.          1.          1.\n",
      "   1.          1.          1.          1.        ]]\n",
      "[[0.36787944 0.44822088 0.51979489 0.57375342 0.60279818 0.60279818\n",
      "  0.57375342 0.51979489 0.44822088 0.36787944]\n",
      " [0.44822088 0.54610814 0.63331324 0.69905581 0.73444367 0.73444367\n",
      "  0.69905581 0.63331324 0.54610814 0.44822088]\n",
      " [0.51979489 0.63331324 0.73444367 0.81068432 0.85172308 0.85172308\n",
      "  0.81068432 0.73444367 0.63331324 0.51979489]\n",
      " [0.57375342 0.69905581 0.81068432 0.89483932 0.9401382  0.9401382\n",
      "  0.89483932 0.81068432 0.69905581 0.57375342]\n",
      " [0.60279818 0.73444367 0.85172308 0.9401382  0.98773022 0.98773022\n",
      "  0.9401382  0.85172308 0.73444367 0.60279818]\n",
      " [0.60279818 0.73444367 0.85172308 0.9401382  0.98773022 0.98773022\n",
      "  0.9401382  0.85172308 0.73444367 0.60279818]\n",
      " [0.57375342 0.69905581 0.81068432 0.89483932 0.9401382  0.9401382\n",
      "  0.89483932 0.81068432 0.69905581 0.57375342]\n",
      " [0.51979489 0.63331324 0.73444367 0.81068432 0.85172308 0.85172308\n",
      "  0.81068432 0.73444367 0.63331324 0.51979489]\n",
      " [0.44822088 0.54610814 0.63331324 0.69905581 0.73444367 0.73444367\n",
      "  0.69905581 0.63331324 0.54610814 0.44822088]\n",
      " [0.36787944 0.44822088 0.51979489 0.57375342 0.60279818 0.60279818\n",
      "  0.57375342 0.51979489 0.44822088 0.36787944]]\n",
      "\n",
      "[[0.60653066 0.7389913  0.85699689 0.94595947 0.99384617 0.99384617\n",
      "  0.94595947 0.85699689 0.7389913  0.60653066]]\n"
     ]
    }
   ],
   "source": [
    "# 79. Write a NumPy program to generate a generic 2D Gaussian-like array. \n",
    "\n",
    "#method 1:\n",
    "#meshgrid creates a mesh like grid with points arranged in two different orders in rows and in columns.\n",
    "a, b = np.meshgrid(np.linspace(-1,1,10), np.linspace(-1,1,10))\n",
    "#print(a)\n",
    "#print(b)\n",
    "x = np.sqrt(a*a+b*b)\n",
    "#print(x)\n",
    "sigma, mu = 1.0, 0.0\n",
    "g = np.exp(-( (x-mu)**2 / ( 2.0 * sigma**2 ) ) ) #formula to create a Gaussian array\n",
    "#as the input is 2D array, we get a 2D Gaussian-like array\n",
    "print(g)\n",
    "print()\n",
    "\n",
    "#method 2: (a simpler way)\n",
    "a = np.linspace(-1,1,10).reshape(1,-1)  #converting a into a 2D array\n",
    "# print(a)\n",
    "sigma, mu = 1.0, 0.0\n",
    "g = np.exp(-( (a-mu)**2 / ( 2.0 * sigma**2 ) ) ) #formula to create a Gaussian array\n",
    "#as the input is 2D array, we get a 2D Gaussian-like array\n",
    "print(g)"
   ]
  },
  {
   "cell_type": "code",
   "execution_count": null,
   "metadata": {},
   "outputs": [],
   "source": [
    "# 80. Write a NumPy program to convert a NumPy array into Python list structure. \n",
    "\n",
    "#list from a 2D array\n",
    "x = np.arange(12).reshape(3,4)\n",
    "print(x)\n",
    "print(x.tolist())\n",
    "print()\n",
    "\n",
    "#list from a 1D array\n",
    "y = np.arange(5)\n",
    "print(y)\n",
    "print(y.tolist())"
   ]
  },
  {
   "cell_type": "code",
   "execution_count": null,
   "metadata": {},
   "outputs": [],
   "source": [
    "# 81. Write a NumPy program to access an array by column.\n",
    "\n",
    "x = np.arange(10).reshape(5,2)\n",
    "print(x)\n",
    "print(x[:,0])\n",
    "print(x[:,1])"
   ]
  },
  {
   "cell_type": "code",
   "execution_count": null,
   "metadata": {},
   "outputs": [],
   "source": [
    "# 82. Write a NumPy program to convert a NumPy array of float values to a NumPy array of integer values.\n",
    "\n",
    "x = np.array([1,2,7,9,4.5], dtype = np.float32)\n",
    "print(x)\n",
    "y = np.array(x, dtype = np.int32)\n",
    "print(y)\n",
    "z = x.astype(np.int32)\n",
    "print(z)"
   ]
  },
  {
   "cell_type": "code",
   "execution_count": null,
   "metadata": {},
   "outputs": [],
   "source": [
    "# 83. Write a NumPy program to display NumPy array elements of floating values with given precision. \n",
    "\n",
    "x = np.array([1.234986, 3.98726873, 54.2029381, 9.1202393])\n",
    "np.set_printoptions(precision = 3)\n",
    "print(x)"
   ]
  },
  {
   "cell_type": "code",
   "execution_count": null,
   "metadata": {},
   "outputs": [],
   "source": [
    "# 84. Write a NumPy program to suppresses the use of scientific notation for small numbers in NumPy array. \n",
    "\n",
    "x = np.array([1.60000000e-10, 1.60000000e+00, 1.20000000e+03, 2.35000000e-01])\n",
    "np.set_printoptions(suppress = True)\n",
    "print(x)"
   ]
  },
  {
   "cell_type": "code",
   "execution_count": null,
   "metadata": {},
   "outputs": [],
   "source": [
    "# 85. Write a NumPy program to create a NumPy array of 10 integers from a generator.\n",
    "\n",
    "#method 1: can generate repeated integers\n",
    "for i in range(10):\n",
    "    value = np.random.randint(0,10)\n",
    "    print(value)\n",
    "print()\n",
    "\n",
    "#method 2: will generate different integers\n",
    "iterable = (x for x in range(10))\n",
    "print(np.fromiter(iterable, np.int)) #formiter creates a new 1d array from iterable object"
   ]
  },
  {
   "cell_type": "code",
   "execution_count": null,
   "metadata": {},
   "outputs": [],
   "source": [
    "# 86. Write a NumPy program to add an extra column to a NumPy array. \n",
    "\n",
    "x = np.arange(10).reshape(5,2)\n",
    "print(x)\n",
    "y = np.arange(5).reshape(5,1)\n",
    "print(y)\n",
    "z = np.append(x,y, axis = 1)\n",
    "print(z)"
   ]
  },
  {
   "cell_type": "code",
   "execution_count": null,
   "metadata": {},
   "outputs": [],
   "source": [
    "# 87. Write a NumPy program to find unique rows in a NumPy array.\n",
    "\n",
    "x = np.array([[5,5,5,5],[20,10,0,5],[20,20,9,5],[20,10,0,5],[5,5,5,5]])\n",
    "print(x)\n",
    "print()\n",
    "unique_rows = np.unique(x, axis=0) #axis = 0 represents rows\n",
    "print(unique_rows)"
   ]
  },
  {
   "cell_type": "code",
   "execution_count": null,
   "metadata": {},
   "outputs": [],
   "source": [
    "# 88. Write a NumPy program to replace all elements of NumPy array that are greater than specified array.\n",
    "\n",
    "x = np.array([[0.42436315,0.48558583,0.32924763],[0.7439979,0.58220701,0.38213418], [0.5097581,0.34528799,0.1563123]])\n",
    "print(x)\n",
    "x[x > .5] = .5\n",
    "print(x)"
   ]
  },
  {
   "cell_type": "code",
   "execution_count": null,
   "metadata": {},
   "outputs": [],
   "source": [
    "# 89. Write a NumPy program to remove specific elements in a NumPy array.\n",
    "\n",
    "x = np.array([1,5,9,3,2,7])\n",
    "print(x)\n",
    "y = np.delete(x,[2,5])\n",
    "print(y)"
   ]
  },
  {
   "cell_type": "code",
   "execution_count": null,
   "metadata": {},
   "outputs": [],
   "source": [
    "# 90. Write a NumPy program to remove the negative values in a NumPy array with 0.\n",
    "\n",
    "x = np.array([-1,5,-9,3,2,-7])\n",
    "print(x)\n",
    "x[x < 0] = 0\n",
    "print(x)"
   ]
  },
  {
   "cell_type": "code",
   "execution_count": null,
   "metadata": {},
   "outputs": [],
   "source": [
    "# 91. Write a NumPy program to remove all rows in a NumPy array that contain non-numeric values.\n",
    "\n",
    "x = np.array([[1,2,np.nan,4],[3,4,9,1],[2,0,9,4]])\n",
    "print(x[~np.isnan(x).any(axis=1)])  \n",
    "# axis = 1 will check the rows\n",
    "# ~ means opposite or negation, so will return rows which are not 'nan'"
   ]
  },
  {
   "cell_type": "code",
   "execution_count": null,
   "metadata": {},
   "outputs": [],
   "source": [
    "# 92. Write a NumPy program to select indices satisfying multiple conditions in a NumPy array. \n",
    "\n",
    "x = np.array([97, 101, 105, 111, 117])\n",
    "y = np.array(['a','e','i','o','u'])\n",
    "print(x)\n",
    "print(y)\n",
    "print(y[(x > 95) & (x < 102)]) \n",
    "#x > 95 and x < 102 is 97 and 101 in array x which are at indices 0 and 1, respectively.\n",
    "#The elements at 0th and 1st indices in array y are 'a' and 'e', respectively."
   ]
  },
  {
   "cell_type": "code",
   "execution_count": null,
   "metadata": {},
   "outputs": [],
   "source": [
    "# 93. Write a NumPy program to get the magnitude of a vector in NumPy.\n",
    "\n",
    "x = np.array([1,2,3,4])\n",
    "print(np.linalg.norm(x))\n",
    "\n",
    "y = np.array([[1,2,3,4],[3,4,0,1]])\n",
    "print(np.linalg.norm(y))\n",
    "print(np.linalg.norm(y, axis=0))\n",
    "print(np.linalg.norm(y, axis=1))"
   ]
  },
  {
   "cell_type": "code",
   "execution_count": null,
   "metadata": {},
   "outputs": [],
   "source": [
    "# 94. Write a NumPy program to count the frequency of unique values in NumPy array.\n",
    "\n",
    "x = np.array([10,10,20,20,10,30,40,40,50])\n",
    "arr, unique_count = np.unique(x, return_counts = True)\n",
    "#np.unique returns unique elements of an array \n",
    "#return_counts also returns the count of each element in an array\n",
    "print(np.asarray((arr, unique_count)))"
   ]
  },
  {
   "cell_type": "code",
   "execution_count": null,
   "metadata": {},
   "outputs": [],
   "source": [
    "# 95. Write a NumPy program to check whether the NumPy array is empty or not.\n",
    "\n",
    "x = np.array([1,2])\n",
    "print(x.size)\n",
    "y = np.array([])\n",
    "print(y.size)"
   ]
  },
  {
   "cell_type": "code",
   "execution_count": null,
   "metadata": {},
   "outputs": [],
   "source": [
    "# 96. Write a NumPy program to divide each row by a vector element.\n",
    "\n",
    "x = np.array([1,2,7,9,0,3])\n",
    "print(np.divide(x,2))\n",
    "\n",
    "y = np.array([[1,6,8],[2,5,8]])\n",
    "print(np.divide(y,2))"
   ]
  },
  {
   "cell_type": "code",
   "execution_count": null,
   "metadata": {},
   "outputs": [],
   "source": [
    "# 97. Write a NumPy program to print all the values of an array.\n",
    "\n",
    "x = np.array([1,2,5,7,0,3])\n",
    "for i in np.nditer(x):\n",
    "    print(i)"
   ]
  },
  {
   "cell_type": "code",
   "execution_count": null,
   "metadata": {},
   "outputs": [],
   "source": [
    "# 98. Write a NumPy program to convert the raw data in an array to a binary string and then create an array.\n",
    "\n",
    "x = np.array([1,4,7,0], float)\n",
    "print(x)\n",
    "y = x.tostring()\n",
    "print(y)\n",
    "z = np.fromstring(x)\n",
    "print(z)\n",
    "\n",
    "a = np.array([1,4,7,0])\n",
    "print(a)\n",
    "b = a.tostring()\n",
    "print(y)\n",
    "c = np.fromstring(b)\n",
    "print(c)"
   ]
  },
  {
   "cell_type": "code",
   "execution_count": null,
   "metadata": {},
   "outputs": [],
   "source": [
    "# 99. Write a NumPy program to sum and compute the product of a NumPy array elements. \n",
    "\n",
    "x = np.array([1,4,7,9])\n",
    "print(np.sum(x))\n",
    "print(np.product(x))\n",
    "\n",
    "y = np.array([[1,4,7,9],[7,3,1,5]])\n",
    "print(np.sum(y))\n",
    "print(np.product(y))\n",
    "\n",
    "z = np.array([[1,4,7,9],[7,3,1,5]])\n",
    "print(np.sum(z, axis=1))\n",
    "print(np.product(z, axis=1))"
   ]
  },
  {
   "cell_type": "code",
   "execution_count": null,
   "metadata": {},
   "outputs": [],
   "source": [
    "# 100. Write a NumPy program to take values from a source array and put them at specified indices of another array.\n",
    "\n",
    "x = np.array([10,2,5,3,11])\n",
    "y = np.array([2,6,8,1])\n",
    "x[0] = y[1]\n",
    "x[3] = y[0]\n",
    "print(x)\n",
    "\n",
    "a = np.array([10,12,15,13,11])\n",
    "b = np.array([12,16,18,11])\n",
    "a.put([0,1],b)\n",
    "print(a)"
   ]
  },
  {
   "cell_type": "code",
   "execution_count": null,
   "metadata": {},
   "outputs": [],
   "source": [
    "# 101. Write a NumPy program to print the full NumPy array, without truncation. \n",
    "\n",
    "x = np.arange(1200)\n",
    "import sys\n",
    "np.set_printoptions(x, threshold=sys.maxsize)\n",
    "print(x)"
   ]
  },
  {
   "cell_type": "code",
   "execution_count": null,
   "metadata": {},
   "outputs": [],
   "source": [
    "# 102. Write a NumPy program to convert a NumPy array into a csv file.\n",
    "\n",
    "x = np.array([[10,2,5,3,11],[9,12,8,7,1]])\n",
    "np.savetxt(\"array.csv\", x, delimiter = ',')"
   ]
  },
  {
   "cell_type": "code",
   "execution_count": null,
   "metadata": {},
   "outputs": [],
   "source": [
    "# 103. Write a NumPy program to calculate the Euclidean distance.\n",
    "\n",
    "#method 1:\n",
    "x = np.array([1,2,5])\n",
    "y = np.array([3,4,1])\n",
    "print(np.linalg.norm(x-y))  #by default this function is 2 norm\n",
    "\n",
    "#method 2:\n",
    "from scipy.spatial import distance\n",
    "print(distance.euclidean(x,y))"
   ]
  },
  {
   "cell_type": "code",
   "execution_count": null,
   "metadata": {},
   "outputs": [],
   "source": [
    "# 104. Write a NumPy program to access last two columns of a multidimensional columns.\n",
    "\n",
    "x = np.array([[1,2,5,4],[3,6,9,1],[1,5,6,3]])\n",
    "print(x[:, [2,3]])"
   ]
  },
  {
   "cell_type": "code",
   "execution_count": 88,
   "metadata": {},
   "outputs": [
    {
     "name": "stdout",
     "output_type": "stream",
     "text": [
      "[(b'Date',    nan,     nan,    nan,    nan)\n",
      " (b'03-10-16', 774.25, 776.065, 769.5 , 772.56)\n",
      " (b'04-10-16', 776.03, 778.71 , 772.89, 776.43)\n",
      " (b'05-10-16', 779.31, 782.07 , 775.65, 776.47)\n",
      " (b'06-10-16', 779.  , 780.48 , 775.54, 776.86)\n",
      " (b'07-10-16', 779.66, 779.66 , 770.75, 775.08)]\n",
      "\n",
      "[[       nan        nan        nan        nan        nan]\n",
      " [       nan 774.25     776.065002 769.5      772.559998]\n",
      " [       nan 776.030029 778.710022 772.890015 776.429993]\n",
      " [       nan 779.309998 782.070007 775.650024 776.469971]\n",
      " [       nan 779.       780.47998  775.539978 776.859985]\n",
      " [       nan 779.659973 779.659973 770.75     775.080017]]\n"
     ]
    }
   ],
   "source": [
    "# 105. Write a NumPy program to read a CSV data file and store records in an array. \n",
    "\n",
    "csv_data = np.genfromtxt('dummy.csv', dtype=['S10','float32','float32','float32','float32'], delimiter = ',')\n",
    "#the column headers expect for date appears nan because we have expicitly defined the dtype of those columns as float\n",
    "print(csv_data)\n",
    "print()\n",
    "csv_data1 = np.genfromtxt('dummy.csv', delimiter = ',')  \n",
    "#if we donot specify the dtype the first column appears as nan because the dtype of this column is different than others\n",
    "print(csv_data1)"
   ]
  },
  {
   "cell_type": "code",
   "execution_count": 95,
   "metadata": {},
   "outputs": [
    {
     "name": "stdout",
     "output_type": "stream",
     "text": [
      "[10 10 20 20 10 30 40 40 50]\n",
      "(array([10, 20, 30, 40, 50]), array([3, 2, 1, 2, 1]))\n"
     ]
    }
   ],
   "source": [
    "# 106. Write a NumPy program to count the occurrence of a specified item in a given NumPy array.\n",
    "\n",
    "x = np.array([10,10,20,20,10,30,40,40,50])\n",
    "print(x)\n",
    "print(np.unique(x, return_counts = True))"
   ]
  },
  {
   "cell_type": "code",
   "execution_count": 98,
   "metadata": {},
   "outputs": [
    {
     "name": "stdout",
     "output_type": "stream",
     "text": [
      "17.5\n",
      "25.0\n",
      "32.5\n",
      "37.0\n"
     ]
    }
   ],
   "source": [
    "# 107. Write a NumPy program to calculate percentiles for a sequence or single-dimensional NumPy array.\n",
    "\n",
    "x = np.array([10,15,20,25,30,35,40])\n",
    "print(np.percentile(x,25))\n",
    "print(np.percentile(x,50))\n",
    "print(np.percentile(x,75))\n",
    "print(np.percentile(x,90))"
   ]
  },
  {
   "cell_type": "code",
   "execution_count": 110,
   "metadata": {},
   "outputs": [
    {
     "name": "stdout",
     "output_type": "stream",
     "text": [
      "[[[171 179 158]\n",
      "  [130 138 117]\n",
      "  [117 125 104]\n",
      "  ...\n",
      "  [ 60  60  68]\n",
      "  [ 59  59  67]\n",
      "  [ 57  57  65]]\n",
      "\n",
      " [[163 171 150]\n",
      "  [136 144 123]\n",
      "  [124 132 111]\n",
      "  ...\n",
      "  [ 59  60  65]\n",
      "  [ 58  59  64]\n",
      "  [ 56  57  62]]\n",
      "\n",
      " [[150 158 137]\n",
      "  [142 150 129]\n",
      "  [136 144 123]\n",
      "  ...\n",
      "  [ 60  61  66]\n",
      "  [ 59  60  65]\n",
      "  [ 57  58  63]]\n",
      "\n",
      " ...\n",
      "\n",
      " [[146  75  69]\n",
      "  [146  75  69]\n",
      "  [146  76  68]\n",
      "  ...\n",
      "  [176 168 165]\n",
      "  [177 169 166]\n",
      "  [179 171 168]]\n",
      "\n",
      " [[145  74  68]\n",
      "  [145  74  68]\n",
      "  [146  76  68]\n",
      "  ...\n",
      "  [189 181 179]\n",
      "  [190 182 180]\n",
      "  [190 182 180]]\n",
      "\n",
      " [[145  74  68]\n",
      "  [145  74  68]\n",
      "  [146  76  68]\n",
      "  ...\n",
      "  [202 194 192]\n",
      "  [203 195 193]\n",
      "  [203 195 193]]]\n"
     ]
    }
   ],
   "source": [
    "# 108. Write a NumPy program to convert a PIL Image into a NumPy array. \n",
    "\n",
    "from PIL import Image\n",
    "\n",
    "img = PIL.Image.open(\"Chetna.jpeg\")\n",
    "imgarr = np.array(img) \n",
    "print(imgarr)"
   ]
  },
  {
   "cell_type": "code",
   "execution_count": 120,
   "metadata": {},
   "outputs": [
    {
     "name": "stdout",
     "output_type": "stream",
     "text": [
      "[200. 300. 700.]\n"
     ]
    }
   ],
   "source": [
    "# 110. Write a NumPy program to remove nan values from a given array. \n",
    "\n",
    "x = np.array([200, 300, np.nan, np.nan, np.nan ,700])\n",
    "#print(x)\n",
    "#print(x[np.isnan(x)])    #returns all nan values\n",
    "print(x[np.logical_not(np.isnan(x))])  #returns array by removing nan values"
   ]
  },
  {
   "cell_type": "code",
   "execution_count": 125,
   "metadata": {},
   "outputs": [
    {
     "name": "stdout",
     "output_type": "stream",
     "text": [
      "[1 2 3 1 2 3]\n",
      "[4 4 4 5 5 5]\n",
      "[[1 4]\n",
      " [2 4]\n",
      " [3 4]\n",
      " [1 5]\n",
      " [2 5]\n",
      " [3 5]]\n"
     ]
    }
   ],
   "source": [
    "# 111. Write a NumPy program to create a Cartesian product of two arrays into single array of 2D points.\n",
    "\n",
    "x = np.array([1,2,3])\n",
    "y = np.array([4,5])\n",
    "#print(x)\n",
    "#print(y)\n",
    "#print(np.tile(x, len(y)))\n",
    "#print(np.repeat(y, len(x)))\n",
    "z = np.transpose([np.tile(x, len(y)), np.repeat(y, len(x))])\n",
    "print(z)"
   ]
  },
  {
   "cell_type": "code",
   "execution_count": 135,
   "metadata": {},
   "outputs": [
    {
     "name": "stdout",
     "output_type": "stream",
     "text": [
      "24\n",
      "48\n",
      "8192\n",
      "\n",
      "120\n",
      "160\n",
      "8288\n"
     ]
    }
   ],
   "source": [
    "# 112. Write a NumPy program to get the memory usage by NumPy arrays.\n",
    "\n",
    "#method 1: total bytes consumed by an array\n",
    "x = np.array([1,2,3])\n",
    "print(x.nbytes)\n",
    "\n",
    "y = np.array([[1,2,3],[4,8,1]])\n",
    "print(y.nbytes)\n",
    "\n",
    "z = np.array([0] * 1024)\n",
    "print(z.nbytes)\n",
    "print()\n",
    "\n",
    "#method 2: total memory usage\n",
    "from sys import getsizeof\n",
    "print(getsizeof(x))\n",
    "print(getsizeof(y))\n",
    "print(getsizeof(z))\n",
    "\n",
    "\n",
    "#nbytes only returns the size of stored data\n",
    "#sys.getsizeof returns the size of the whole object, i.e. the size of the stored data plus some overhead. \n",
    "# There is a small overhead for numpy arrays, because they have to store the array dimensions, the datatype and similar information.\n"
   ]
  },
  {
   "cell_type": "code",
   "execution_count": 149,
   "metadata": {},
   "outputs": [
    {
     "name": "stdout",
     "output_type": "stream",
     "text": [
      "[[1 1]\n",
      " [2 2]\n",
      " [3 3]\n",
      " [1 1]\n",
      " [2 2]\n",
      " [3 3]\n",
      " [4 4]\n",
      " [4 4]\n",
      " [4 4]\n",
      " [5 5]\n",
      " [5 5]\n",
      " [5 5]\n",
      " [6 7]\n",
      " [6 7]\n",
      " [6 7]\n",
      " [6 7]\n",
      " [6 7]\n",
      " [6 7]]\n",
      "[[1 4 6]\n",
      " [1 5 6]\n",
      " [2 4 6]\n",
      " [2 5 6]\n",
      " [3 4 6]\n",
      " [3 5 6]\n",
      " [1 4 7]\n",
      " [1 5 7]\n",
      " [2 4 7]\n",
      " [2 5 7]\n",
      " [3 4 7]\n",
      " [3 5 7]]\n"
     ]
    }
   ],
   "source": [
    "# 113. Write a NumPy program to build an array of all combinations of three NumPy arrays. \n",
    "\n",
    "x = np.array([1, 2, 3])\n",
    "y = np.array([4, 5])\n",
    "z = np.array([6, 7])\n",
    "\n",
    "#meshgrid creates a rectangular grid out of an array of x values, y values and z values\n",
    "# https://stackoverflow.com/questions/36013063/what-is-the-purpose-of-meshgrid-in-python-numpy\n",
    "print(np.array(np.meshgrid(x,y,z)).T.reshape(-1,3))"
   ]
  },
  {
   "cell_type": "code",
   "execution_count": 152,
   "metadata": {},
   "outputs": [
    {
     "name": "stdout",
     "output_type": "stream",
     "text": [
      "[[3 0]\n",
      " [2 2]\n",
      " [2 2]]\n"
     ]
    }
   ],
   "source": [
    "# 114. Write a NumPy program to create random set of rows from 2D array. \n",
    "\n",
    "x = np.random.randint(5, size=(3,2))\n",
    "print(x)"
   ]
  },
  {
   "cell_type": "code",
   "execution_count": 161,
   "metadata": {},
   "outputs": [
    {
     "name": "stdout",
     "output_type": "stream",
     "text": [
      "[0 1 7 5 7 2 0 0 6 4]\n",
      "[0 6 7]\n",
      "(array([2, 4]),)\n"
     ]
    }
   ],
   "source": [
    "# 115. Write a NumPy program to find indices of elements equal to zero in a NumPy array. \n",
    "\n",
    "x = np.array([0,1,7,5,7,2,0,0,6,4])\n",
    "print(x)\n",
    "print(np.where(x == 0)[0])"
   ]
  },
  {
   "cell_type": "code",
   "execution_count": 173,
   "metadata": {},
   "outputs": [
    {
     "data": {
      "image/png": "[encoded data removed]",
      "text/plain": [
       "<Figure size 432x288 with 1 Axes>"
      ]
     },
     "metadata": {
      "needs_background": "light"
     },
     "output_type": "display_data"
    }
   ],
   "source": [
    "# 116. Write a NumPy program to compute the histogram of a set of data. \n",
    "\n",
    "x = np.array([1,2,4,1,3,4,4,4])\n",
    "import matplotlib.pyplot as plt\n",
    "plt.hist(x, bins=[0,1,2,3,4,5])\n",
    "plt.show()"
   ]
  },
  {
   "cell_type": "code",
   "execution_count": 174,
   "metadata": {},
   "outputs": [
    {
     "data": {
      "image/png": "[encoded data removed]",
      "text/plain": [
       "<Figure size 432x288 with 1 Axes>"
      ]
     },
     "metadata": {
      "needs_background": "light"
     },
     "output_type": "display_data"
    }
   ],
   "source": [
    "# 117. Write a NumPy program to compute the line graph of a set of data.\n",
    "\n",
    "x = np.array([1,2,4,1,3,4,4,4])\n",
    "import matplotlib.pyplot as plt\n",
    "plt.plot(x)\n",
    "plt.show()"
   ]
  },
  {
   "cell_type": "code",
   "execution_count": 185,
   "metadata": {},
   "outputs": [
    {
     "name": "stdout",
     "output_type": "stream",
     "text": [
      "[-6 -5 -4 -3 -2 -1  0  1  2  3  4  5]\n",
      "7\n",
      "[ 0  1  2  3  4  5  6  7  8  9 10 11]\n",
      "6\n"
     ]
    }
   ],
   "source": [
    "# 118. Write a NumPy program to find the position of the index of a specified value greater than existing value \n",
    "# in NumPy array. \n",
    "\n",
    "x = np.arange(-6, 6)\n",
    "print(x)\n",
    "#print(np.argmax(x))  #returns the index which has the max value\n",
    "print(np.argmax(x>0)) #returns the first index which has value greater than 0\n",
    "\n",
    "a = 5\n",
    "z = np.arange(12)\n",
    "print(z)\n",
    "print(np.argmax(z>a))"
   ]
  },
  {
   "cell_type": "code",
   "execution_count": 218,
   "metadata": {},
   "outputs": [
    {
     "name": "stdout",
     "output_type": "stream",
     "text": [
      "[]\n",
      "[[4. 2. 3.]]\n",
      "[[4. 2. 3.]\n",
      " [1. 2. 0.]]\n",
      "[]\n",
      "[1. 2. 3.]\n",
      "[[1. 2. 3.]\n",
      " [0. 1. 3.]]\n"
     ]
    }
   ],
   "source": [
    "# 119. Write a NumPy program to add a new row to an empty NumPy array. \n",
    "\n",
    "#method 1:\n",
    "x = np.empty((0,3))  # 0 rows and 3 columns\n",
    "print(x)\n",
    "x = np.append(x, np.array([[4,2,3]]), axis = 0)  #double brackets have been used as we are inserting in a 2D array\n",
    "print(x)\n",
    "x = np.append(x, np.array([[1,2,0]]), axis = 0)\n",
    "print(x)\n",
    "\n",
    "#method 2:\n",
    "y = np.array([])\n",
    "print(y)\n",
    "y = np.hstack((y, np.array([1,2,3])))\n",
    "print(y)\n",
    "y = np.vstack((y, np.array([0,1,3])))\n",
    "print(y)"
   ]
  },
  {
   "cell_type": "code",
   "execution_count": 225,
   "metadata": {},
   "outputs": [
    {
     "name": "stdout",
     "output_type": "stream",
     "text": [
      "[[1 3 9 3]\n",
      " [4 2 1 7]]\n",
      "[1 0 0 1]\n",
      "[2 3]\n",
      "2\n"
     ]
    }
   ],
   "source": [
    "# 120. Write a NumPy program to get the index of a maximum element in a NumPy array along one axis.\n",
    "\n",
    "x = np.array([[1,3,9,3],[4,2,1,7]])\n",
    "print(x)\n",
    "print(np.argmax(x, axis = 0))   #maximum element along axis = 0\n",
    "print(np.argmax(x, axis = 1))    #maximum element along axis = 1\n",
    "print(np.argmax(x))   #maximum element"
   ]
  },
  {
   "cell_type": "code",
   "execution_count": 30,
   "metadata": {},
   "outputs": [
    {
     "name": "stdout",
     "output_type": "stream",
     "text": [
      "[[1 2 3]\n",
      " [5 9 6]]\n",
      "[[1 2 3 5 9 6]]\n",
      "[[1 2 3]\n",
      " [5 9 6]\n",
      " [1 7 0]\n",
      " [4 4 5]]\n",
      "[[1 2 3]\n",
      " [5 9 6]]\n",
      "[[1 2 3]\n",
      " [1 7 0]\n",
      " [4 4 5]]\n"
     ]
    }
   ],
   "source": [
    "# 121. Write a NumPy program to join a sequence of arrays along a new axis.\n",
    "\n",
    "x = np.array([[1,2,3]])\n",
    "y = np.array([[5,9,6]])\n",
    "z = np.array([[1,7,0],[4,4,5]])\n",
    "# print(x)\n",
    "# print(y)\n",
    "\n",
    "#method 1:\n",
    "print(np.concatenate((x,y), axis = 0))\n",
    "print(np.concatenate((x,y), axis = 1))\n",
    "print(np.concatenate((x,y,z), axis = 0))\n",
    "\n",
    "#method 2:\n",
    "print(np.vstack((x,y)))\n",
    "print(np.vstack((x,z)))"
   ]
  },
  {
   "cell_type": "code",
   "execution_count": 35,
   "metadata": {},
   "outputs": [
    {
     "name": "stdout",
     "output_type": "stream",
     "text": [
      "[[ 0  1  2  3]\n",
      " [ 4  5  6  7]\n",
      " [ 8  9 10 11]\n",
      " [12 13 14 15]]\n",
      "0 5 11\n"
     ]
    }
   ],
   "source": [
    "# 122. Write a NumPy program to find the elements at the index specified as follows from a given 4x4 array.\n",
    "\n",
    "x = np.arange(16).reshape(4,4)\n",
    "print(x)\n",
    "print(x[0,0],x[1,1],x[2,3])"
   ]
  },
  {
   "cell_type": "code",
   "execution_count": 39,
   "metadata": {},
   "outputs": [
    {
     "name": "stdout",
     "output_type": "stream",
     "text": [
      "[[ 0  1  2  3]\n",
      " [ 4  5  6  7]\n",
      " [ 8  9 10 11]\n",
      " [12 13 14 15]]\n",
      "[[0 1]\n",
      " [2 3]]\n",
      "[[ 0  1  2  3  4]\n",
      " [ 5  6  7  8  9]\n",
      " [10 11 12 13 14]\n",
      " [15  0  1  2  3]\n",
      " [ 4  5  6  7  8]]\n"
     ]
    }
   ],
   "source": [
    "# 123. Write a NumPy program to create two arrays of size bigger and smaller than a given array.\n",
    "\n",
    "x = np.arange(16).reshape(4,4)\n",
    "print(x)\n",
    "\n",
    "y = np.resize(x,(2,2))\n",
    "print(y)\n",
    "\n",
    "z = np.resize(x,(5,5))\n",
    "print(z)"
   ]
  },
  {
   "cell_type": "code",
   "execution_count": 42,
   "metadata": {},
   "outputs": [
    {
     "name": "stdout",
     "output_type": "stream",
     "text": [
      "[[0 1 2]\n",
      " [3 4 5]\n",
      " [6 7 8]]\n",
      "[3 9 1]\n",
      "[[ 3 10  3]\n",
      " [ 6 13  6]\n",
      " [ 9 16  9]]\n"
     ]
    }
   ],
   "source": [
    "# 124. Write a NumPy program to broadcast on different shapes of arrays where p(3,3) + q(3). \n",
    "\n",
    "x = np.arange(9).reshape(3,3)\n",
    "print(x)\n",
    "\n",
    "y = np.array([3,9,1])\n",
    "print(y)\n",
    "\n",
    "z = x + y\n",
    "print(z)"
   ]
  },
  {
   "cell_type": "code",
   "execution_count": 51,
   "metadata": {},
   "outputs": [
    {
     "name": "stdout",
     "output_type": "stream",
     "text": [
      "[[1 2 5]]\n",
      "[[1]\n",
      " [2]\n",
      " [5]]\n",
      "[3 9 1]\n",
      "[[ 4 10  2]\n",
      " [ 5 11  3]\n",
      " [ 8 14  6]]\n"
     ]
    }
   ],
   "source": [
    "# 125. Write a NumPy program to broadcast on different shapes of arrays where a(,3) + b(3).\n",
    "\n",
    "x = np.array([[1,2,5]])\n",
    "print(x)\n",
    "print(x.T)\n",
    "\n",
    "y = np.array([3,9,1])\n",
    "print(y)\n",
    "\n",
    "z = x.T + y\n",
    "print(z)"
   ]
  },
  {
   "cell_type": "code",
   "execution_count": 60,
   "metadata": {},
   "outputs": [
    {
     "name": "stdout",
     "output_type": "stream",
     "text": [
      "[[1 2 4]\n",
      " [3 6 7]\n",
      " [2 9 0]\n",
      " [1 7 2]]\n",
      "(4, 3)\n",
      "[[1 3 2 1]\n",
      " [2 6 9 7]\n",
      " [4 7 0 2]]\n",
      "(3, 4)\n"
     ]
    }
   ],
   "source": [
    "# 126. Write a NumPy program to rearrange the dimensions of a given array. \n",
    "\n",
    "x = np.array([[1,2,4],[3,6,7],[2,9,0],[1,7,2]])\n",
    "print(x)\n",
    "print(x.shape)\n",
    "y = np.transpose(x)\n",
    "print(y)\n",
    "print(y.shape)"
   ]
  },
  {
   "cell_type": "code",
   "execution_count": 66,
   "metadata": {},
   "outputs": [
    {
     "name": "stdout",
     "output_type": "stream",
     "text": [
      "[[1 4 5]\n",
      " [4 9 8]]\n",
      "[[0 4 9]\n",
      " [1 4 3]]\n",
      "[[1 4 5 0 4 9]\n",
      " [4 9 8 1 4 3]]\n"
     ]
    }
   ],
   "source": [
    "# 127. Write a NumPy program to stack arrays in sequence horizontally (column wise). \n",
    "\n",
    "x = np.array([[1,4,5],[4,9,8]])\n",
    "print(x)\n",
    "y = np.array([[0,4,9],[1,4,3]])\n",
    "print(y)\n",
    "z = np.hstack((x,y))\n",
    "print(z)"
   ]
  },
  {
   "cell_type": "code",
   "execution_count": 67,
   "metadata": {},
   "outputs": [
    {
     "name": "stdout",
     "output_type": "stream",
     "text": [
      "[[1 4 5]\n",
      " [4 9 8]]\n",
      "[[0 4 9]\n",
      " [1 4 3]]\n",
      "[[1 4 5]\n",
      " [4 9 8]\n",
      " [0 4 9]\n",
      " [1 4 3]]\n"
     ]
    }
   ],
   "source": [
    "# 128. Write a NumPy program to stack arrays in sequence vertically. \n",
    "\n",
    "x = np.array([[1,4,5],[4,9,8]])\n",
    "print(x)\n",
    "y = np.array([[0,4,9],[1,4,3]])\n",
    "print(y)\n",
    "z = np.vstack((x,y))\n",
    "print(z)"
   ]
  },
  {
   "cell_type": "code",
   "execution_count": 72,
   "metadata": {},
   "outputs": [
    {
     "name": "stdout",
     "output_type": "stream",
     "text": [
      "[1 2 3]\n",
      "[3 6 5]\n",
      "[[1 3]\n",
      " [2 6]\n",
      " [3 5]]\n"
     ]
    }
   ],
   "source": [
    "# 129. Write a NumPy program to stack 1-D arrays as columns wise. \n",
    "\n",
    "x = np.array([1,2,3])\n",
    "print(x)\n",
    "y = np.array([3,6,5])\n",
    "print(y)\n",
    "print(np.column_stack((x,y)))"
   ]
  },
  {
   "cell_type": "code",
   "execution_count": 75,
   "metadata": {},
   "outputs": [
    {
     "name": "stdout",
     "output_type": "stream",
     "text": [
      "[1 2 3]\n",
      "[3 6 5]\n",
      "[[1 2 3]\n",
      " [3 6 5]]\n",
      "[[1 2 3]\n",
      " [3 6 5]]\n"
     ]
    }
   ],
   "source": [
    "# 130. Write a NumPy program to stack 1-D arrays as row wise. \n",
    "\n",
    "x = np.array([1,2,3])\n",
    "print(x)\n",
    "y = np.array([3,6,5])\n",
    "print(y)\n",
    "print(np.vstack((x,y)))\n",
    "print(np.row_stack((x,y)))  #both these gives the same results if we stack 1-D arrays row wise"
   ]
  },
  {
   "cell_type": "code",
   "execution_count": 94,
   "metadata": {},
   "outputs": [
    {
     "name": "stdout",
     "output_type": "stream",
     "text": [
      "[[1 4 5 9]\n",
      " [4 9 8 0]\n",
      " [5 7 1 4]\n",
      " [4 0 3 1]]\n",
      "[array([[1, 4, 5, 9],\n",
      "       [4, 9, 8, 0]]), array([[5, 7, 1, 4],\n",
      "       [4, 0, 3, 1]])]\n",
      "[array([[1, 4, 5],\n",
      "       [4, 9, 8],\n",
      "       [5, 7, 1],\n",
      "       [4, 0, 3]]), array([[9],\n",
      "       [0],\n",
      "       [4],\n",
      "       [1]])]\n"
     ]
    }
   ],
   "source": [
    "# 131. Write a NumPy program to split a given array into multiple sub-arrays vertically (row-wise). \n",
    "\n",
    "x = np.array([[1,4,5,9],[4,9,8,0],[5,7,1,4],[4,0,3,1]])\n",
    "print(x)\n",
    "print(np.vsplit(x,2))\n",
    "#print(np.hsplit(x,[3]))  #splitting from 3rd index"
   ]
  },
  {
   "cell_type": "code",
   "execution_count": 95,
   "metadata": {},
   "outputs": [
    {
     "name": "stdout",
     "output_type": "stream",
     "text": [
      "[[[1 4 5 9]\n",
      "  [4 9 8 0]]\n",
      "\n",
      " [[5 7 1 4]\n",
      "  [4 0 3 1]]]\n",
      "[array([[[1, 4],\n",
      "        [4, 9]],\n",
      "\n",
      "       [[5, 7],\n",
      "        [4, 0]]]), array([[[5, 9],\n",
      "        [8, 0]],\n",
      "\n",
      "       [[1, 4],\n",
      "        [3, 1]]])]\n"
     ]
    }
   ],
   "source": [
    "# 132. Write a NumPy program to split array into multiple sub-arrays along the 3rd axis.\n",
    "\n",
    "x = np.array([[[1,4,5,9],[4,9,8,0]],[[5,7,1,4],[4,0,3,1]]])\n",
    "print(x)\n",
    "print(np.dsplit(x,2))"
   ]
  },
  {
   "cell_type": "code",
   "execution_count": 101,
   "metadata": {},
   "outputs": [
    {
     "name": "stdout",
     "output_type": "stream",
     "text": [
      "3\n",
      "16\n",
      "8\n"
     ]
    }
   ],
   "source": [
    "# 133. Write a NumPy program to count the number of dimensions, number of elements and number of bytes for \n",
    "# each element in a given array.\n",
    "\n",
    "x = np.array([[[1,4,5,9],[4,9,8,0]],[[5,7,1,4],[4,0,3,1]]])\n",
    "print(x.ndim)\n",
    "print(x.size)\n",
    "print(x.itemsize)"
   ]
  },
  {
   "cell_type": "code",
   "execution_count": 105,
   "metadata": {},
   "outputs": [
    {
     "name": "stdout",
     "output_type": "stream",
     "text": [
      "[[ 0  1  2  3]\n",
      " [ 4  5  6  7]\n",
      " [ 8  9 10 11]\n",
      " [12 13 14 15]]\n",
      "[0 1 2 3]\n",
      "[0 1 2 3]\n"
     ]
    }
   ],
   "source": [
    "# 134. Write a NumPy program to extract all the elements of the first row from a given (4x4) array. \n",
    "\n",
    "x = np.arange(16).reshape(4,4)\n",
    "print(x)\n",
    "print(x[0,:])\n",
    "print(x[0])  #both ways we get the same result"
   ]
  },
  {
   "cell_type": "code",
   "execution_count": 106,
   "metadata": {},
   "outputs": [
    {
     "name": "stdout",
     "output_type": "stream",
     "text": [
      "[[ 0  1  2  3]\n",
      " [ 4  5  6  7]\n",
      " [ 8  9 10 11]\n",
      " [12 13 14 15]]\n",
      "[4 5 6 7]\n",
      "[4 5 6 7]\n"
     ]
    }
   ],
   "source": [
    "# 135. Write a NumPy program to extract all the elements of the second row from a given (4x4) array. \n",
    "\n",
    "x = np.arange(16).reshape(4,4)\n",
    "print(x)\n",
    "print(x[1,:])\n",
    "print(x[1])  #both ways we get the same result"
   ]
  },
  {
   "cell_type": "code",
   "execution_count": 107,
   "metadata": {},
   "outputs": [
    {
     "name": "stdout",
     "output_type": "stream",
     "text": [
      "[[ 0  1  2  3]\n",
      " [ 4  5  6  7]\n",
      " [ 8  9 10 11]\n",
      " [12 13 14 15]]\n",
      "[ 8  9 10 11]\n",
      "[ 8  9 10 11]\n"
     ]
    }
   ],
   "source": [
    "# 136. Write a NumPy program to extract all the elements of the third column from a given (4x4) array.\n",
    "\n",
    "x = np.arange(16).reshape(4,4)\n",
    "print(x)\n",
    "print(x[2,:])\n",
    "print(x[2])  #both ways we get the same result"
   ]
  },
  {
   "cell_type": "code",
   "execution_count": 113,
   "metadata": {},
   "outputs": [
    {
     "name": "stdout",
     "output_type": "stream",
     "text": [
      "[[ 0  1  2  3]\n",
      " [ 4  5  6  7]\n",
      " [ 8  9 10 11]\n",
      " [12 13 14 15]]\n",
      "[0 1] [4 5]\n",
      "[[0 1]\n",
      " [4 5]]\n"
     ]
    }
   ],
   "source": [
    "# 137. Write a NumPy program to extract first and second elements of the first and second rows from a given \n",
    "#(4x4) array.\n",
    "\n",
    "x = np.arange(16).reshape(4,4)\n",
    "print(x)\n",
    "print(x[0,:2],x[1,:2])  #this will print individual arrays\n",
    "print(x[:2,:2])    #this will print one array"
   ]
  },
  {
   "cell_type": "code",
   "execution_count": 114,
   "metadata": {},
   "outputs": [
    {
     "name": "stdout",
     "output_type": "stream",
     "text": [
      "[[ 0  1  2  3]\n",
      " [ 4  5  6  7]\n",
      " [ 8  9 10 11]\n",
      " [12 13 14 15]]\n",
      "[[2 3]\n",
      " [6 7]]\n"
     ]
    }
   ],
   "source": [
    "# 138. Write a NumPy program to extract third and fourth elements of the first and second rows from a \n",
    "# given (4x4) array. \n",
    "\n",
    "x = np.arange(16).reshape(4,4)\n",
    "print(x)\n",
    "print(x[:2,2:])"
   ]
  },
  {
   "cell_type": "code",
   "execution_count": 115,
   "metadata": {},
   "outputs": [
    {
     "name": "stdout",
     "output_type": "stream",
     "text": [
      "[[ 0  1  2  3]\n",
      " [ 4  5  6  7]\n",
      " [ 8  9 10 11]\n",
      " [12 13 14 15]]\n",
      "[[ 0  2]\n",
      " [ 8 10]]\n"
     ]
    }
   ],
   "source": [
    "# 139. Write a NumPy program to extract first and third elements of the first and third rows from a \n",
    "# given (4x4) array.\n",
    "\n",
    "x = np.arange(16).reshape(4,4)\n",
    "print(x)\n",
    "print(x[::2,::2])"
   ]
  },
  {
   "cell_type": "code",
   "execution_count": 116,
   "metadata": {},
   "outputs": [
    {
     "name": "stdout",
     "output_type": "stream",
     "text": [
      "[[ 0  1  2  3]\n",
      " [ 4  5  6  7]\n",
      " [ 8  9 10 11]\n",
      " [12 13 14 15]]\n",
      "[[ 5  7]\n",
      " [13 15]]\n"
     ]
    }
   ],
   "source": [
    "# 140. Write a NumPy program to extract second and fourth elements of the second and fourth rows from a \n",
    "# given (4x4) array. \n",
    "\n",
    "x = np.arange(16).reshape(4,4)\n",
    "print(x)\n",
    "print(x[1::2,1::2])"
   ]
  },
  {
   "cell_type": "code",
   "execution_count": 121,
   "metadata": {},
   "outputs": [
    {
     "name": "stdout",
     "output_type": "stream",
     "text": [
      "[[ 0  1  2  3]\n",
      " [ 4  5  6  7]\n",
      " [ 8  9 10 11]\n",
      " [12 13 14 15]]\n",
      "[[ 1  2]\n",
      " [ 5  6]\n",
      " [ 9 10]\n",
      " [13 14]]\n"
     ]
    }
   ],
   "source": [
    "# 141. Write a NumPy program to extract all the elements of the second and third columns from a given (4x4) array.\n",
    "\n",
    "x = np.arange(16).reshape(4,4)\n",
    "print(x)\n",
    "print(x[:,[1,2]])"
   ]
  },
  {
   "cell_type": "code",
   "execution_count": 122,
   "metadata": {},
   "outputs": [
    {
     "name": "stdout",
     "output_type": "stream",
     "text": [
      "[[ 0  1  2  3]\n",
      " [ 4  5  6  7]\n",
      " [ 8  9 10 11]\n",
      " [12 13 14 15]]\n",
      "[[ 0  3]\n",
      " [ 4  7]\n",
      " [ 8 11]\n",
      " [12 15]]\n"
     ]
    }
   ],
   "source": [
    "# 142. Write a NumPy program to extract all the elements of the first and fourth columns from a given (4x4) array. \n",
    "\n",
    "x = np.arange(16).reshape(4,4)\n",
    "print(x)\n",
    "print(x[:,[0,3]])"
   ]
  },
  {
   "cell_type": "code",
   "execution_count": 130,
   "metadata": {},
   "outputs": [
    {
     "name": "stdout",
     "output_type": "stream",
     "text": [
      "[[ 0  1  2  3]\n",
      " [ 4  5  6  7]\n",
      " [ 8  9 10 11]\n",
      " [12 13 14 15]]\n",
      "[ 4 15]\n"
     ]
    }
   ],
   "source": [
    "# 143. Write a NumPy program to extract first element of the second row and fourth element of fourth row from \n",
    "# a given (4x4) array. \n",
    "\n",
    "x = np.arange(16).reshape(4,4)\n",
    "print(x)\n",
    "print(x[[1,3], [0,3]])  #it means x[[row numbers],[column numbers]]"
   ]
  },
  {
   "cell_type": "code",
   "execution_count": 132,
   "metadata": {},
   "outputs": [
    {
     "name": "stdout",
     "output_type": "stream",
     "text": [
      "[[ 0  1  2  3]\n",
      " [ 4  5  6  7]\n",
      " [ 8  9 10 11]\n",
      " [12 13 14 15]]\n",
      "[[ 1  2]\n",
      " [ 5  6]\n",
      " [ 9 10]\n",
      " [13 14]]\n"
     ]
    }
   ],
   "source": [
    "# 144. Write a NumPy program to extract all the elements of the second and third columns from a given (4x4) array. \n",
    "\n",
    "x = np.arange(16).reshape(4,4)\n",
    "print(x)\n",
    "print(x[:,1:3]) "
   ]
  },
  {
   "cell_type": "code",
   "execution_count": 135,
   "metadata": {},
   "outputs": [
    {
     "name": "stdout",
     "output_type": "stream",
     "text": [
      "[[ 0  1  2  3  4  5]\n",
      " [ 6  7  8  9 10 11]\n",
      " [12 13 14 15 16 17]\n",
      " [18 19 20 21 22 23]\n",
      " [24 25 26 27 28 29]\n",
      " [30 31 32 33 34 35]]\n",
      "[[12 14 16]\n",
      " [24 26 28]]\n"
     ]
    }
   ],
   "source": [
    "# 145. Write a NumPy program to extract first, third and fifth elements of the third and fifth rows from a given \n",
    "# (6x6) array. \n",
    "\n",
    "x = np.arange(36).reshape(6,6)\n",
    "print(x)\n",
    "print(x[[2,4],::2]) "
   ]
  },
  {
   "cell_type": "code",
   "execution_count": 148,
   "metadata": {},
   "outputs": [
    {
     "name": "stdout",
     "output_type": "stream",
     "text": [
      "(3, 3)\n",
      "(3,)\n",
      "[[0 1 2]\n",
      " [3 4 5]\n",
      " [6 7 8]]\n",
      "[0 1 2]\n",
      "[[ 0  2  4]\n",
      " [ 3  5  7]\n",
      " [ 6  8 10]]\n"
     ]
    }
   ],
   "source": [
    "# 146. Write a NumPy program to add two arrays A and B of sizes (3,3) and (,3).\n",
    "\n",
    "x = np.arange(9).reshape((3,3))\n",
    "print(x.shape)\n",
    "y = np.arange(3)\n",
    "print(y.shape)\n",
    "z = x + y\n",
    "print(x)\n",
    "print(y)\n",
    "print(z)"
   ]
  },
  {
   "cell_type": "code",
   "execution_count": 155,
   "metadata": {},
   "outputs": [
    {
     "name": "stdout",
     "output_type": "stream",
     "text": [
      "[4 2 7 1]\n",
      "[3 1 0 2]\n",
      "[2 1 3 0]\n"
     ]
    }
   ],
   "source": [
    "# 147. Write a NumPy program to create an array that represents the rank of each item of a given array. \n",
    "\n",
    "x = np.array([4,2,7,1])\n",
    "print(x)\n",
    "x_ordered = np.argsort(x) #positions of each element after sorting\n",
    "print(x_ordered) \n",
    "x_rank = np.argsort(x_ordered) #sorting of the positions to get the ranks of actual array\n",
    "print(x_rank)  #first the element at position 2, then element at position 1, then 3 and then 0"
   ]
  },
  {
   "cell_type": "code",
   "execution_count": 159,
   "metadata": {},
   "outputs": [
    {
     "name": "stdout",
     "output_type": "stream",
     "text": [
      "[ 0  1  2  3  4  5  6  7  8  9 10 11]\n",
      "[ 0  1  2  3  4  5  6  7  8  9 10 11]\n",
      "[ 0  1  2  3  4  5  6  7  8  9 10 11]\n"
     ]
    }
   ],
   "source": [
    "# 148. Write a NumPy program to copy data from a given array to another array. \n",
    "\n",
    "x = np.arange(12)\n",
    "print(x)\n",
    "\n",
    "#method 1:\n",
    "y = np.empty_like(x)\n",
    "print(y)\n",
    "\n",
    "#method 2:\n",
    "z = np.array(x)\n",
    "print(z)"
   ]
  },
  {
   "cell_type": "code",
   "execution_count": 175,
   "metadata": {},
   "outputs": [
    {
     "name": "stdout",
     "output_type": "stream",
     "text": [
      "[ 1  2  6  7  9 11 13  0  4  5]\n",
      "[11 13]\n",
      "[False False  True  True  True False False False False False]\n",
      "(array([2, 3, 4]),)\n",
      "(array([2, 3, 4]),)\n"
     ]
    }
   ],
   "source": [
    "# 149. Write a NumPy program to find the elements within range from a given array of numbers. \n",
    "\n",
    "x = np.array([1,2,6,7,9,11,13,0,4,5])\n",
    "print(x)\n",
    "print(x[x>10])\n",
    "\n",
    "# 149. Write a NumPy program to find index of the elements within range from a given array of numbers. \n",
    "print(np.logical_and(x>5, x<11))   #finds the elements within a given range by computing the truth values\n",
    "\n",
    "#method 1:\n",
    "print(np.where(np.logical_and(x>5, x<11)))   #finds the index of those elements\n",
    "\n",
    "#method 2:\n",
    "print(np.where((x>5)&(x<11)))"
   ]
  },
  {
   "cell_type": "code",
   "execution_count": 177,
   "metadata": {},
   "outputs": [
    {
     "name": "stdout",
     "output_type": "stream",
     "text": [
      "[[ 0  1  2  3]\n",
      " [ 4  5  6  7]\n",
      " [ 8  9 10 11]]\n"
     ]
    }
   ],
   "source": [
    "# 150. Write a NumPy program to swap columns in a given array.\n",
    "\n",
    "x = np.arange(12).reshape(3,4)\n",
    "print(x)\n"
   ]
  },
  {
   "cell_type": "code",
   "execution_count": 7,
   "metadata": {},
   "outputs": [
    {
     "name": "stdout",
     "output_type": "stream",
     "text": [
      "[[ 0  1  2  3  4  5  6  7  8]\n",
      " [ 9 10 11 12 13 14 15 16 17]\n",
      " [18 19 20 21 22 23 24 25 26]\n",
      " [27 28 29 30 31 32 33 34 35]]\n",
      "True\n",
      "[False  True  True  True]\n",
      "(array([1, 2, 3]),)\n"
     ]
    }
   ],
   "source": [
    "# 151. Write a NumPy program to get the row numbers in given array where at least one item is larger than \n",
    "# a specified value.\n",
    "\n",
    "x = np.arange(36).reshape(4,9)\n",
    "print(x) \n",
    "#print(np.any(x>10))            #Any value greater than 10 - returns True as there are a lot of values greater than 10\n",
    "#print(np.any((x>10), axis=1))  #Any row which has value greater than 10 - returns True as there are 3 rows with value greater than 10\n",
    "print(np.where(np.any((x>10), axis=1))) #Returns the index of the rows with values greater than 10"
   ]
  },
  {
   "cell_type": "code",
   "execution_count": 10,
   "metadata": {},
   "outputs": [
    {
     "name": "stdout",
     "output_type": "stream",
     "text": [
      "[[ 0  1  2]\n",
      " [ 3  4  5]\n",
      " [ 6  7  8]\n",
      " [ 9 10 11]]\n",
      "[18 22 26]\n"
     ]
    }
   ],
   "source": [
    "# 152. Write a NumPy program to calculate the sum of all columns of a 2D NumPy array. \n",
    "\n",
    "x = np.arange(12).reshape(4,3)\n",
    "print(x)\n",
    "print(np.sum(x, axis=0))"
   ]
  },
  {
   "cell_type": "code",
   "execution_count": 26,
   "metadata": {},
   "outputs": [
    {
     "name": "stdout",
     "output_type": "stream",
     "text": [
      "[[ 0  1  2]\n",
      " [ 3  4  5]\n",
      " [ 6  7  8]\n",
      " [ 9 10 11]]\n",
      "[0 1 2 4 5 8]\n",
      "[0 1 4]\n",
      "[0]\n"
     ]
    }
   ],
   "source": [
    "# 153. Write a NumPy program to extract upper triangular part of a NumPy matrix. \n",
    "\n",
    "x = np.arange(12).reshape(4,3)\n",
    "print(x)\n",
    "#print(np.triu(x))      #upper triangular part of the matrix x\n",
    "print(x[np.triu_indices(3)])   #indices of upper triangular part of the matrix x till 3 indices\n",
    "print(x[np.triu_indices(2)])   #indices of upper triangular part of the matrix x till 2 indices\n",
    "print(x[np.triu_indices(1)])   #indices of upper triangular part of the matrix x till 1 index"
   ]
  },
  {
   "cell_type": "code",
   "execution_count": 32,
   "metadata": {},
   "outputs": [
    {
     "name": "stdout",
     "output_type": "stream",
     "text": [
      "[[ 1  2  3]\n",
      " [ 4  5  6]\n",
      " [ 7  8  9]\n",
      " [10 11 12]]\n",
      "[[ 1  2  3]\n",
      " [ 4  5  6]\n",
      " [ 0  8  9]\n",
      " [ 0  0 12]]\n"
     ]
    }
   ],
   "source": [
    "# 154. Write a NumPy program to get a copy of a matrix with the elements below the k-th diagonal zeroed.\n",
    "\n",
    "x = np.arange(1,13).reshape(4,3)\n",
    "print(x)\n",
    "print(np.triu(x,-1))"
   ]
  },
  {
   "cell_type": "code",
   "execution_count": 36,
   "metadata": {},
   "outputs": [
    {
     "name": "stdout",
     "output_type": "stream",
     "text": [
      "[[ 1  2  3]\n",
      " [ 4  5  6]\n",
      " [ 7  8  9]\n",
      " [10 11 12]]\n",
      "[[1, 2, 3], [4, 5, 6], [7, 8, 9], [10, 11, 12]]\n",
      "True\n",
      "False\n"
     ]
    }
   ],
   "source": [
    "# 155. Write a NumPy program to check whether a Numpy array contains a specified row. \n",
    "\n",
    "x = np.arange(1,13).reshape(4,3)\n",
    "print(x)\n",
    "#print(x.tolist())   #converts the array x to a list of lists format\n",
    "print([4,5,6] in x.tolist())  #checking whether the given list is present in the list of lists that is x\n",
    "print([0,1,2] in x.tolist())"
   ]
  },
  {
   "cell_type": "code",
   "execution_count": 42,
   "metadata": {},
   "outputs": [
    {
     "name": "stdout",
     "output_type": "stream",
     "text": [
      "[[ 1.  2. nan  3.]\n",
      " [nan  2.  0.  9.]\n",
      " [ 1.  8.  6.  7.]]\n",
      "[2.         3.66666667 5.5       ]\n",
      "[1.         4.         3.         6.33333333]\n",
      "3.9\n"
     ]
    }
   ],
   "source": [
    "# 156. Write a NumPy program to calculate averages without NaNs along a given array. \n",
    "\n",
    "x = np.array([[1,2,np.NaN,3],[np.NaN,2,0,9],[1,8,6,7]])\n",
    "print(x)\n",
    "print(np.nanmean(x, axis=1))\n",
    "print(np.nanmean(x, axis=0))\n",
    "print(np.nanmean(x))"
   ]
  },
  {
   "cell_type": "code",
   "execution_count": 46,
   "metadata": {},
   "outputs": [
    {
     "name": "stdout",
     "output_type": "stream",
     "text": [
      "[ 1.   2.   3.   4.   9.   0.  -1.   3.  -4.   1.5  4.  -3. ]\n",
      "[[ 1.   2.   3. ]\n",
      " [ 4.   9.   0. ]\n",
      " [-1.   3.  -4. ]\n",
      " [ 1.5  4.  -3. ]]\n",
      "[ 2.          4.33333333 -0.66666667  0.83333333]\n"
     ]
    }
   ],
   "source": [
    "# 157. Write a NumPy program to create a new array which is the average of every consecutive triplet of \n",
    "# elements of a given array.\n",
    "\n",
    "x = np.array([1,2,3,4,9,0,-1,3,-4,1.5,4,-3])\n",
    "print(x)\n",
    "y = x.reshape((-1,3))    #reshaping the array as we need 3 consecutive triplets \n",
    "print(y) \n",
    "print(np.mean(y, axis=1))  \n",
    "#now using axis=1 will find the mean of the consecutive triplet along the rows and written an array as required in the question"
   ]
  },
  {
   "cell_type": "code",
   "execution_count": 50,
   "metadata": {},
   "outputs": [
    {
     "name": "stdout",
     "output_type": "stream",
     "text": [
      "[[ 0  1  2  3]\n",
      " [ 4  5  6  7]\n",
      " [ 8  9 10 11]]\n",
      "[[13 14 15 16]\n",
      " [17 18 19 20]\n",
      " [21 22 23 24]]\n",
      "[[ 6.5  7.5  8.5  9.5]\n",
      " [10.5 11.5 12.5 13.5]\n",
      " [14.5 15.5 16.5 17.5]]\n"
     ]
    }
   ],
   "source": [
    "# 158. Write a NumPy program to calculate average values of two given NumPy arrays.\n",
    "\n",
    "x = np.arange(12).reshape(3,4)\n",
    "print(x)\n",
    "y = np.arange(13,25).reshape(3,4)\n",
    "print(y)\n",
    "print((x+y)/2)"
   ]
  },
  {
   "cell_type": "code",
   "execution_count": 56,
   "metadata": {},
   "outputs": [
    {
     "name": "stdout",
     "output_type": "stream",
     "text": [
      "[[10 11 13 15 91]\n",
      " [34 13 67 45 11]]\n",
      "\n",
      "[[11 15 10 91 13]\n",
      " [13 45 34 11 67]]\n"
     ]
    }
   ],
   "source": [
    "# 159. Write a NumPy program to rearrange columns of a given NumPy 2D array using given index positions. \n",
    "\n",
    "x = np.array([[10,11,13,15,91],[34,13,67,45,11]])\n",
    "print(x)\n",
    "print()\n",
    "i = [1,3,0,4,2]\n",
    "print(x[:,i])    #order of columns is i and the order of rows remain the same as in original array"
   ]
  },
  {
   "cell_type": "code",
   "execution_count": 70,
   "metadata": {},
   "outputs": [
    {
     "name": "stdout",
     "output_type": "stream",
     "text": [
      "[5 6 0 2 9 8]\n",
      "[2 3 0 1 5 4]\n",
      "[2 3 0]\n",
      "[0 2 5]\n"
     ]
    }
   ],
   "source": [
    "# 160. Write a NumPy program to find the k smallest values of a given NumPy array. \n",
    "\n",
    "x = np.array([5,6,0,2,9,8])\n",
    "print(x)\n",
    "k = 3\n",
    "print(np.argsort(x))  #sorting all the elements of the array\n",
    "print(np.argsort(x)[:k])  #returning indices of the first k\n",
    "print(x[np.argsort(x)[:k]])  #returning elements at those k indices"
   ]
  },
  {
   "cell_type": "code",
   "execution_count": null,
   "metadata": {},
   "outputs": [],
   "source": []
  },
  {
   "cell_type": "code",
   "execution_count": null,
   "metadata": {},
   "outputs": [],
   "source": []
  }
 ],
 "metadata": {
  "kernelspec": {
   "display_name": "Python 3",
   "language": "python",
   "name": "python3"
  },
  "language_info": {
   "codemirror_mode": {
    "name": "ipython",
    "version": 3
   },
   "file_extension": ".py",
   "mimetype": "text/x-python",
   "name": "python",
   "nbconvert_exporter": "python",
   "pygments_lexer": "ipython3",
   "version": "3.7.4"
  }
 },
 "nbformat": 4,
 "nbformat_minor": 2
}

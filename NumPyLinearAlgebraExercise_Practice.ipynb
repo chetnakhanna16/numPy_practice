{
 "cells": [
  {
   "cell_type": "code",
   "execution_count": 1,
   "metadata": {},
   "outputs": [],
   "source": [
    "import numpy as np"
   ]
  },
  {
   "cell_type": "code",
   "execution_count": 2,
   "metadata": {},
   "outputs": [
    {
     "name": "stdout",
     "output_type": "stream",
     "text": [
      "[[1, 2], [3, 4]]\n",
      "[[0, 4], [3, 6]]\n",
      "[[ 6 16]\n",
      " [12 36]]\n"
     ]
    }
   ],
   "source": [
    "# 1. Write a NumPy program to compute the multiplication of two given matrixes. \n",
    "\n",
    "x = [[1,2],[3,4]]\n",
    "y = [[0,4],[3,6]]\n",
    "print(x)\n",
    "print(y)\n",
    "print(np.dot(x,y))"
   ]
  },
  {
   "cell_type": "code",
   "execution_count": 3,
   "metadata": {},
   "outputs": [
    {
     "name": "stdout",
     "output_type": "stream",
     "text": [
      "[[ 0  4  3  6]\n",
      " [ 0  8  6 12]\n",
      " [ 0 12  9 18]\n",
      " [ 0 16 12 24]]\n"
     ]
    }
   ],
   "source": [
    "# 2. Write a NumPy program to compute the outer product of two given vectors.\n",
    "\n",
    "x = [[1,2],[3,4]]\n",
    "y = [[0,4],[3,6]]\n",
    "print(np.outer(x,y))"
   ]
  },
  {
   "cell_type": "code",
   "execution_count": 4,
   "metadata": {},
   "outputs": [
    {
     "name": "stdout",
     "output_type": "stream",
     "text": [
      "[4 6]\n",
      "[-4 -6]\n"
     ]
    }
   ],
   "source": [
    "# 3. Write a NumPy program to compute the cross product of two given vectors.\n",
    "\n",
    "x = [[1,2],[3,4]]\n",
    "y = [[0,4],[3,6]]\n",
    "print(np.cross(x,y))\n",
    "print(np.cross(y,x))"
   ]
  },
  {
   "cell_type": "code",
   "execution_count": 5,
   "metadata": {},
   "outputs": [
    {
     "name": "stdout",
     "output_type": "stream",
     "text": [
      "-2.0000000000000004\n"
     ]
    }
   ],
   "source": [
    "# 4. Write a NumPy program to compute the determinant of a given square array. \n",
    "\n",
    "from numpy import linalg\n",
    "\n",
    "x = [[1,2],[3,4]]\n",
    "print(np.linalg.det(x))"
   ]
  },
  {
   "cell_type": "code",
   "execution_count": 6,
   "metadata": {},
   "outputs": [
    {
     "name": "stdout",
     "output_type": "stream",
     "text": [
      "22\n",
      "41\n"
     ]
    }
   ],
   "source": [
    "# 5. Write a NumPy program to evaluate Einstein's summation convention of two given multidimensional arrays. \n",
    "\n",
    "x = [1,2,5,7]\n",
    "y = [3,6,0,1]\n",
    "print(np.einsum('n,n', x,y))\n",
    "\n",
    "a = [[1,2],[3,4]]\n",
    "b = [[0,4],[3,6]]\n",
    "print(np.einsum('nk,nk', a,b))"
   ]
  },
  {
   "cell_type": "code",
   "execution_count": 7,
   "metadata": {},
   "outputs": [
    {
     "name": "stdout",
     "output_type": "stream",
     "text": [
      "22\n",
      "[[ 8 15]\n",
      " [16 33]]\n"
     ]
    }
   ],
   "source": [
    "# 6. Write a NumPy program to compute the inner product of vectors for 1-D arrays (without complex conjugation) and \n",
    "# in higher dimension.\n",
    "\n",
    "x = [1,2,5,7]\n",
    "y = [3,6,0,1]\n",
    "print(np.inner(x,y))\n",
    "\n",
    "a = [[1,2],[3,4]]\n",
    "b = [[0,4],[3,6]]\n",
    "print(np.inner(a,b))"
   ]
  },
  {
   "cell_type": "code",
   "execution_count": 8,
   "metadata": {},
   "outputs": [
    {
     "name": "stdout",
     "output_type": "stream",
     "text": [
      "(array([-0.37228132,  5.37228132]), array([[-0.82456484, -0.41597356],\n",
      "       [ 0.56576746, -0.90937671]]))\n"
     ]
    }
   ],
   "source": [
    "# 7. Write a NumPy program to compute the eigenvalues and right eigenvectors of a given square array. \n",
    "\n",
    "x = [[1,2],[3,4]]\n",
    "print(np.linalg.eig(x))"
   ]
  },
  {
   "cell_type": "code",
   "execution_count": 9,
   "metadata": {},
   "outputs": [
    {
     "name": "stdout",
     "output_type": "stream",
     "text": [
      "[ 3  6  0  1  6 12  0  2 15 30  0  5 21 42  0  7]\n",
      "[[ 0  4  0  8]\n",
      " [ 3  6  6 12]\n",
      " [ 0 12  0 16]\n",
      " [ 9 18 12 24]]\n"
     ]
    }
   ],
   "source": [
    "# 8. Write a NumPy program to compute the Kronecker product of two given mulitdimension arrays.\n",
    "\n",
    "x = [1,2,5,7]\n",
    "y = [3,6,0,1]\n",
    "print(np.kron(x,y))\n",
    "\n",
    "a = [[1,2],[3,4]]\n",
    "b = [[0,4],[3,6]]\n",
    "print(np.kron(a,b))"
   ]
  },
  {
   "cell_type": "code",
   "execution_count": 10,
   "metadata": {},
   "outputs": [
    {
     "name": "stdout",
     "output_type": "stream",
     "text": [
      "14.933034373659265\n"
     ]
    }
   ],
   "source": [
    "# 9. Write a NumPy program to compute the condition number of a given matrix.\n",
    "\n",
    "x = [[1,2],[3,4]]\n",
    "print(np.linalg.cond(x))"
   ]
  },
  {
   "cell_type": "code",
   "execution_count": 11,
   "metadata": {},
   "outputs": [
    {
     "name": "stdout",
     "output_type": "stream",
     "text": [
      "Vector norm: 8.888194417315589\n",
      "Matrix norm: 5.477225575051661\n"
     ]
    }
   ],
   "source": [
    "# 10. Write a NumPy program to find a matrix or vector norm.\n",
    "\n",
    "x = [1,2,5,7]\n",
    "print(\"Vector norm:\", np.linalg.norm(x))\n",
    "\n",
    "a = [[1,2],[3,4]]\n",
    "print(\"Matrix norm:\", np.linalg.norm(a))"
   ]
  },
  {
   "cell_type": "code",
   "execution_count": 12,
   "metadata": {},
   "outputs": [
    {
     "name": "stdout",
     "output_type": "stream",
     "text": [
      "-2.0000000000000004\n"
     ]
    }
   ],
   "source": [
    "# 11. Write a NumPy program to compute the determinant of an array. \n",
    "\n",
    "x = [[1,2],[3,4]]\n",
    "print(np.linalg.det(x))"
   ]
  },
  {
   "cell_type": "code",
   "execution_count": 13,
   "metadata": {},
   "outputs": [
    {
     "name": "stdout",
     "output_type": "stream",
     "text": [
      "[[-2.   1. ]\n",
      " [ 1.5 -0.5]]\n"
     ]
    }
   ],
   "source": [
    "# 12. Write a NumPy program to compute the inverse of a given matrix.\n",
    "\n",
    "x = [[1,2],[3,4]]\n",
    "print(np.linalg.inv(x))"
   ]
  },
  {
   "cell_type": "code",
   "execution_count": 14,
   "metadata": {},
   "outputs": [
    {
     "name": "stdout",
     "output_type": "stream",
     "text": [
      "q =\n",
      " [[-0.31622777 -0.9486833 ]\n",
      " [-0.9486833   0.31622777]] \n",
      "r =\n",
      " [[-3.16227766 -4.42718872]\n",
      " [ 0.         -0.63245553]]\n"
     ]
    }
   ],
   "source": [
    "# 13. Write a NumPy program to calculate the QR decomposition of a given matrix. \n",
    "\n",
    "x = [[1,2],[3,4]]\n",
    "q, r = np.linalg.qr(x)\n",
    "print( \"q =\\n\", q, \"\\nr =\\n\", r)"
   ]
  },
  {
   "cell_type": "code",
   "execution_count": 15,
   "metadata": {},
   "outputs": [
    {
     "name": "stdout",
     "output_type": "stream",
     "text": [
      "14.933034373659265\n"
     ]
    }
   ],
   "source": [
    "# 14. Write a NumPy program to compute the condition number of a given matrix.\n",
    "\n",
    "x = [[1,2],[3,4]]\n",
    "print(np.linalg.cond(x))"
   ]
  },
  {
   "cell_type": "code",
   "execution_count": 16,
   "metadata": {},
   "outputs": [
    {
     "name": "stdout",
     "output_type": "stream",
     "text": [
      "5\n",
      "13\n"
     ]
    }
   ],
   "source": [
    "# 15. Write a NumPy program to compute the sum of the diagonal element of a given array.\n",
    "\n",
    "x = [[1,2],[3,4]]\n",
    "print(np.trace(x))\n",
    "\n",
    "y = [[1,2,2],[3,4,0],[7,9,8]]\n",
    "print(np.trace(y))"
   ]
  },
  {
   "cell_type": "code",
   "execution_count": 17,
   "metadata": {},
   "outputs": [
    {
     "name": "stdout",
     "output_type": "stream",
     "text": [
      "[[ 2.  0.  0.]\n",
      " [ 6.  1.  0.]\n",
      " [-8. -5.  3.]]\n"
     ]
    }
   ],
   "source": [
    "# 16. Write a NumPy program to get the lower-triangular L in the Cholesky decomposition of a given array.\n",
    "\n",
    "a = np.array([[4, 12, -16], [12, 37, -53], [-16, -53, 98]], dtype=np.int32)\n",
    "print(np.linalg.cholesky(a))"
   ]
  },
  {
   "cell_type": "code",
   "execution_count": 18,
   "metadata": {},
   "outputs": [
    {
     "name": "stdout",
     "output_type": "stream",
     "text": [
      "q =\n",
      " [[-0.31622777 -0.9486833 ]\n",
      " [-0.9486833   0.31622777]] \n",
      "r =\n",
      " [[-3.16227766 -4.42718872]\n",
      " [ 0.         -0.63245553]]\n"
     ]
    }
   ],
   "source": [
    "# 17. Write a NumPy program to get the qr factorization of a given array. \n",
    "\n",
    "x = [[1,2],[3,4]]\n",
    "q, r = np.linalg.qr(x)\n",
    "print( \"q =\\n\", q, \"\\nr =\\n\", r)"
   ]
  },
  {
   "cell_type": "code",
   "execution_count": 19,
   "metadata": {},
   "outputs": [
    {
     "name": "stdout",
     "output_type": "stream",
     "text": [
      "U =\n",
      " [[-0.15366711 -0.34436858  0.92617315]\n",
      " [-0.49718558 -0.78306599 -0.37364979]\n",
      " [ 0.85392794 -0.51789761 -0.0508836 ]] \n",
      "s =\n",
      " [1.31737635e+02 7.22453921e+00 3.78253090e-02] \n",
      "V =\n",
      " [[-0.15366711 -0.49718558  0.85392794]\n",
      " [-0.34436858 -0.78306599 -0.51789761]\n",
      " [ 0.92617315 -0.37364979 -0.0508836 ]]\n"
     ]
    }
   ],
   "source": [
    "# 18. Write a NumPy program to compute the factor of a given array by Singular Value Decomposition.\n",
    "\n",
    "x = [[1,2],[3,4]]\n",
    "U, s, V = np.linalg.svd(a, full_matrices=False)\n",
    "print(\"U =\\n\", U, \"\\ns =\\n\", s, \"\\nV =\\n\", V)"
   ]
  },
  {
   "cell_type": "code",
   "execution_count": 20,
   "metadata": {},
   "outputs": [
    {
     "name": "stdout",
     "output_type": "stream",
     "text": [
      "5.477225575051661\n",
      "14.933034373659265\n"
     ]
    }
   ],
   "source": [
    "# 19. Write a NumPy program to calculate the Frobenius norm and the condition number of a given array.\n",
    "\n",
    "x = [[1,2],[3,4]]\n",
    "print(np.linalg.norm(x, 'fro'))\n",
    "print(np.linalg.cond(x))"
   ]
  }
 ],
 "metadata": {
  "kernelspec": {
   "display_name": "Python 3",
   "language": "python",
   "name": "python3"
  },
  "language_info": {
   "codemirror_mode": {
    "name": "ipython",
    "version": 3
   },
   "file_extension": ".py",
   "mimetype": "text/x-python",
   "name": "python",
   "nbconvert_exporter": "python",
   "pygments_lexer": "ipython3",
   "version": "3.7.4"
  }
 },
 "nbformat": 4,
 "nbformat_minor": 2
}

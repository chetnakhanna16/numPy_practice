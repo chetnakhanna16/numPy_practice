{
 "cells": [
  {
   "cell_type": "code",
   "execution_count": 17,
   "metadata": {},
   "outputs": [],
   "source": [
    "import numpy as np"
   ]
  },
  {
   "cell_type": "code",
   "execution_count": 8,
   "metadata": {},
   "outputs": [
    {
     "name": "stdout",
     "output_type": "stream",
     "text": [
      "[0 1 2 3]\n",
      "0\n",
      "3\n",
      "[[0 1]\n",
      " [2 3]\n",
      " [4 5]]\n",
      "0\n",
      "5\n"
     ]
    }
   ],
   "source": [
    "# 1. Write a Python program to find the maximum and minimum value of a given flattened array. \n",
    "\n",
    "x = np.arange(4)\n",
    "print(x)\n",
    "print(x.min())\n",
    "print(x.max())\n",
    "\n",
    "y = np.arange(6).reshape((3,2))\n",
    "print(y)\n",
    "print(y.min())\n",
    "print(y.max())"
   ]
  },
  {
   "cell_type": "code",
   "execution_count": 12,
   "metadata": {},
   "outputs": [
    {
     "name": "stdout",
     "output_type": "stream",
     "text": [
      "[[9 8]\n",
      " [2 3]\n",
      " [1 5]]\n",
      "[8 2 1]\n",
      "[9 3 5]\n"
     ]
    }
   ],
   "source": [
    "# 2. Write a NumPy program to get the minimum and maximum value of a given array along the second axis.\n",
    "\n",
    "y = np.array([9,8,2,3,1,5]).reshape((3,2))\n",
    "print(y)\n",
    "print(y.min(axis=1))\n",
    "print(y.max(axis=1))"
   ]
  },
  {
   "cell_type": "code",
   "execution_count": 13,
   "metadata": {},
   "outputs": [
    {
     "name": "stdout",
     "output_type": "stream",
     "text": [
      "[[9 8 2]\n",
      " [3 1 5]]\n",
      "[7 4]\n"
     ]
    }
   ],
   "source": [
    "# 3. Write a NumPy program to calculate the difference between the maximum and the minimum values of a given array \n",
    "# along the second axis.\n",
    "\n",
    "y = np.array([9,8,2,3,1,5]).reshape((2,3))\n",
    "print(y)\n",
    "print(y.max(axis=1) - y.min(axis=1))"
   ]
  },
  {
   "cell_type": "code",
   "execution_count": 14,
   "metadata": {},
   "outputs": [
    {
     "name": "stdout",
     "output_type": "stream",
     "text": [
      "[[9 8 2]\n",
      " [3 1 5]]\n",
      "[8.6 4.2]\n"
     ]
    }
   ],
   "source": [
    "# 4. Write a NumPy program to compute the 80th percentile for all elements in a given array along the second axis. \n",
    "\n",
    "y = np.array([9,8,2,3,1,5]).reshape((2,3))\n",
    "print(y)\n",
    "print(np.percentile(y, 80, 1))"
   ]
  },
  {
   "cell_type": "code",
   "execution_count": 16,
   "metadata": {},
   "outputs": [
    {
     "name": "stdout",
     "output_type": "stream",
     "text": [
      "[[0 1]\n",
      " [2 3]\n",
      " [4 5]]\n",
      "2.5\n"
     ]
    }
   ],
   "source": [
    "# 5. Write a NumPy program to compute the median of flattened given array. \n",
    "\n",
    "y = np.arange(6).reshape((3,2))\n",
    "print(y)\n",
    "print(np.median(y))"
   ]
  },
  {
   "cell_type": "code",
   "execution_count": 24,
   "metadata": {},
   "outputs": [
    {
     "name": "stdout",
     "output_type": "stream",
     "text": [
      "[0 1 2 3 4]\n",
      "2.4705882352941178\n"
     ]
    }
   ],
   "source": [
    "# 6. Write a NumPy program to compute the weighted average of a given array. \n",
    "\n",
    "x = np.arange(5)\n",
    "print(x)\n",
    "\n",
    "#providing some random weights to the numpy array\n",
    "print(np.average(x, weights=[0.1,0.2,0.5,0.6,0.3]))"
   ]
  },
  {
   "cell_type": "code",
   "execution_count": 28,
   "metadata": {},
   "outputs": [
    {
     "name": "stdout",
     "output_type": "stream",
     "text": [
      "[[0 1 2]\n",
      " [3 4 5]]\n",
      "[1. 4.]\n",
      "[0.81649658 0.81649658]\n",
      "[0.66666667 0.66666667]\n"
     ]
    }
   ],
   "source": [
    "# 7. Write a NumPy program to compute the mean, standard deviation, and variance of a given array along the second axis.\n",
    "\n",
    "y = np.arange(6).reshape((2,3))\n",
    "print(y)\n",
    "print(np.mean(y, axis=1))\n",
    "print(np.std(y, axis=1))\n",
    "print(np.var(y, axis=1))"
   ]
  },
  {
   "cell_type": "code",
   "execution_count": 33,
   "metadata": {},
   "outputs": [
    {
     "name": "stdout",
     "output_type": "stream",
     "text": [
      "[0 1 2 3 4 5]\n",
      "[7 9 0 1 2 6]\n",
      "[[ 3.5        -2.5       ]\n",
      " [-2.5        13.36666667]]\n"
     ]
    }
   ],
   "source": [
    "# 8. Write a NumPy program to compute the covariance matrix of two given arrays.\n",
    "\n",
    "x = np.arange(6)\n",
    "print(x)\n",
    "\n",
    "y = np.array([7,9,0,1,2,6])\n",
    "print(y)\n",
    "\n",
    "#covariance matrix is a square matrix giving covariance between each pair of elements\n",
    "print(np.cov(x,y))"
   ]
  },
  {
   "cell_type": "code",
   "execution_count": 37,
   "metadata": {},
   "outputs": [
    {
     "name": "stdout",
     "output_type": "stream",
     "text": [
      "[0 1 2 3 4 5]\n",
      "[7 9 0 1 2 6]\n",
      "[50]\n"
     ]
    }
   ],
   "source": [
    "# 9. Write a NumPy program to compute cross-correlation of two given arrays.\n",
    "\n",
    "x = np.arange(6)\n",
    "print(x)\n",
    "\n",
    "y = np.array([7,9,0,1,2,6])\n",
    "print(y)\n",
    "\n",
    "#cross-correlation refers to the correlation between the entries of two independent random variables/vectors (X & Y)\n",
    "print(np.correlate(x,y))"
   ]
  },
  {
   "cell_type": "code",
   "execution_count": 38,
   "metadata": {},
   "outputs": [
    {
     "name": "stdout",
     "output_type": "stream",
     "text": [
      "[0 1 2 3 4 5]\n",
      "[7 9 0 1 2 6]\n",
      "[[ 1.         -0.36550593]\n",
      " [-0.36550593  1.        ]]\n"
     ]
    }
   ],
   "source": [
    "# 10. Write a NumPy program to compute pearson product-moment correlation coefficients of two given arrays.\n",
    "\n",
    "x = np.arange(6)\n",
    "print(x)\n",
    "\n",
    "y = np.array([7,9,0,1,2,6])\n",
    "print(y)\n",
    "\n",
    "#Pearson product-moment correlation coefficients is the measure of the strength of the linear relationship between two variables\n",
    "print(np.corrcoef(x,y))"
   ]
  },
  {
   "cell_type": "code",
   "execution_count": 53,
   "metadata": {},
   "outputs": [
    {
     "name": "stdout",
     "output_type": "stream",
     "text": [
      "True\n",
      "True\n",
      "False\n",
      "False\n",
      "False\n",
      "False\n",
      "True\n",
      "True\n",
      "True\n",
      "False\n",
      "[ True False False]\n",
      "False\n",
      "True\n",
      "True\n"
     ]
    }
   ],
   "source": [
    "# 11. Write a NumPy program to test element-wise of a given array for finiteness (not infinity or not Not a Number), \n",
    "# positive or negative infinity, for NaN, for NaT (not a time), for negative infinity, for positive infinity.\n",
    "\n",
    "print(np.isfinite(1))\n",
    "print(np.isfinite(0))\n",
    "print(np.isfinite(np.nan))\n",
    "\n",
    "print(np.isinf(1))\n",
    "print(np.isinf(0))\n",
    "print(np.isinf(np.nan))\n",
    "print(np.isinf(np.inf))\n",
    "print(np.isinf(np.NINF))\n",
    "\n",
    "print(np.isnan(np.nan))\n",
    "print(np.isnan(1))\n",
    "\n",
    "print(np.isnat(np.array([\"NaT\", \"2020-01-08\", \"2020-04\"], dtype=\"datetime64[ns]\")))\n",
    "\n",
    "print(np.isneginf(-1))\n",
    "print(np.isneginf(-np.inf))\n",
    "\n",
    "print(np.isposinf(np.inf - 7))"
   ]
  },
  {
   "cell_type": "code",
   "execution_count": 58,
   "metadata": {},
   "outputs": [
    {
     "name": "stdout",
     "output_type": "stream",
     "text": [
      "[[1 8 9]\n",
      " [2 5 4]]\n",
      "[7.33333333 4.        ]\n",
      "[1.66666667 6.         5.66666667]\n"
     ]
    }
   ],
   "source": [
    "# 12. Write a Python NumPy program to compute the weighted average along the specified axis of a given flattened array. \n",
    "\n",
    "x = np.array([1,8,9,2,5,4]).reshape(2,3)\n",
    "print(x)\n",
    "\n",
    "#providing some random weights to the numpy array\n",
    "print(np.average(x, weights=[0.1,0.2,0.3], axis=1))\n",
    "print(np.average(x, weights=[0.1,0.2], axis=0))"
   ]
  },
  {
   "cell_type": "code",
   "execution_count": 60,
   "metadata": {},
   "outputs": [
    {
     "name": "stdout",
     "output_type": "stream",
     "text": [
      "[9 8 9 2 5 2]\n",
      "[0 0 2 0 0 1 0 0 1 2]\n"
     ]
    }
   ],
   "source": [
    "# 13. Write a Python program to count number of occurrences of each value in a given array of non-negative integers.\n",
    "\n",
    "x = np.array([9,8,9,2,5,2])\n",
    "print(x)\n",
    "\n",
    "#bincount returns the number of occurences of each value staring from 0 to the largest value in the array\n",
    "#here the largest element is 9, so total number of elements returned by bin count is 10 (0 to 9)\n",
    "print(np.bincount(x))"
   ]
  },
  {
   "cell_type": "code",
   "execution_count": 65,
   "metadata": {},
   "outputs": [
    {
     "data": {
      "text/plain": [
       "(array([1., 1., 1., 1., 1., 1.]),\n",
       " array([0, 1, 2, 3, 4, 5, 6]),\n",
       " <a list of 6 Patch objects>)"
      ]
     },
     "execution_count": 65,
     "metadata": {},
     "output_type": "execute_result"
    },
    {
     "data": {
      "image/png": "[encoded data removed]",
      "text/plain": [
       "<Figure size 432x288 with 1 Axes>"
      ]
     },
     "metadata": {
      "needs_background": "light"
     },
     "output_type": "display_data"
    }
   ],
   "source": [
    "# 14. Write a NumPy program to compute the histogram of nums against the bins. \n",
    "\n",
    "import matplotlib.pyplot as plt\n",
    "\n",
    "nums = np.array([6,0,3,4,7,1,2])\n",
    "bins = np.array([0,1,2,3,4,5,6])\n",
    "\n",
    "plt.hist(nums, bins)\n"
   ]
  },
  {
   "cell_type": "code",
   "execution_count": null,
   "metadata": {},
   "outputs": [],
   "source": []
  }
 ],
 "metadata": {
  "kernelspec": {
   "display_name": "Python 3",
   "language": "python",
   "name": "python3"
  },
  "language_info": {
   "codemirror_mode": {
    "name": "ipython",
    "version": 3
   },
   "file_extension": ".py",
   "mimetype": "text/x-python",
   "name": "python",
   "nbconvert_exporter": "python",
   "pygments_lexer": "ipython3",
   "version": "3.7.4"
  }
 },
 "nbformat": 4,
 "nbformat_minor": 2
}

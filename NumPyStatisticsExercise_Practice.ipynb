{
 "cells": [
  {
   "cell_type": "code",
   "execution_count": 2,
   "metadata": {},
   "outputs": [],
   "source": [
    "import numpy as np"
   ]
  },
  {
   "cell_type": "code",
   "execution_count": 8,
   "metadata": {},
   "outputs": [
    {
     "name": "stdout",
     "output_type": "stream",
     "text": [
      "[0 1 2 3]\n",
      "0\n",
      "3\n",
      "[[0 1]\n",
      " [2 3]\n",
      " [4 5]]\n",
      "0\n",
      "5\n"
     ]
    }
   ],
   "source": [
    "# 1. Write a Python program to find the maximum and minimum value of a given flattened array. \n",
    "\n",
    "x = np.arange(4)\n",
    "print(x)\n",
    "print(x.min())\n",
    "print(x.max())\n",
    "\n",
    "y = np.arange(6).reshape((3,2))\n",
    "print(y)\n",
    "print(y.min())\n",
    "print(y.max())"
   ]
  },
  {
   "cell_type": "code",
   "execution_count": 12,
   "metadata": {},
   "outputs": [
    {
     "name": "stdout",
     "output_type": "stream",
     "text": [
      "[[9 8]\n",
      " [2 3]\n",
      " [1 5]]\n",
      "[8 2 1]\n",
      "[9 3 5]\n"
     ]
    }
   ],
   "source": [
    "# 2. Write a NumPy program to get the minimum and maximum value of a given array along the second axis.\n",
    "\n",
    "y = np.array([9,8,2,3,1,5]).reshape((3,2))\n",
    "print(y)\n",
    "print(y.min(axis=1))\n",
    "print(y.max(axis=1))"
   ]
  },
  {
   "cell_type": "code",
   "execution_count": 13,
   "metadata": {},
   "outputs": [
    {
     "name": "stdout",
     "output_type": "stream",
     "text": [
      "[[9 8 2]\n",
      " [3 1 5]]\n",
      "[7 4]\n"
     ]
    }
   ],
   "source": [
    "# 3. Write a NumPy program to calculate the difference between the maximum and the minimum values of a given array \n",
    "# along the second axis.\n",
    "\n",
    "y = np.array([9,8,2,3,1,5]).reshape((2,3))\n",
    "print(y)\n",
    "print(y.max(axis=1) - y.min(axis=1))"
   ]
  },
  {
   "cell_type": "code",
   "execution_count": 14,
   "metadata": {},
   "outputs": [
    {
     "name": "stdout",
     "output_type": "stream",
     "text": [
      "[[9 8 2]\n",
      " [3 1 5]]\n",
      "[8.6 4.2]\n"
     ]
    }
   ],
   "source": [
    "# 4. Write a NumPy program to compute the 80th percentile for all elements in a given array along the second axis. \n",
    "\n",
    "y = np.array([9,8,2,3,1,5]).reshape((2,3))\n",
    "print(y)\n",
    "print(np.percentile(y, 80, 1))"
   ]
  },
  {
   "cell_type": "code",
   "execution_count": 16,
   "metadata": {},
   "outputs": [
    {
     "name": "stdout",
     "output_type": "stream",
     "text": [
      "[[0 1]\n",
      " [2 3]\n",
      " [4 5]]\n",
      "2.5\n"
     ]
    }
   ],
   "source": [
    "# 5. Write a NumPy program to compute the median of flattened given array. \n",
    "\n",
    "y = np.arange(6).reshape((3,2))\n",
    "print(y)\n",
    "print(np.median(y))"
   ]
  },
  {
   "cell_type": "code",
   "execution_count": null,
   "metadata": {},
   "outputs": [],
   "source": [
    "# 6. Write a NumPy program to compute the weighted of a given array. \n",
    "\n"
   ]
  }
 ],
 "metadata": {
  "kernelspec": {
   "display_name": "Python 3",
   "language": "python",
   "name": "python3"
  },
  "language_info": {
   "codemirror_mode": {
    "name": "ipython",
    "version": 3
   },
   "file_extension": ".py",
   "mimetype": "text/x-python",
   "name": "python",
   "nbconvert_exporter": "python",
   "pygments_lexer": "ipython3",
   "version": "3.7.4"
  }
 },
 "nbformat": 4,
 "nbformat_minor": 2
}
